{
 "cells": [
  {
   "cell_type": "markdown",
   "id": "477cb54f-8894-4f6f-b3f2-f78ec8405940",
   "metadata": {},
   "source": [
    "<font size=8><center> Preprocessors </center></font>"
   ]
  },
  {
   "cell_type": "markdown",
   "id": "6076563c-678a-4d98-af22-ad805e56de42",
   "metadata": {},
   "source": [
    "Goal - create a function that: \n",
    "- accepts a dictionary of byte files in format {\"filename\":bytes}\n",
    "- create \"filenames\" list of dict keys\n",
    "- creates \"tiles\" array\n",
    "- gets images from byte files\n",
    "- resizes images to (675,675,3), tiles into 9\n",
    "- converts tiles to arrays and saves in \"tiles\" array in format [[9 x NumPy arrays],[9 x NumPy arrays]...#num of images]\n",
    "- resizes images to (225,225,3) and converts to NumPy array\n",
    "- reshapes image array to tensor of shape (-1,225,225,3)\n",
    "- appends tensor to list of tensors\n",
    "- returns list of tensors of shape (-1,225,225,3)\n",
    "\n",
    "Tile preprocessing for Model 2\n",
    "- recieves from Model 1 a list of indexes(?) for Model 2 input data\n",
    "- store list of indexes (Important - needed to identify original file!)\n",
    "- for each index i in \"tiles\" array, converts each of the 9 x tiles into tensors of shape (-1,225,225,3)\n",
    "- appends array at index i to list of arrays\n",
    "- returns list of tensors of shape (-1,225,225,3)\n",
    "  \n"
   ]
  },
  {
   "cell_type": "code",
   "execution_count": 3,
   "id": "0140614f-69c7-420f-a41c-8f1f6edc435a",
   "metadata": {},
   "outputs": [],
   "source": [
    "def preprocess(images : dict):\n",
    "    \"\"\"\n",
    "    Predict presence of damage and damage class based on image\n",
    "    \"\"\"\n",
    "    filenames=list.keys()\n",
    "    tile_arrays=[]\n",
    "    tensors=[]\n",
    "    for img in images:\n",
    "        img = get_image_from_bytes(img)\n",
    "        tile_arrays.append(image_to_array(make_tile(img)))\n",
    "        tensors.append(array_to_tensor(image_to_array(img)))\n",
    "\n",
    "    preprocessed_X = {\"filenames\":filenames,\n",
    "                     \"tensors\":tensors,\n",
    "                     \"tile_arrays\":tile_arrays\n",
    "                     }\n",
    "        \n",
    "    return preprocessed_X "
   ]
  },
  {
   "cell_type": "code",
   "execution_count": null,
   "id": "f6c27ce8-2874-4dc9-9e44-d31690293099",
   "metadata": {},
   "outputs": [],
   "source": [
    "input = \"bytes\""
   ]
  },
  {
   "cell_type": "code",
   "execution_count": null,
   "id": "0e784008-3467-42ea-bf5a-ea778925ef0b",
   "metadata": {},
   "outputs": [],
   "source": [
    "def get_image_from_bytes(filename, bytes):\n",
    "    pass"
   ]
  },
  {
   "cell_type": "code",
   "execution_count": 4,
   "id": "2af6fec3-aa78-4930-832c-e6680f48aca6",
   "metadata": {},
   "outputs": [],
   "source": [
    "def make_tile(img):\n",
    "    pass"
   ]
  },
  {
   "cell_type": "code",
   "execution_count": 6,
   "id": "a1825167-5372-42ca-8bef-28d9be30264f",
   "metadata": {},
   "outputs": [],
   "source": [
    "def image_to_array(img):\n",
    "    pass"
   ]
  },
  {
   "cell_type": "code",
   "execution_count": null,
   "id": "532faaa7-1ef9-46c8-b2bf-5a74dbe81815",
   "metadata": {},
   "outputs": [],
   "source": [
    "def array_to_tensor(array)"
   ]
  },
  {
   "cell_type": "code",
   "execution_count": null,
   "id": "99de0814-83c7-4872-9bc7-c9428f8d90dd",
   "metadata": {},
   "outputs": [],
   "source": [
    "\n",
    "        \n",
    "    \n",
    "    \n",
    "    def convert_to_jpeg(filepath):\n",
    "        #Load image\n",
    "        img= Image.open(filepath)\n",
    "        \n",
    "        # Convert the image to RGB mode\n",
    "        img = img.convert(\"RGB\")\n",
    "                \n",
    "        # Save the image in JPEG format as <original filepath>.jpeg to the \"jpeg_tmp\" folder \n",
    "        name = os.path.basename(filepath).replace(\"jpg\", \"jpeg\")\n",
    "        new_filepath = os.path.join(os.getcwd(), \"jpeg_tmp\", name)\n",
    "        img.save(new_filepath, \"JPEG\")\n",
    "                \n",
    "        # Close the image to free resources\n",
    "        img.close()\n",
    "        \n",
    "        #print(\"Image format conversion complete.\")     \n",
    "        return new_filepath\n",
    "\n",
    "    \n",
    "    def file_to_arrays_list(filepath):\n",
    "        '''Converts JPEG files to arrays and appends arrays & filenames to 'arrays' & 'filenames' lists\n",
    "        Appends filenames of unprocessible files to 'invalid' list'''\n",
    "        \n",
    "        image= Image.open(filepath)\n",
    "        image_array=np.array(image)\n",
    "        arrays.append(image_array)\n",
    "\n",
    "\n",
    "    filepaths = []\n",
    "    arrays=[]\n",
    "    invalid = []\n",
    "    \n",
    "    #Gets file paths for input files\n",
    "    for root, dirs, files in os.walk(image_path):\n",
    "        for file in files:\n",
    "            filepath = os.path.join(root, file)\n",
    "            #Ignores macOS hidden system file in directories\n",
    "            if filepath.lower().endswith(\".ds_store\"):\n",
    "                continue\n",
    "            \n",
    "            try:\n",
    "                #Converts JPEG files to arrays and add filepath to 'filepaths' list\n",
    "                if file.lower().endswith(\".jpeg\"):\n",
    "                    file_to_arrays_list(filepath)\n",
    "                    filepaths.append(filepath)\n",
    "                \n",
    "                #Processes non-JPEG image files, converts to arrays and adds original image filepath to 'filepaths' list\n",
    "                else:           \n",
    "                    #Creates jpeg_tmp for converted images if not already created                        \n",
    "                    if not os.path.exists(os.path.join(os.getcwd(), \"jpeg_tmp\")):\n",
    "                            os.makedirs(os.path.join(os.getcwd(), \"jpeg_tmp\"))\n",
    "                \n",
    "                    #Save JPEG to jpeg_tmp with original filepath as name              \n",
    "                    original_filepath=filepath\n",
    "                    filepath = convert_to_jpeg(filepath)\n",
    "                    \n",
    "                    #Converts JPEGs to arrays and adds original image filepath to 'filepaths' list\n",
    "                    file_to_arrays_list(filepath)\n",
    "                    filepaths.append(original_filepath)\n",
    "                    os.remove(filepath)\n",
    "            \n",
    "            except Exception as e:\n",
    "                if file.lower().endswith(\".DS_Store\"):\n",
    "                    continue\n",
    "                else:\n",
    "                    print(\"Error processing:\", filepath)\n",
    "                    print(\"Error:\", e)\n",
    "                    invalid.append(filepath)\n",
    "                    if filepath.lower().endswith(\".ds_store\"):\n",
    "                        print(\"Skipping .DS_Store:\", filepath)   \n",
    "                        print(filepath)\n",
    "                    \n",
    "\n",
    "    print(\"Filepaths list is \"+str(len(filepaths)))\n",
    "    print(\"Arrays list\"+str(len(arrays)))\n",
    "    print(\"Invalid is \"+str(len(invalid)))\n",
    "    \n",
    "    return {'Filename':filepaths, \n",
    "        'Prediction': arrays,\n",
    "           'Errors': invalid}"
   ]
  }
 ],
 "metadata": {
  "kernelspec": {
   "display_name": "Python 3 (ipykernel)",
   "language": "python",
   "name": "python3"
  },
  "language_info": {
   "codemirror_mode": {
    "name": "ipython",
    "version": 3
   },
   "file_extension": ".py",
   "mimetype": "text/x-python",
   "name": "python",
   "nbconvert_exporter": "python",
   "pygments_lexer": "ipython3",
   "version": "3.10.6"
  }
 },
 "nbformat": 4,
 "nbformat_minor": 5
}
