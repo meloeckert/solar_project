{
 "cells": [
  {
   "cell_type": "markdown",
   "id": "c7b977b9-f75c-40b2-915b-a5c46518d919",
   "metadata": {},
   "source": [
    "<font size=8><center> API </center></font>"
   ]
  },
  {
   "cell_type": "markdown",
   "id": "7656c4d3-48df-4b35-b2dc-dfd0e8a3cce0",
   "metadata": {},
   "source": [
    "Target - create an API that: \n",
    "- accepts images as single images (jpg, jpeg, PNG, TIFF), folders of images and URLs\n",
    "- converts images to JPEG format\n",
    "- converts JPEGs to NumPy arrays\n",
    "- creates an input list of NumPy arrays for model\n",
    "- preprocesses input list\n",
    "- makes class predictions based on model"
   ]
  },
  {
   "cell_type": "code",
   "execution_count": 62,
   "id": "8d288a11-7b5c-405e-97d2-4f26e7416272",
   "metadata": {},
   "outputs": [],
   "source": [
    "#from PIL import Image\n",
    "import matplotlib.pyplot as plt\n",
    "import numpy as np\n",
    "import pandas as pd\n",
    "import os\n",
    "\n",
    "\n",
    "#30Aug2023 imports\n",
    "#pip install tensorflow\n",
    "#pip install opencv-python\n",
    "#pip install split-image\n",
    "\n",
    "import cv2\n",
    "from split_image import split_image\n",
    "from tensorflow.keras.utils import img_to_array\n",
    "from tensorflow.keras.models import load_model"
   ]
  },
  {
   "cell_type": "code",
   "execution_count": 2,
   "id": "2e05303b-48d4-4e9f-a33d-fd40a0c7a834",
   "metadata": {},
   "outputs": [],
   "source": [
    "img = \"/Users/leila/code/meloeckert/solar_project/raw_data/Solar panel Image/Electrical-damage/\""
   ]
  },
  {
   "cell_type": "code",
   "execution_count": 14,
   "id": "df8d85f6-1e69-4b72-9dd8-29557f729a02",
   "metadata": {},
   "outputs": [],
   "source": [
    "def process(images : dict(filename:bytes)):\n",
    "    \"\"\"\n",
    "    Predict presence of damage and damage class based on image\n",
    "    \"\"\"\n",
    "    def get_image_from_bytes(filename, bytes):\n",
    "        \n",
    "    \n",
    "    \n",
    "    def convert_to_jpeg(filepath):\n",
    "        #Load image\n",
    "        img= Image.open(filepath)\n",
    "        \n",
    "        # Convert the image to RGB mode\n",
    "        img = img.convert(\"RGB\")\n",
    "                \n",
    "        # Save the image in JPEG format as <original filepath>.jpeg to the \"jpeg_tmp\" folder \n",
    "        name = os.path.basename(filepath).replace(\"jpg\", \"jpeg\")\n",
    "        new_filepath = os.path.join(os.getcwd(), \"jpeg_tmp\", name)\n",
    "        img.save(new_filepath, \"JPEG\")\n",
    "                \n",
    "        # Close the image to free resources\n",
    "        img.close()\n",
    "        \n",
    "        #print(\"Image format conversion complete.\")     \n",
    "        return new_filepath\n",
    "\n",
    "    \n",
    "    def file_to_arrays_list(filepath):\n",
    "        '''Converts JPEG files to arrays and appends arrays & filenames to 'arrays' & 'filenames' lists\n",
    "        Appends filenames of unprocessible files to 'invalid' list'''\n",
    "        \n",
    "        image= Image.open(filepath)\n",
    "        image_array=np.array(image)\n",
    "        arrays.append(image_array)\n",
    "\n",
    "\n",
    "    filepaths = []\n",
    "    arrays=[]\n",
    "    invalid = []\n",
    "    \n",
    "    #Gets file paths for input files\n",
    "    for root, dirs, files in os.walk(image_path):\n",
    "        for file in files:\n",
    "            filepath = os.path.join(root, file)\n",
    "            #Ignores macOS hidden system file in directories\n",
    "            if filepath.lower().endswith(\".ds_store\"):\n",
    "                continue\n",
    "            \n",
    "            try:\n",
    "                #Converts JPEG files to arrays and add filepath to 'filepaths' list\n",
    "                if file.lower().endswith(\".jpeg\"):\n",
    "                    file_to_arrays_list(filepath)\n",
    "                    filepaths.append(filepath)\n",
    "                \n",
    "                #Processes non-JPEG image files, converts to arrays and adds original image filepath to 'filepaths' list\n",
    "                else:           \n",
    "                    #Creates jpeg_tmp for converted images if not already created                        \n",
    "                    if not os.path.exists(os.path.join(os.getcwd(), \"jpeg_tmp\")):\n",
    "                            os.makedirs(os.path.join(os.getcwd(), \"jpeg_tmp\"))\n",
    "                \n",
    "                    #Save JPEG to jpeg_tmp with original filepath as name              \n",
    "                    original_filepath=filepath\n",
    "                    filepath = convert_to_jpeg(filepath)\n",
    "                    \n",
    "                    #Converts JPEGs to arrays and adds original image filepath to 'filepaths' list\n",
    "                    file_to_arrays_list(filepath)\n",
    "                    filepaths.append(original_filepath)\n",
    "                    os.remove(filepath)\n",
    "            \n",
    "            except Exception as e:\n",
    "                if file.lower().endswith(\".DS_Store\"):\n",
    "                    continue\n",
    "                else:\n",
    "                    print(\"Error processing:\", filepath)\n",
    "                    print(\"Error:\", e)\n",
    "                    invalid.append(filepath)\n",
    "                    if filepath.lower().endswith(\".ds_store\"):\n",
    "                        print(\"Skipping .DS_Store:\", filepath)   \n",
    "                        print(filepath)\n",
    "                    \n",
    "\n",
    "    print(\"Filepaths list is \"+str(len(filepaths)))\n",
    "    print(\"Arrays list\"+str(len(arrays)))\n",
    "    print(\"Invalid is \"+str(len(invalid)))\n",
    "    \n",
    "    return {'Filename':filepaths, \n",
    "        'Prediction': arrays,\n",
    "           'Errors': invalid}"
   ]
  },
  {
   "cell_type": "code",
   "execution_count": 55,
   "id": "18c8f6a6-2e39-43ac-9fd0-36ba926f4eb7",
   "metadata": {},
   "outputs": [],
   "source": [
    "def predictImage_multiclass(filepath, model):\n",
    "        # Takes an image and a model\n",
    "        \n",
    "        img = Image.open(filepath)      \n",
    "        img = img.resize((225,225))\n",
    "        img.show()\n",
    "        img = img_to_array(img)\n",
    "        print(img.shape)\n",
    "        img = img.reshape((-1, 225, 225, 3))\n",
    "          \n",
    "        res = model.predict(img)\n",
    "        print(f\"Probabilities: \")\n",
    "        names_of_classes = class_names\n",
    "        print(f\"{names_of_classes}\")\n",
    "        print(f\"{res[0]}\")\n",
    "        print(f\"Result: {names_of_classes[find_index_of_max_element(res[0].tolist())]}\")  \n",
    "        return res \n",
    "    "
   ]
  },
  {
   "cell_type": "code",
   "execution_count": 55,
   "id": "04db842e-bc82-4319-9cb4-8ec777ea3e61",
   "metadata": {},
   "outputs": [],
   "source": [
    "def predictImage_multiclass(filepath, model):\n",
    "        # Takes an image and a model\n",
    "        tiles=[]\n",
    "        img = Image.open(filepath)      \n",
    "        img = img.resize((675,675))\n",
    "        tiles = img.split_image(3,3)\n",
    "        img = img.resize((225,225))\n",
    "        img.show()\n",
    "        img = img_to_array(img)\n",
    "        print(img.shape)\n",
    "        img = img.reshape((-1, 225, 225, 3))\n",
    "          \n",
    "        res = model.predict(img)\n",
    "        print(f\"Probabilities: \")\n",
    "        names_of_classes = class_names\n",
    "        print(f\"{names_of_classes}\")\n",
    "        print(f\"{res[0]}\")\n",
    "        print(f\"Result: {names_of_classes[find_index_of_max_element(res[0].tolist())]}\")  \n",
    "        return res \n",
    "    "
   ]
  },
  {
   "cell_type": "code",
   "execution_count": 46,
   "id": "7f9bba15-ecb1-4bc0-9f78-00335b0ace0b",
   "metadata": {},
   "outputs": [],
   "source": [
    "model = load_model('/Users/leila/code/meloeckert/solar_project/model_multi.h5')"
   ]
  },
  {
   "cell_type": "code",
   "execution_count": 43,
   "id": "9e421218-003a-42d6-be04-82a4c412424d",
   "metadata": {},
   "outputs": [],
   "source": [
    "cats = [\"Bird-drop\", \"Clean\", \"Dusty\", \"Electrical-damage\", \"Physical-Damage\", \"Snow-Covered\"]\n",
    "\n",
    "file = \"/Users/leila/code/meloeckert/solar_project/raw_data/API-test-data\"\n",
    "\n",
    "img_file=\"/Users/leila/code/meloeckert/solar_project/raw_data/Solar panel Image/Dusty/Dust (209).jpg\"\n",
    "\n",
    "\n"
   ]
  },
  {
   "cell_type": "code",
   "execution_count": 51,
   "id": "4da962e6-89bd-48e8-afa2-cffaded39971",
   "metadata": {},
   "outputs": [],
   "source": [
    "def find_index_of_max_element(input_list):\n",
    "    max_value = max(input_list)\n",
    "    max_index = input_list.index(max_value)\n",
    "    return max_index"
   ]
  },
  {
   "cell_type": "code",
   "execution_count": 57,
   "id": "b77e5788-5a94-45b3-8000-62a24ac27105",
   "metadata": {},
   "outputs": [
    {
     "name": "stdout",
     "output_type": "stream",
     "text": [
      "(225, 225, 3)\n",
      "1/1 [==============================] - 0s 29ms/step\n",
      "Probabilities: \n",
      "['clean', 'damage', 'dirt']\n",
      "[0.39299455 0.3835542  0.22345123]\n",
      "Result: clean\n"
     ]
    },
    {
     "data": {
      "text/plain": [
       "array([[0.39299455, 0.3835542 , 0.22345123]], dtype=float32)"
      ]
     },
     "execution_count": 57,
     "metadata": {},
     "output_type": "execute_result"
    }
   ],
   "source": [
    "class_names= ['clean', 'damage', 'dirt']\n",
    "predictImage_multiclass(img_file, model)"
   ]
  },
  {
   "cell_type": "code",
   "execution_count": 27,
   "id": "c1620969-e495-4963-ab0e-c804b855bca3",
   "metadata": {},
   "outputs": [
    {
     "data": {
      "text/plain": [
       "array([[[177., 216., 255.],\n",
       "        [177., 216., 255.],\n",
       "        [177., 216., 255.],\n",
       "        ...,\n",
       "        [180., 213., 246.],\n",
       "        [187., 214., 241.],\n",
       "        [193., 214., 233.]],\n",
       "\n",
       "       [[109., 152., 194.],\n",
       "        [109., 152., 194.],\n",
       "        [109., 152., 194.],\n",
       "        ...,\n",
       "        [111., 147., 181.],\n",
       "        [118., 149., 177.],\n",
       "        [202., 224., 247.]],\n",
       "\n",
       "       [[ 91., 139., 188.],\n",
       "        [ 91., 139., 188.],\n",
       "        [ 91., 139., 188.],\n",
       "        ...,\n",
       "        [ 92., 134., 174.],\n",
       "        [100., 136., 170.],\n",
       "        [200., 227., 255.]],\n",
       "\n",
       "       ...,\n",
       "\n",
       "       [[ 31.,  29.,  30.],\n",
       "        [ 29.,  27.,  28.],\n",
       "        [ 27.,  25.,  26.],\n",
       "        ...,\n",
       "        [179., 165., 154.],\n",
       "        [178., 164., 153.],\n",
       "        [160., 146., 137.]],\n",
       "\n",
       "       [[ 28.,  26.,  27.],\n",
       "        [ 25.,  23.,  24.],\n",
       "        [ 21.,  19.,  20.],\n",
       "        ...,\n",
       "        [166., 152., 139.],\n",
       "        [159., 145., 134.],\n",
       "        [131., 117., 108.]],\n",
       "\n",
       "       [[ 59.,  57.,  58.],\n",
       "        [ 54.,  52.,  53.],\n",
       "        [ 48.,  46.,  47.],\n",
       "        ...,\n",
       "        [138., 124., 111.],\n",
       "        [116., 102.,  89.],\n",
       "        [127., 113., 104.]]], dtype=float32)"
      ]
     },
     "execution_count": 27,
     "metadata": {},
     "output_type": "execute_result"
    }
   ],
   "source": [
    "img_to_array(Image.open(img_file))"
   ]
  },
  {
   "cell_type": "code",
   "execution_count": null,
   "id": "ca534adc-41b3-4752-aa7f-ad891782691a",
   "metadata": {},
   "outputs": [],
   "source": []
  }
 ],
 "metadata": {
  "kernelspec": {
   "display_name": "Python 3 (ipykernel)",
   "language": "python",
   "name": "python3"
  },
  "language_info": {
   "codemirror_mode": {
    "name": "ipython",
    "version": 3
   },
   "file_extension": ".py",
   "mimetype": "text/x-python",
   "name": "python",
   "nbconvert_exporter": "python",
   "pygments_lexer": "ipython3",
   "version": "3.10.6"
  }
 },
 "nbformat": 4,
 "nbformat_minor": 5
}
