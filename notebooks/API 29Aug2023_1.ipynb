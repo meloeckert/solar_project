{
 "cells": [
  {
   "cell_type": "markdown",
   "id": "c7b977b9-f75c-40b2-915b-a5c46518d919",
   "metadata": {},
   "source": [
    "<font size=8><center> API </center></font>"
   ]
  },
  {
   "cell_type": "markdown",
   "id": "7656c4d3-48df-4b35-b2dc-dfd0e8a3cce0",
   "metadata": {},
   "source": [
    "Target - create an API that: \n",
    "- accepts images as single images (jpg, jpeg, PNG, TIFF), folders of images and URLs\n",
    "- converts images to JPEG format\n",
    "- converts JPEGs to NumPy arrays\n",
    "- creates an input list of NumPy arrays for model\n",
    "- preprocesses input list\n",
    "- makes class predictions based on model"
   ]
  },
  {
   "cell_type": "code",
   "execution_count": 1,
   "id": "8d288a11-7b5c-405e-97d2-4f26e7416272",
   "metadata": {},
   "outputs": [],
   "source": [
    "from PIL import Image\n",
    "import matplotlib.pyplot as plt\n",
    "import numpy as np\n",
    "import pandas as pd\n",
    "import os"
   ]
  },
  {
   "cell_type": "code",
   "execution_count": 2,
   "id": "2e05303b-48d4-4e9f-a33d-fd40a0c7a834",
   "metadata": {},
   "outputs": [],
   "source": [
    "img = \"/Users/leila/code/meloeckert/solar_project/raw_data/Solar panel Image/Electrical-damage/\""
   ]
  },
  {
   "cell_type": "code",
   "execution_count": 12,
   "id": "df8d85f6-1e69-4b72-9dd8-29557f729a02",
   "metadata": {},
   "outputs": [],
   "source": [
    "def predict(image_path):\n",
    "    \"\"\"\n",
    "    Predict presence of damage and damage class based on image\n",
    "    \"\"\"\n",
    "    def convert_to_jpeg(filepath):\n",
    "        #Load image\n",
    "        img= Image.open(filepath)\n",
    "        \n",
    "        # Convert the image to RGB mode\n",
    "        img = img.convert(\"RGB\")\n",
    "                \n",
    "        # Save the image in JPEG format as <original filepath>.jpeg to the \"jpeg_tmp\" folder \n",
    "        name = os.path.basename(filepath).replace(\"jpg\", \"jpeg\")\n",
    "        new_filepath = os.path.join(os.getcwd(), \"jpeg_tmp\", name)\n",
    "        img.save(new_filepath, \"JPEG\")\n",
    "                \n",
    "        # Close the image to free resources\n",
    "        img.close()\n",
    "        \n",
    "        #print(\"Image format conversion complete.\")     \n",
    "        return new_filepath\n",
    "\n",
    "    \n",
    "    def file_to_arrays_list(filepath):\n",
    "        '''Converts JPEG files to arrays and appends arrays & filenames to 'arrays' & 'filenames' lists\n",
    "        Appends filenames of unprocessible files to 'invalid' list'''\n",
    "        \n",
    "        image= Image.open(filepath)\n",
    "        image_array=np.array(image)\n",
    "        arrays.append(image_array)\n",
    "\n",
    "\n",
    "    filepaths = []\n",
    "    arrays=[]\n",
    "    invalid = []\n",
    "    \n",
    "    #Gets file paths for input files\n",
    "    for root, dirs, files in os.walk(image_path):\n",
    "        for file in files:\n",
    "            filepath = os.path.join(root, file)\n",
    "            #Ignores macOS hidden system file in directories\n",
    "            if filepath.lower().endswith(\".ds_store\"):\n",
    "                continue\n",
    "            \n",
    "            try:\n",
    "                #Converts JPEG files to arrays and add filepath to 'filepaths' list\n",
    "                if file.lower().endswith(\".jpeg\"):\n",
    "                    file_to_arrays_list(filepath)\n",
    "                    filepaths.append(filepath)\n",
    "                \n",
    "                #Processes non-JPEG image files, converts to arrays and adds original image filepath to 'filepaths' list\n",
    "                else:           \n",
    "                    #Creates jpeg_tmp for converted images if not already created                        \n",
    "                    if not os.path.exists(os.path.join(os.getcwd(), \"jpeg_tmp\")):\n",
    "                            os.makedirs(os.path.join(os.getcwd(), \"jpeg_tmp\"))\n",
    "                \n",
    "                    #Save JPEG to jpeg_tmp with original filepath as name              \n",
    "                    original_filepath=filepath\n",
    "                    filepath = convert_to_jpeg(filepath)\n",
    "                    \n",
    "                    #Converts JPEGs to arrays and adds original image filepath to 'filepaths' list\n",
    "                    file_to_arrays_list(filepath)\n",
    "                    filepaths.append(original_filepath)\n",
    "                    os.remove(filepath)\n",
    "            \n",
    "            except Exception as e:\n",
    "                if file.lower().endswith(\".DS_Store\"):\n",
    "                    continue\n",
    "                else:\n",
    "                    print(\"Error processing:\", filepath)\n",
    "                    print(\"Error:\", e)\n",
    "                    invalid.append(filepath)\n",
    "                    if filepath.lower().endswith(\".ds_store\"):\n",
    "                        print(\"Skipping .DS_Store:\", filepath)   \n",
    "                        print(filepath)\n",
    "                    \n",
    "\n",
    "    print(\"Filepaths list is \"+str(len(filepaths)))\n",
    "    print(\"Arrays list\"+str(len(arrays)))\n",
    "    print(\"Invalid is \"+str(len(invalid)))\n",
    "    return {'Filename':filepaths, \n",
    "        'Prediction': arrays,\n",
    "           'Errors': invalid}"
   ]
  },
  {
   "cell_type": "code",
   "execution_count": null,
   "id": "2ca75d37-b09d-4e84-9a3b-958cbe84b95b",
   "metadata": {},
   "outputs": [],
   "source": []
  },
  {
   "cell_type": "code",
   "execution_count": 48,
   "id": "b6a625c6-afc9-4178-8067-d54aaefc2fd1",
   "metadata": {},
   "outputs": [
    {
     "data": {
      "text/plain": [
       "'/Users/leila/code/meloeckert/solar_project/api/jpeg_tmp/Dust (209).jpeg'"
      ]
     },
     "execution_count": 48,
     "metadata": {},
     "output_type": "execute_result"
    }
   ],
   "source": [
    "filepath = '/Users/leila/code/meloeckert/solar_project/raw_data/Solar panel Image/Dusty/Dust (209).jpg'\n",
    "convert_to_jpeg(filepath)"
   ]
  },
  {
   "cell_type": "code",
   "execution_count": 13,
   "id": "9e421218-003a-42d6-be04-82a4c412424d",
   "metadata": {},
   "outputs": [
    {
     "name": "stdout",
     "output_type": "stream",
     "text": [
      "Error processing: /Users/leila/code/meloeckert/solar_project/raw_data/API-test-data/glossary.html\n",
      "Error: cannot identify image file '/Users/leila/code/meloeckert/solar_project/raw_data/API-test-data/glossary.html'\n",
      "Filepaths list is 2\n",
      "Arrays list2\n",
      "Invalid is 1\n"
     ]
    }
   ],
   "source": [
    "cats = [\"Bird-drop\", \"Clean\", \"Dusty\", \"Electrical-damage\", \"Physical-Damage\", \"Snow-Covered\"]\n",
    "\n",
    "file = \"/Users/leila/code/meloeckert/solar_project/raw_data/API-test-data\"\n",
    "#print(\"OG file is \"+str(len(os.listdir(file))))\n",
    "\n",
    "img_file=\"/Users/leila/code/meloeckert/solar_project/raw_data/Solar panel Image/Dusty/Dust (209).jpg\"\n",
    "\n",
    "pred = predict(file)\n"
   ]
  },
  {
   "cell_type": "code",
   "execution_count": 67,
   "id": "1555cd03-e79c-485b-8a3c-60fb7e0af2c2",
   "metadata": {},
   "outputs": [
    {
     "data": {
      "text/plain": [
       "['/Users/leila/code/meloeckert/solar_project/raw_data/API-test-data/.DS_Store',\n",
       " '/Users/leila/code/meloeckert/solar_project/raw_data/API-test-data/glossary.html']"
      ]
     },
     "execution_count": 67,
     "metadata": {},
     "output_type": "execute_result"
    }
   ],
   "source": [
    "pred[\"Errors\"]"
   ]
  },
  {
   "cell_type": "code",
   "execution_count": 4,
   "id": "3718d468-6af2-4281-8453-4249d82dc7e9",
   "metadata": {},
   "outputs": [],
   "source": [
    "img_file=\"/Users/leila/code/meloeckert/solar_project/raw_data/Solar panel Image/Dusty/Dust (209).jpg\""
   ]
  },
  {
   "cell_type": "code",
   "execution_count": 111,
   "id": "824b1f3a-c39d-46ba-bb77-7b35678f1990",
   "metadata": {},
   "outputs": [
    {
     "data": {
      "text/plain": [
       "'/Users/leila/code/meloeckert/solar_project/raw_data/Solar panel Image/Dusty'"
      ]
     },
     "execution_count": 111,
     "metadata": {},
     "output_type": "execute_result"
    }
   ],
   "source": [
    "dirname = os.path.dirname(os.path.abspath(filepath))\n",
    "name = os.path.basename(filepath).replace(\"jpg\", \"jpeg\")\n",
    "dirname"
   ]
  },
  {
   "cell_type": "code",
   "execution_count": 114,
   "id": "97199a06-dc2d-4fee-b2b4-3fad7ab870e9",
   "metadata": {},
   "outputs": [
    {
     "data": {
      "text/plain": [
       "'/Users/leila/code/meloeckert/solar_project/raw_data/Solar panel Image/Dusty/Dust (209).jpeg'"
      ]
     },
     "execution_count": 114,
     "metadata": {},
     "output_type": "execute_result"
    }
   ],
   "source": [
    "#name = os.path.basename(filepath).replace(\"jpg\", \"jpeg\")\n",
    "str(filepath.replace(\"jpg\", \"jpeg\"))"
   ]
  },
  {
   "cell_type": "code",
   "execution_count": 103,
   "id": "d0e2f2c8-96f4-4697-b2be-ca3994d321d0",
   "metadata": {},
   "outputs": [],
   "source": [
    "new_filename = os.path.join(dirname, \"tmp_jpegs\", name)"
   ]
  },
  {
   "cell_type": "code",
   "execution_count": null,
   "id": "04db978c-2574-4257-ad3f-c8cbb44ca929",
   "metadata": {},
   "outputs": [],
   "source": [
    "file = \"/Users/leila/code/meloeckert/solar_project/raw_data/Solar panel Image/Dusty\"\n"
   ]
  },
  {
   "cell_type": "code",
   "execution_count": 158,
   "id": "b720b7da-2a0a-45d6-bb4a-34056cbe8857",
   "metadata": {},
   "outputs": [
    {
     "data": {
      "text/plain": [
       "['/Users/leila/code/meloeckert/solar_project/raw_data/Solar panel Image/Dusty/Dust (209).jpg',\n",
       " '/Users/leila/code/meloeckert/solar_project/raw_data/Solar panel Image/Dusty/Dust (120).jpg',\n",
       " '/Users/leila/code/meloeckert/solar_project/raw_data/Solar panel Image/Dusty/Dust (58).jpg',\n",
       " '/Users/leila/code/meloeckert/solar_project/raw_data/Solar panel Image/Dusty/Dust (177).jpg',\n",
       " '/Users/leila/code/meloeckert/solar_project/raw_data/Solar panel Image/Dusty/Dust (198).jpg',\n",
       " '/Users/leila/code/meloeckert/solar_project/raw_data/Solar panel Image/Dusty/Dust (7).jpg',\n",
       " '/Users/leila/code/meloeckert/solar_project/raw_data/Solar panel Image/Dusty/Dust (161).jpg',\n",
       " '/Users/leila/code/meloeckert/solar_project/raw_data/Solar panel Image/Dusty/Dust (19).jpg',\n",
       " '/Users/leila/code/meloeckert/solar_project/raw_data/Solar panel Image/Dusty/Dust (136).jpg',\n",
       " '/Users/leila/code/meloeckert/solar_project/raw_data/Solar panel Image/Dusty/Dust (62).jpg',\n",
       " '/Users/leila/code/meloeckert/solar_project/raw_data/Solar panel Image/Dusty/Dust (35).jpg',\n",
       " '/Users/leila/code/meloeckert/solar_project/raw_data/Solar panel Image/Dusty/Dust (23).jpg',\n",
       " '/Users/leila/code/meloeckert/solar_project/raw_data/Solar panel Image/Dusty/Dust (74).jpg',\n",
       " '/Users/leila/code/meloeckert/solar_project/raw_data/Solar panel Image/Dusty/Dust (205).jpg',\n",
       " '/Users/leila/code/meloeckert/solar_project/raw_data/Solar panel Image/Dusty/Dust (194).jpg',\n",
       " '/Users/leila/code/meloeckert/solar_project/raw_data/Solar panel Image/Dusty/Dust (54).jpg',\n",
       " '/Users/leila/code/meloeckert/solar_project/raw_data/Solar panel Image/Dusty/Dust (182).jpg',\n",
       " '/Users/leila/code/meloeckert/solar_project/raw_data/Solar panel Image/Dusty/Dust (42).jpg',\n",
       " '/Users/leila/code/meloeckert/solar_project/raw_data/Solar panel Image/Dusty/Dust (15).jpg',\n",
       " '/Users/leila/code/meloeckert/solar_project/raw_data/Solar panel Image/Dusty/Dust (213).jpg',\n",
       " '/Users/leila/code/meloeckert/solar_project/raw_data/Solar panel Image/Dusty/Dust (141).jpg',\n",
       " '/Users/leila/code/meloeckert/solar_project/raw_data/Solar panel Image/Dusty/Dust (81).jpg',\n",
       " '/Users/leila/code/meloeckert/solar_project/raw_data/Solar panel Image/Dusty/Dust (116).jpg',\n",
       " '/Users/leila/code/meloeckert/solar_project/raw_data/Solar panel Image/Dusty/Dust (39).jpg',\n",
       " '/Users/leila/code/meloeckert/solar_project/raw_data/Solar panel Image/Dusty/Dust (100).jpg',\n",
       " '/Users/leila/code/meloeckert/solar_project/raw_data/Solar panel Image/Dusty/Dust (157).jpg',\n",
       " '/Users/leila/code/meloeckert/solar_project/raw_data/Solar panel Image/Dusty/Dust (78).jpg',\n",
       " '/Users/leila/code/meloeckert/solar_project/raw_data/Solar panel Image/Dusty/Dust (97).jpg',\n",
       " '/Users/leila/code/meloeckert/solar_project/raw_data/Solar panel Image/Dusty/Dust (79).jpg',\n",
       " '/Users/leila/code/meloeckert/solar_project/raw_data/Solar panel Image/Dusty/Dust (96).jpg',\n",
       " '/Users/leila/code/meloeckert/solar_project/raw_data/Solar panel Image/Dusty/Dust (156).jpg',\n",
       " '/Users/leila/code/meloeckert/solar_project/raw_data/Solar panel Image/Dusty/Dust (101).jpg',\n",
       " '/Users/leila/code/meloeckert/solar_project/raw_data/Solar panel Image/Dusty/Dust (38).jpg',\n",
       " '/Users/leila/code/meloeckert/solar_project/raw_data/Solar panel Image/Dusty/Dust (117).jpg',\n",
       " '/Users/leila/code/meloeckert/solar_project/raw_data/Solar panel Image/Dusty/Dust (80).jpg',\n",
       " '/Users/leila/code/meloeckert/solar_project/raw_data/Solar panel Image/Dusty/Dust (140).jpg',\n",
       " '/Users/leila/code/meloeckert/solar_project/raw_data/Solar panel Image/Dusty/Dust (14).jpg',\n",
       " '/Users/leila/code/meloeckert/solar_project/raw_data/Solar panel Image/Dusty/Dust (212).jpg',\n",
       " '/Users/leila/code/meloeckert/solar_project/raw_data/Solar panel Image/Dusty/Dust (43).jpg',\n",
       " '/Users/leila/code/meloeckert/solar_project/raw_data/Solar panel Image/Dusty/Dust (183).jpg',\n",
       " '/Users/leila/code/meloeckert/solar_project/raw_data/Solar panel Image/Dusty/Dust (55).jpg',\n",
       " '/Users/leila/code/meloeckert/solar_project/raw_data/Solar panel Image/Dusty/Dust (195).jpg',\n",
       " '/Users/leila/code/meloeckert/solar_project/raw_data/Solar panel Image/Dusty/Dust (204).jpg',\n",
       " '/Users/leila/code/meloeckert/solar_project/raw_data/Solar panel Image/Dusty/Dust (75).jpg',\n",
       " '/Users/leila/code/meloeckert/solar_project/raw_data/Solar panel Image/Dusty/Dust (22).jpg',\n",
       " '/Users/leila/code/meloeckert/solar_project/raw_data/Solar panel Image/Dusty/Dust (34).jpg',\n",
       " '/Users/leila/code/meloeckert/solar_project/raw_data/Solar panel Image/Dusty/Dust (63).jpg',\n",
       " '/Users/leila/code/meloeckert/solar_project/raw_data/Solar panel Image/Dusty/Dust (137).jpg',\n",
       " '/Users/leila/code/meloeckert/solar_project/raw_data/Solar panel Image/Dusty/Dust (18).jpg',\n",
       " '/Users/leila/code/meloeckert/solar_project/raw_data/Solar panel Image/Dusty/Dust (160).jpg',\n",
       " '/Users/leila/code/meloeckert/solar_project/raw_data/Solar panel Image/Dusty/Dust (6).jpg',\n",
       " '/Users/leila/code/meloeckert/solar_project/raw_data/Solar panel Image/Dusty/Dust (176).jpg',\n",
       " '/Users/leila/code/meloeckert/solar_project/raw_data/Solar panel Image/Dusty/Dust (199).jpg',\n",
       " '/Users/leila/code/meloeckert/solar_project/raw_data/Solar panel Image/Dusty/Dust (59).jpg',\n",
       " '/Users/leila/code/meloeckert/solar_project/raw_data/Solar panel Image/Dusty/Dust (121).jpg',\n",
       " '/Users/leila/code/meloeckert/solar_project/raw_data/Solar panel Image/Dusty/Dust (208).jpg',\n",
       " '/Users/leila/code/meloeckert/solar_project/raw_data/Solar panel Image/Dusty/Dust (203).jpg',\n",
       " '/Users/leila/code/meloeckert/solar_project/raw_data/Solar panel Image/Dusty/Dust (192).jpg',\n",
       " '/Users/leila/code/meloeckert/solar_project/raw_data/Solar panel Image/Dusty/Dust (52).jpg',\n",
       " '/Users/leila/code/meloeckert/solar_project/raw_data/Solar panel Image/Dusty/Dust (184).jpg',\n",
       " '/Users/leila/code/meloeckert/solar_project/raw_data/Solar panel Image/Dusty/Dust (44).jpg',\n",
       " '/Users/leila/code/meloeckert/solar_project/raw_data/Solar panel Image/Dusty/Dust (215).jpg',\n",
       " '/Users/leila/code/meloeckert/solar_project/raw_data/Solar panel Image/Dusty/Dust (13).jpg',\n",
       " '/Users/leila/code/meloeckert/solar_project/raw_data/Solar panel Image/Dusty/Dust (147).jpg',\n",
       " '/Users/leila/code/meloeckert/solar_project/raw_data/Solar panel Image/Dusty/Dust (68).jpg',\n",
       " '/Users/leila/code/meloeckert/solar_project/raw_data/Solar panel Image/Dusty/Dust (87).jpg',\n",
       " '/Users/leila/code/meloeckert/solar_project/raw_data/Solar panel Image/Dusty/Dust (110).jpg',\n",
       " '/Users/leila/code/meloeckert/solar_project/raw_data/Solar panel Image/Dusty/Dust (106).jpg',\n",
       " '/Users/leila/code/meloeckert/solar_project/raw_data/Solar panel Image/Dusty/Dust (29).jpg',\n",
       " '/Users/leila/code/meloeckert/solar_project/raw_data/Solar panel Image/Dusty/Dust (151).jpg',\n",
       " '/Users/leila/code/meloeckert/solar_project/raw_data/Solar panel Image/Dusty/Dust (91).jpg',\n",
       " '/Users/leila/code/meloeckert/solar_project/raw_data/Solar panel Image/Dusty/Dust (126).jpg',\n",
       " '/Users/leila/code/meloeckert/solar_project/raw_data/Solar panel Image/Dusty/Dust (171).jpg',\n",
       " '/Users/leila/code/meloeckert/solar_project/raw_data/Solar panel Image/Dusty/Dust (1).jpg',\n",
       " '/Users/leila/code/meloeckert/solar_project/raw_data/Solar panel Image/Dusty/Dust (48).jpg',\n",
       " '/Users/leila/code/meloeckert/solar_project/raw_data/Solar panel Image/Dusty/Dust (167).jpg',\n",
       " '/Users/leila/code/meloeckert/solar_project/raw_data/Solar panel Image/Dusty/Dust (188).jpg',\n",
       " '/Users/leila/code/meloeckert/solar_project/raw_data/Solar panel Image/Dusty/Dust (219).jpg',\n",
       " '/Users/leila/code/meloeckert/solar_project/raw_data/Solar panel Image/Dusty/Dust (130).jpg',\n",
       " '/Users/leila/code/meloeckert/solar_project/raw_data/Solar panel Image/Dusty/Dust (64).jpg',\n",
       " '/Users/leila/code/meloeckert/solar_project/raw_data/Solar panel Image/Dusty/Dust (33).jpg',\n",
       " '/Users/leila/code/meloeckert/solar_project/raw_data/Solar panel Image/Dusty/Dust (25).jpg',\n",
       " '/Users/leila/code/meloeckert/solar_project/raw_data/Solar panel Image/Dusty/Dust (72).jpg',\n",
       " '/Users/leila/code/meloeckert/solar_project/raw_data/Solar panel Image/Dusty/Dust (73).jpg',\n",
       " '/Users/leila/code/meloeckert/solar_project/raw_data/Solar panel Image/Dusty/Dust (24).jpg',\n",
       " '/Users/leila/code/meloeckert/solar_project/raw_data/Solar panel Image/Dusty/Dust (32).jpg',\n",
       " '/Users/leila/code/meloeckert/solar_project/raw_data/Solar panel Image/Dusty/Dust (65).jpg',\n",
       " '/Users/leila/code/meloeckert/solar_project/raw_data/Solar panel Image/Dusty/Dust (131).jpg',\n",
       " '/Users/leila/code/meloeckert/solar_project/raw_data/Solar panel Image/Dusty/Dust (218).jpg',\n",
       " '/Users/leila/code/meloeckert/solar_project/raw_data/Solar panel Image/Dusty/Dust (166).jpg',\n",
       " '/Users/leila/code/meloeckert/solar_project/raw_data/Solar panel Image/Dusty/Dust (189).jpg',\n",
       " '/Users/leila/code/meloeckert/solar_project/raw_data/Solar panel Image/Dusty/Dust (49).jpg',\n",
       " '/Users/leila/code/meloeckert/solar_project/raw_data/Solar panel Image/Dusty/Dust (170).jpg',\n",
       " '/Users/leila/code/meloeckert/solar_project/raw_data/Solar panel Image/Dusty/Dust (127).jpg',\n",
       " '/Users/leila/code/meloeckert/solar_project/raw_data/Solar panel Image/Dusty/Dust (90).jpg',\n",
       " '/Users/leila/code/meloeckert/solar_project/raw_data/Solar panel Image/Dusty/Dust (150).jpg',\n",
       " '/Users/leila/code/meloeckert/solar_project/raw_data/Solar panel Image/Dusty/Dust (28).jpg',\n",
       " '/Users/leila/code/meloeckert/solar_project/raw_data/Solar panel Image/Dusty/Dust (107).jpg',\n",
       " '/Users/leila/code/meloeckert/solar_project/raw_data/Solar panel Image/Dusty/Dust (111).jpg',\n",
       " '/Users/leila/code/meloeckert/solar_project/raw_data/Solar panel Image/Dusty/Dust (69).jpg',\n",
       " '/Users/leila/code/meloeckert/solar_project/raw_data/Solar panel Image/Dusty/Dust (86).jpg',\n",
       " '/Users/leila/code/meloeckert/solar_project/raw_data/Solar panel Image/Dusty/Dust (146).jpg',\n",
       " '/Users/leila/code/meloeckert/solar_project/raw_data/Solar panel Image/Dusty/Dust (214).jpg',\n",
       " '/Users/leila/code/meloeckert/solar_project/raw_data/Solar panel Image/Dusty/Dust (12).jpg',\n",
       " '/Users/leila/code/meloeckert/solar_project/raw_data/Solar panel Image/Dusty/Dust (45).jpg',\n",
       " '/Users/leila/code/meloeckert/solar_project/raw_data/Solar panel Image/Dusty/Dust (185).jpg',\n",
       " '/Users/leila/code/meloeckert/solar_project/raw_data/Solar panel Image/Dusty/Dust (53).jpg',\n",
       " '/Users/leila/code/meloeckert/solar_project/raw_data/Solar panel Image/Dusty/Dust (193).jpg',\n",
       " '/Users/leila/code/meloeckert/solar_project/raw_data/Solar panel Image/Dusty/Dust (202).jpg',\n",
       " '/Users/leila/code/meloeckert/solar_project/raw_data/Solar panel Image/Dusty/Dust (93).jpg',\n",
       " '/Users/leila/code/meloeckert/solar_project/raw_data/Solar panel Image/Dusty/Dust (153).jpg',\n",
       " '/Users/leila/code/meloeckert/solar_project/raw_data/Solar panel Image/Dusty/Dust (104).jpg',\n",
       " '/Users/leila/code/meloeckert/solar_project/raw_data/Solar panel Image/Dusty/Dust (112).jpg',\n",
       " '/Users/leila/code/meloeckert/solar_project/raw_data/Solar panel Image/Dusty/Dust (85).jpg',\n",
       " '/Users/leila/code/meloeckert/solar_project/raw_data/Solar panel Image/Dusty/Dust (145).jpg',\n",
       " '/Users/leila/code/meloeckert/solar_project/raw_data/Solar panel Image/Dusty/Dust (11).jpg',\n",
       " '/Users/leila/code/meloeckert/solar_project/raw_data/Solar panel Image/Dusty/Dust (217).jpg',\n",
       " '/Users/leila/code/meloeckert/solar_project/raw_data/Solar panel Image/Dusty/Dust (46).jpg',\n",
       " '/Users/leila/code/meloeckert/solar_project/raw_data/Solar panel Image/Dusty/Dust (186).jpg',\n",
       " '/Users/leila/code/meloeckert/solar_project/raw_data/Solar panel Image/Dusty/Dust (169).jpg',\n",
       " '/Users/leila/code/meloeckert/solar_project/raw_data/Solar panel Image/Dusty/Dust (50).jpg',\n",
       " '/Users/leila/code/meloeckert/solar_project/raw_data/Solar panel Image/Dusty/Dust (190).jpg',\n",
       " '/Users/leila/code/meloeckert/solar_project/raw_data/Solar panel Image/Dusty/Dust (201).jpg',\n",
       " '/Users/leila/code/meloeckert/solar_project/raw_data/Solar panel Image/Dusty/Dust (128).jpg',\n",
       " '/Users/leila/code/meloeckert/solar_project/raw_data/Solar panel Image/Dusty/Dust (70).jpg',\n",
       " '/Users/leila/code/meloeckert/solar_project/raw_data/Solar panel Image/Dusty/Dust (108).jpg',\n",
       " '/Users/leila/code/meloeckert/solar_project/raw_data/Solar panel Image/Dusty/Dust (27).jpg',\n",
       " '/Users/leila/code/meloeckert/solar_project/raw_data/Solar panel Image/Dusty/Dust (31).jpg',\n",
       " '/Users/leila/code/meloeckert/solar_project/raw_data/Solar panel Image/Dusty/Dust (149).jpg',\n",
       " '/Users/leila/code/meloeckert/solar_project/raw_data/Solar panel Image/Dusty/Dust (89).jpg',\n",
       " '/Users/leila/code/meloeckert/solar_project/raw_data/Solar panel Image/Dusty/Dust (66).jpg',\n",
       " '/Users/leila/code/meloeckert/solar_project/raw_data/Solar panel Image/Dusty/Dust (132).jpg',\n",
       " '/Users/leila/code/meloeckert/solar_project/raw_data/Solar panel Image/Dusty/Dust (165).jpg',\n",
       " '/Users/leila/code/meloeckert/solar_project/raw_data/Solar panel Image/Dusty/Dust (3).jpg',\n",
       " '/Users/leila/code/meloeckert/solar_project/raw_data/Solar panel Image/Dusty/Dust (173).jpg',\n",
       " '/Users/leila/code/meloeckert/solar_project/raw_data/Solar panel Image/Dusty/Dust (124).jpg',\n",
       " '/Users/leila/code/meloeckert/solar_project/raw_data/Solar panel Image/Dusty/Dust (125).jpg',\n",
       " '/Users/leila/code/meloeckert/solar_project/raw_data/Solar panel Image/Dusty/Dust (172).jpg',\n",
       " '/Users/leila/code/meloeckert/solar_project/raw_data/Solar panel Image/Dusty/Dust (2).jpg',\n",
       " '/Users/leila/code/meloeckert/solar_project/raw_data/Solar panel Image/Dusty/Dust (164).jpg',\n",
       " '/Users/leila/code/meloeckert/solar_project/raw_data/Solar panel Image/Dusty/Dust (133).jpg',\n",
       " '/Users/leila/code/meloeckert/solar_project/raw_data/Solar panel Image/Dusty/Dust (88).jpg',\n",
       " '/Users/leila/code/meloeckert/solar_project/raw_data/Solar panel Image/Dusty/Dust (67).jpg',\n",
       " '/Users/leila/code/meloeckert/solar_project/raw_data/Solar panel Image/Dusty/Dust (148).jpg',\n",
       " '/Users/leila/code/meloeckert/solar_project/raw_data/Solar panel Image/Dusty/Dust (30).jpg',\n",
       " '/Users/leila/code/meloeckert/solar_project/raw_data/Solar panel Image/Dusty/Dust (220).jpg',\n",
       " '/Users/leila/code/meloeckert/solar_project/raw_data/Solar panel Image/Dusty/Dust (26).jpg',\n",
       " '/Users/leila/code/meloeckert/solar_project/raw_data/Solar panel Image/Dusty/Dust (109).jpg',\n",
       " '/Users/leila/code/meloeckert/solar_project/raw_data/Solar panel Image/Dusty/Dust (71).jpg',\n",
       " '/Users/leila/code/meloeckert/solar_project/raw_data/Solar panel Image/Dusty/Dust (129).jpg',\n",
       " '/Users/leila/code/meloeckert/solar_project/raw_data/Solar panel Image/Dusty/Dust (200).jpg',\n",
       " '/Users/leila/code/meloeckert/solar_project/raw_data/Solar panel Image/Dusty/Dust (191).jpg',\n",
       " '/Users/leila/code/meloeckert/solar_project/raw_data/Solar panel Image/Dusty/Dust (51).jpg',\n",
       " '/Users/leila/code/meloeckert/solar_project/raw_data/Solar panel Image/Dusty/Dust (187).jpg',\n",
       " '/Users/leila/code/meloeckert/solar_project/raw_data/Solar panel Image/Dusty/Dust (168).jpg',\n",
       " '/Users/leila/code/meloeckert/solar_project/raw_data/Solar panel Image/Dusty/Dust (47).jpg',\n",
       " '/Users/leila/code/meloeckert/solar_project/raw_data/Solar panel Image/Dusty/Dust (10).jpg',\n",
       " '/Users/leila/code/meloeckert/solar_project/raw_data/Solar panel Image/Dusty/Dust (216).jpg',\n",
       " '/Users/leila/code/meloeckert/solar_project/raw_data/Solar panel Image/Dusty/Dust (144).jpg',\n",
       " '/Users/leila/code/meloeckert/solar_project/raw_data/Solar panel Image/Dusty/Dust (84).jpg',\n",
       " '/Users/leila/code/meloeckert/solar_project/raw_data/Solar panel Image/Dusty/Dust (113).jpg',\n",
       " '/Users/leila/code/meloeckert/solar_project/raw_data/Solar panel Image/Dusty/Dust (105).jpg',\n",
       " '/Users/leila/code/meloeckert/solar_project/raw_data/Solar panel Image/Dusty/Dust (152).jpg',\n",
       " '/Users/leila/code/meloeckert/solar_project/raw_data/Solar panel Image/Dusty/Dust (92).jpg',\n",
       " '/Users/leila/code/meloeckert/solar_project/raw_data/Solar panel Image/Dusty/Dust (159).jpg',\n",
       " '/Users/leila/code/meloeckert/solar_project/raw_data/Solar panel Image/Dusty/Dust (99).jpg',\n",
       " '/Users/leila/code/meloeckert/solar_project/raw_data/Solar panel Image/Dusty/Dust (76).jpg',\n",
       " '/Users/leila/code/meloeckert/solar_project/raw_data/Solar panel Image/Dusty/Dust (21).jpg',\n",
       " '/Users/leila/code/meloeckert/solar_project/raw_data/Solar panel Image/Dusty/Dust (118).jpg',\n",
       " '/Users/leila/code/meloeckert/solar_project/raw_data/Solar panel Image/Dusty/Dust (37).jpg',\n",
       " '/Users/leila/code/meloeckert/solar_project/raw_data/Solar panel Image/Dusty/Dust (60).jpg',\n",
       " '/Users/leila/code/meloeckert/solar_project/raw_data/Solar panel Image/Dusty/Dust (134).jpg',\n",
       " '/Users/leila/code/meloeckert/solar_project/raw_data/Solar panel Image/Dusty/Dust (163).jpg',\n",
       " '/Users/leila/code/meloeckert/solar_project/raw_data/Solar panel Image/Dusty/Dust (5).jpg',\n",
       " '/Users/leila/code/meloeckert/solar_project/raw_data/Solar panel Image/Dusty/Dust (175).jpg',\n",
       " '/Users/leila/code/meloeckert/solar_project/raw_data/Solar panel Image/Dusty/Dust (122).jpg',\n",
       " '/Users/leila/code/meloeckert/solar_project/raw_data/Solar panel Image/Dusty/Dust (95).jpg',\n",
       " '/Users/leila/code/meloeckert/solar_project/raw_data/Solar panel Image/Dusty/Dust (155).jpg',\n",
       " '/Users/leila/code/meloeckert/solar_project/raw_data/Solar panel Image/Dusty/Dust (102).jpg',\n",
       " '/Users/leila/code/meloeckert/solar_project/raw_data/Solar panel Image/Dusty/Dust (114).jpg',\n",
       " '/Users/leila/code/meloeckert/solar_project/raw_data/Solar panel Image/Dusty/Dust (83).jpg',\n",
       " '/Users/leila/code/meloeckert/solar_project/raw_data/Solar panel Image/Dusty/Dust (143).jpg',\n",
       " '/Users/leila/code/meloeckert/solar_project/raw_data/Solar panel Image/Dusty/Dust (211).jpg',\n",
       " '/Users/leila/code/meloeckert/solar_project/raw_data/Solar panel Image/Dusty/Dust (17).jpg',\n",
       " '/Users/leila/code/meloeckert/solar_project/raw_data/Solar panel Image/Dusty/Dust (138).jpg',\n",
       " '/Users/leila/code/meloeckert/solar_project/raw_data/Solar panel Image/Dusty/Dust (40).jpg',\n",
       " '/Users/leila/code/meloeckert/solar_project/raw_data/Solar panel Image/Dusty/Dust (9).jpg',\n",
       " '/Users/leila/code/meloeckert/solar_project/raw_data/Solar panel Image/Dusty/Dust (180).jpg',\n",
       " '/Users/leila/code/meloeckert/solar_project/raw_data/Solar panel Image/Dusty/Dust (56).jpg',\n",
       " '/Users/leila/code/meloeckert/solar_project/raw_data/Solar panel Image/Dusty/Dust (196).jpg',\n",
       " '/Users/leila/code/meloeckert/solar_project/raw_data/Solar panel Image/Dusty/Dust (179).jpg',\n",
       " '/Users/leila/code/meloeckert/solar_project/raw_data/Solar panel Image/Dusty/Dust (207).jpg',\n",
       " '/Users/leila/code/meloeckert/solar_project/raw_data/Solar panel Image/Dusty/Dust (206).jpg',\n",
       " '/Users/leila/code/meloeckert/solar_project/raw_data/Solar panel Image/Dusty/Dust (197).jpg',\n",
       " '/Users/leila/code/meloeckert/solar_project/raw_data/Solar panel Image/Dusty/Dust (178).jpg',\n",
       " '/Users/leila/code/meloeckert/solar_project/raw_data/Solar panel Image/Dusty/Dust (57).jpg',\n",
       " '/Users/leila/code/meloeckert/solar_project/raw_data/Solar panel Image/Dusty/Dust (181).jpg',\n",
       " '/Users/leila/code/meloeckert/solar_project/raw_data/Solar panel Image/Dusty/Dust (41).jpg',\n",
       " '/Users/leila/code/meloeckert/solar_project/raw_data/Solar panel Image/Dusty/Dust (8).jpg',\n",
       " '/Users/leila/code/meloeckert/solar_project/raw_data/Solar panel Image/Dusty/Dust (139).jpg',\n",
       " '/Users/leila/code/meloeckert/solar_project/raw_data/Solar panel Image/Dusty/Dust (210).jpg',\n",
       " '/Users/leila/code/meloeckert/solar_project/raw_data/Solar panel Image/Dusty/Dust (16).jpg',\n",
       " '/Users/leila/code/meloeckert/solar_project/raw_data/Solar panel Image/Dusty/Dust (142).jpg',\n",
       " '/Users/leila/code/meloeckert/solar_project/raw_data/Solar panel Image/Dusty/Dust (82).jpg',\n",
       " '/Users/leila/code/meloeckert/solar_project/raw_data/Solar panel Image/Dusty/Dust (115).jpg',\n",
       " '/Users/leila/code/meloeckert/solar_project/raw_data/Solar panel Image/Dusty/Dust (103).jpg',\n",
       " '/Users/leila/code/meloeckert/solar_project/raw_data/Solar panel Image/Dusty/Dust (154).jpg',\n",
       " '/Users/leila/code/meloeckert/solar_project/raw_data/Solar panel Image/Dusty/Dust (94).jpg',\n",
       " '/Users/leila/code/meloeckert/solar_project/raw_data/Solar panel Image/Dusty/Dust (123).jpg',\n",
       " '/Users/leila/code/meloeckert/solar_project/raw_data/Solar panel Image/Dusty/Dust (174).jpg',\n",
       " '/Users/leila/code/meloeckert/solar_project/raw_data/Solar panel Image/Dusty/Dust (4).jpg',\n",
       " '/Users/leila/code/meloeckert/solar_project/raw_data/Solar panel Image/Dusty/Dust (162).jpg',\n",
       " '/Users/leila/code/meloeckert/solar_project/raw_data/Solar panel Image/Dusty/Dust (135).jpg',\n",
       " '/Users/leila/code/meloeckert/solar_project/raw_data/Solar panel Image/Dusty/Dust (61).jpg',\n",
       " '/Users/leila/code/meloeckert/solar_project/raw_data/Solar panel Image/Dusty/Dust (36).jpg',\n",
       " '/Users/leila/code/meloeckert/solar_project/raw_data/Solar panel Image/Dusty/Dust (119).jpg',\n",
       " '/Users/leila/code/meloeckert/solar_project/raw_data/Solar panel Image/Dusty/Dust (20).jpg',\n",
       " '/Users/leila/code/meloeckert/solar_project/raw_data/Solar panel Image/Dusty/Dust (98).jpg',\n",
       " '/Users/leila/code/meloeckert/solar_project/raw_data/Solar panel Image/Dusty/Dust (77).jpg',\n",
       " '/Users/leila/code/meloeckert/solar_project/raw_data/Solar panel Image/Dusty/Dust (158).jpg']"
      ]
     },
     "execution_count": 158,
     "metadata": {},
     "output_type": "execute_result"
    }
   ],
   "source": [
    "pred['Filename']"
   ]
  },
  {
   "cell_type": "code",
   "execution_count": null,
   "id": "362c6491-6365-4bb2-aa73-f139d1e295e4",
   "metadata": {},
   "outputs": [],
   "source": []
  }
 ],
 "metadata": {
  "kernelspec": {
   "display_name": "Python 3 (ipykernel)",
   "language": "python",
   "name": "python3"
  },
  "language_info": {
   "codemirror_mode": {
    "name": "ipython",
    "version": 3
   },
   "file_extension": ".py",
   "mimetype": "text/x-python",
   "name": "python",
   "nbconvert_exporter": "python",
   "pygments_lexer": "ipython3",
   "version": "3.10.6"
  }
 },
 "nbformat": 4,
 "nbformat_minor": 5
}
