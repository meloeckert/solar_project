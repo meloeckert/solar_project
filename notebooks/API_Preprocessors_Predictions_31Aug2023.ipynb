{
 "cells": [
  {
   "cell_type": "markdown",
   "id": "477cb54f-8894-4f6f-b3f2-f78ec8405940",
   "metadata": {},
   "source": [
    "<font size=8><center> API - Preprocessors & Predictions</center></font>"
   ]
  },
  {
   "cell_type": "markdown",
   "id": "6076563c-678a-4d98-af22-ad805e56de42",
   "metadata": {},
   "source": [
    "Goal - create a function that: \n",
    "- accepts a dictionary of byte files in format {\"filename\":bytes}\n",
    "- create \"filenames\" list of dict keys\n",
    "- creates \"tiles\" array\n",
    "- gets images from byte files\n",
    "- resizes images to (675,675,3), tiles into 9\n",
    "- converts tiles to arrays and saves in \"tiles\" array in format [[9 x NumPy arrays],[9 x NumPy arrays]...#num of images]\n",
    "- resizes images to (225,225,3) and converts to NumPy array\n",
    "- reshapes image array to tensor of shape (-1,225,225,3)\n",
    "- appends tensor to list of tensors\n",
    "- returns list of tensors of shape (-1,225,225,3)\n",
    "\n",
    "Tile preprocessing for Model 2\n",
    "- recieves from Model 1 a list of indexes(?) for Model 2 input data\n",
    "- store list of indexes (Important - needed to identify original file!)\n",
    "- for each index i in \"tiles\" array, converts each of the 9 x tiles into tensors of shape (-1,225,225,3)\n",
    "- appends array at index i to list of arrays\n",
    "- returns list of tensors of shape (-1,225,225,3)\n",
    "  \n"
   ]
  },
  {
   "cell_type": "markdown",
   "id": "9172b660-a3ed-4c3b-9069-1ce4b7f2f80f",
   "metadata": {},
   "source": [
    "## Imports"
   ]
  },
  {
   "cell_type": "code",
   "execution_count": 21,
   "id": "0a6d0b52-774d-4024-ae38-88ea0b0bde8d",
   "metadata": {},
   "outputs": [],
   "source": [
    "#pip install tensorflow\n",
    "#pip install OpenCV\n",
    "\n",
    "from io import BytesIO\n",
    "import numpy as np\n",
    "from tensorflow.keras.utils import img_to_array\n",
    "from PIL import Image\n",
    "import json\n",
    "import cv2\n",
    "\n",
    "from tensorflow.keras.models import load_model\n",
    "\n",
    "import matplotlib.pyplot as plt"
   ]
  },
  {
   "cell_type": "markdown",
   "id": "25dadf19-a750-4bf7-9012-3db1f598de15",
   "metadata": {},
   "source": [
    "## Load data"
   ]
  },
  {
   "cell_type": "code",
   "execution_count": 50,
   "id": "53841491-2836-4822-b1e1-0578e3309007",
   "metadata": {},
   "outputs": [],
   "source": [
    "try:\n",
    "    with open(\"/Users/leila/code/meloeckert/solar_project/api/api-test-data/Cleaan (1).jpeg\", \"rb\") as f:\n",
    "        bytes = f.read()\n",
    "    \n",
    "except IOError:\n",
    "     print('Error while opening the file')  "
   ]
  },
  {
   "cell_type": "code",
   "execution_count": 51,
   "id": "7244828f-cbfc-40aa-96e9-8325c092dab1",
   "metadata": {},
   "outputs": [],
   "source": [
    "try:\n",
    "    with open(\"/Users/leila/code/meloeckert/solar_project/api/api-test-data/Dust (1).jpg\", \"rb\") as f:\n",
    "        bytes_1 = f.read()\n",
    "    \n",
    "except IOError:\n",
    "     print('Error while opening the file')  "
   ]
  },
  {
   "cell_type": "code",
   "execution_count": 54,
   "id": "b20712c0-8588-41e8-866d-1fb492d463ac",
   "metadata": {},
   "outputs": [],
   "source": [
    "test = {\"img\":bytes,\n",
    "        \"img2\":bytes_1,\n",
    "           }"
   ]
  },
  {
   "cell_type": "markdown",
   "id": "02b77830-8111-416d-af62-b37749f76c2e",
   "metadata": {},
   "source": [
    "## Preprocessing"
   ]
  },
  {
   "cell_type": "code",
   "execution_count": 93,
   "id": "0140614f-69c7-420f-a41c-8f1f6edc435a",
   "metadata": {},
   "outputs": [],
   "source": [
    "def preprocess(images : dict, num_tiles=3):\n",
    "    \"\"\"\n",
    "    Predict presence of damage and damage class based on image\n",
    "    \"\"\"\n",
    "    filenames=list(images.keys())\n",
    "    tile_arrays=[]\n",
    "    tensors=[]\n",
    "    invalid={}\n",
    "    \n",
    "    for f in filenames:\n",
    "    \n",
    "        img = images.get(f'{f}')\n",
    "        img = Image.open(io.BytesIO(img))\n",
    "        try:\n",
    "\n",
    "            #image tiling, array conversion; append to 'tile_arrays' list\n",
    "            image_tiles = []\n",
    "            img_675_array = np.array(img.resize((675,675)))\n",
    "\n",
    "            #vertical slice; num_tiles = # of equal divisions\n",
    "            for v in range(0,img_675_array.shape[0],img_675_array.shape[0]//num_tiles):\n",
    "                #horizontal slice; num_tiles = # of equal divisions\n",
    "                for h in range(0,img_675_array.shape[1],img_675_array.shape[1]//num_tiles):\n",
    "                    tile_array = img_675_array[v:v+(img_675_array.shape[0]//num_tiles), h:h+(img_675_array.shape[1]//num_tiles),:]\n",
    "                    image_tiles.append(tile_array) \n",
    "            \n",
    "            tile_arrays.append(image_tiles)\n",
    "\n",
    "            #resize full image and convert to array; append to 'tensors' list\n",
    "            img_255_array = np.array(img.resize((225,225)))\n",
    "            tensor = img_255_array.reshape((-1, 225, 225, 3))            \n",
    "            tensors.append(tensor)\n",
    "        \n",
    "        except Exception as e:\n",
    "            if f.lower().endswith(\"ds._store\"):\n",
    "                continue\n",
    "            else:\n",
    "                print(\"Error processing: \", f)\n",
    "                print(\"Error: \", e)\n",
    "                invalid[f]= e                    \n",
    "                continue\n",
    "\n",
    "    preprocessed_X = {\"filenames\":filenames,\n",
    "                     \"tensors\":tensors,\n",
    "                     \"tile_arrays\":tile_arrays, \n",
    "                      \"invalid\":invalid\n",
    "                     }\n",
    "        \n",
    "    return preprocessed_X "
   ]
  },
  {
   "cell_type": "code",
   "execution_count": null,
   "id": "a2c93510-3050-4c9a-a977-a6e07d5db445",
   "metadata": {},
   "outputs": [],
   "source": [
    "for r in range(0,img.shape[0],30):\n",
    "    for c in range(0,img.shape[1],30):\n",
    "        cv2.imwrite(f\"img{r}_{c}.png\",img[r:r+30, c:c+30,:])"
   ]
  },
  {
   "cell_type": "code",
   "execution_count": 91,
   "id": "ebcbe3e9-f666-41fa-bc6b-994bedef406a",
   "metadata": {},
   "outputs": [
    {
     "data": {
      "text/plain": [
       "25"
      ]
     },
     "execution_count": 91,
     "metadata": {},
     "output_type": "execute_result"
    }
   ],
   "source": [
    "X_prep = preprocess(test)\n",
    "len(X_prep['tile_arrays'][0])"
   ]
  },
  {
   "cell_type": "code",
   "execution_count": 8,
   "id": "9e930db5-555b-4e2d-9949-87e08612e623",
   "metadata": {},
   "outputs": [],
   "source": [
    "def preprocess_tiles(image_indexes_model_2 : list):\n",
    "    \"\"\"\n",
    "    Predict presence of damage and damage class based on image\n",
    "    \"\"\"\n",
    "    preprocessed_X_tiles=[]\n",
    "    for i in image_indexes_model_2:\n",
    "        tile_tensors = []\n",
    "        for t in tile_arrays[i]:\n",
    "            tile_tensors.append(array_to_tensor(t))\n",
    "        preprocessed_X_tiles.append(tile_tensors)\n",
    "\n",
    "    return preprocessed_X_tiles"
   ]
  },
  {
   "cell_type": "markdown",
   "id": "c21ffd54-7bad-435b-937b-ee0aede76665",
   "metadata": {},
   "source": [
    "## Load model"
   ]
  },
  {
   "cell_type": "code",
   "execution_count": 42,
   "id": "49ee4c8b-cfb8-4430-9516-f09b7aad500d",
   "metadata": {},
   "outputs": [],
   "source": [
    "model = load_model('/Users/leila/code/meloeckert/solar_project/model_multiclass_clean_damage_dirt.h5')"
   ]
  },
  {
   "cell_type": "code",
   "execution_count": 43,
   "id": "e0b59df1-41e6-4dfd-8d6e-c2aa19f05fd3",
   "metadata": {},
   "outputs": [],
   "source": [
    "def find_index_of_max_element(input_list):\n",
    "    max_value = max(input_list)\n",
    "    max_index = input_list.index(max_value)\n",
    "    return max_index"
   ]
  },
  {
   "cell_type": "code",
   "execution_count": 92,
   "id": "51037eca-8256-484c-9f85-f189dfe17bcd",
   "metadata": {},
   "outputs": [],
   "source": [
    "#app.state.model = load_model()\n",
    "\n",
    "def predict_1(preprocessed_X : dict):\n",
    "    \n",
    "    results = {}\n",
    "    names_of_classes = ['clean','damaged','dirty']\n",
    "    \n",
    "    for x in range(len(preprocessed_X['tensors'])):\n",
    "        preds = model.predict(preprocessed_X['tensors'][x])\n",
    "        res = names_of_classes[find_index_of_max_element(preds[0].tolist())]\n",
    "        \n",
    "        if res != 'dirty':\n",
    "            res = predict_2(preprocessed_X['tile_arrays'][x])\n",
    "              \n",
    "        filename = preprocessed_X['filenames'][x]\n",
    "        res[f'{filename}'] = res\n",
    "        \n",
    "    results_json = json.dumps(results)\n",
    "    return results_json"
   ]
  },
  {
   "cell_type": "code",
   "execution_count": 72,
   "id": "88d5d5d5-5a87-4f33-994d-59d593833873",
   "metadata": {},
   "outputs": [],
   "source": [
    "preprocessed_X = preprocess(test)\n",
    "predict_1(preprocessed_X))"
   ]
  },
  {
   "cell_type": "code",
   "execution_count": null,
   "id": "8dacdaa0-b205-4858-a7b0-4cc6382152dd",
   "metadata": {},
   "outputs": [],
   "source": [
    "def predict_2(tile_arrays : dict):\n",
    "    results = {}\n",
    "\n",
    "    for t in tile_arrays:\n",
    "        preds = model_2.predict(t)\n",
    "        res = names_of_classes[find_index_of_max_element(preds[0].tolist())]\n",
    "        results.append(res)\n",
    "\n",
    "    #some logic to derive single result from tile results\n",
    "    #if using pred probabilities, amend for-loop to append preds somewhere\n",
    "\n",
    "    res = \"tbd\"\n",
    "    return res"
   ]
  },
  {
   "cell_type": "markdown",
   "id": "49164ab9-d812-427f-9e52-616f7aeffacb",
   "metadata": {},
   "source": [
    "## Rough work   "
   ]
  },
  {
   "cell_type": "code",
   "execution_count": null,
   "id": "99de0814-83c7-4872-9bc7-c9428f8d90dd",
   "metadata": {},
   "outputs": [],
   "source": [
    "\n",
    "        \n",
    "    \n",
    "    \n",
    "    def convert_to_jpeg(filepath):\n",
    "        #Load image\n",
    "        img= Image.open(filepath)\n",
    "        \n",
    "        # Convert the image to RGB mode\n",
    "        img = img.convert(\"RGB\")\n",
    "                \n",
    "        # Save the image in JPEG format as <original filepath>.jpeg to the \"jpeg_tmp\" folder \n",
    "        name = os.path.basename(filepath).replace(\"jpg\", \"jpeg\")\n",
    "        new_filepath = os.path.join(os.getcwd(), \"jpeg_tmp\", name)\n",
    "        img.save(new_filepath, \"JPEG\")\n",
    "                \n",
    "        # Close the image to free resources\n",
    "        img.close()\n",
    "        \n",
    "        #print(\"Image format conversion complete.\")     \n",
    "        return new_filepath\n",
    "\n",
    "    \n",
    "    def file_to_arrays_list(filepath):\n",
    "        '''Converts JPEG files to arrays and appends arrays & filenames to 'arrays' & 'filenames' lists\n",
    "        Appends filenames of unprocessible files to 'invalid' list'''\n",
    "        \n",
    "        image= Image.open(filepath)\n",
    "        image_array=np.array(image)\n",
    "        arrays.append(image_array)\n",
    "\n",
    "\n",
    "    filepaths = []\n",
    "    arrays=[]\n",
    "    invalid = []\n",
    "    \n",
    "    #Gets file paths for input files\n",
    "    for root, dirs, files in os.walk(image_path):\n",
    "        for file in files:\n",
    "            filepath = os.path.join(root, file)\n",
    "            #Ignores macOS hidden system file in directories\n",
    "            if filepath.lower().endswith(\".ds_store\"):\n",
    "                continue\n",
    "            \n",
    "            try:\n",
    "                #Converts JPEG files to arrays and add filepath to 'filepaths' list\n",
    "                if file.lower().endswith(\".jpeg\"):\n",
    "                    file_to_arrays_list(filepath)\n",
    "                    filepaths.append(filepath)\n",
    "                \n",
    "                #Processes non-JPEG image files, converts to arrays and adds original image filepath to 'filepaths' list\n",
    "                else:           \n",
    "                    #Creates jpeg_tmp for converted images if not already created                        \n",
    "                    if not os.path.exists(os.path.join(os.getcwd(), \"jpeg_tmp\")):\n",
    "                            os.makedirs(os.path.join(os.getcwd(), \"jpeg_tmp\"))\n",
    "                \n",
    "                    #Save JPEG to jpeg_tmp with original filepath as name              \n",
    "                    original_filepath=filepath\n",
    "                    filepath = convert_to_jpeg(filepath)\n",
    "                    \n",
    "                    #Converts JPEGs to arrays and adds original image filepath to 'filepaths' list\n",
    "                    file_to_arrays_list(filepath)\n",
    "                    filepaths.append(original_filepath)\n",
    "                    os.remove(filepath)\n",
    "            \n",
    "            except Exception as e:\n",
    "                if file.lower().endswith(\".DS_Store\"):\n",
    "                    continue\n",
    "                else:\n",
    "                    print(\"Error processing:\", filepath)\n",
    "                    print(\"Error:\", e)\n",
    "                    invalid.append(filepath)\n",
    "                    if filepath.lower().endswith(\".ds_store\"):\n",
    "                        print(\"Skipping .DS_Store:\", filepath)   \n",
    "                        print(filepath)\n",
    "                    \n",
    "\n",
    "    print(\"Filepaths list is \"+str(len(filepaths)))\n",
    "    print(\"Arrays list\"+str(len(arrays)))\n",
    "    print(\"Invalid is \"+str(len(invalid)))\n",
    "    \n",
    "    return {'Filename':filepaths, \n",
    "        'Prediction': arrays,\n",
    "           'Errors': invalid}"
   ]
  }
 ],
 "metadata": {
  "kernelspec": {
   "display_name": "Python 3 (ipykernel)",
   "language": "python",
   "name": "python3"
  },
  "language_info": {
   "codemirror_mode": {
    "name": "ipython",
    "version": 3
   },
   "file_extension": ".py",
   "mimetype": "text/x-python",
   "name": "python",
   "nbconvert_exporter": "python",
   "pygments_lexer": "ipython3",
   "version": "3.10.6"
  }
 },
 "nbformat": 4,
 "nbformat_minor": 5
}
