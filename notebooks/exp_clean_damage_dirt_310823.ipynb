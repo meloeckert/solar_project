{
 "cells": [
  {
   "cell_type": "markdown",
   "id": "31aced20",
   "metadata": {},
   "source": [
    "# Experiment: Model with 3 classes (clean, damaged, dirt)"
   ]
  },
  {
   "cell_type": "markdown",
   "id": "dff86168-1016-4ae3-8fe3-87054d08abe0",
   "metadata": {},
   "source": [
    "## Unbalaced classes"
   ]
  },
  {
   "cell_type": "code",
   "execution_count": 1,
   "id": "205e029f",
   "metadata": {},
   "outputs": [
    {
     "name": "stderr",
     "output_type": "stream",
     "text": [
      "2023-09-06 11:21:56.869243: I tensorflow/core/platform/cpu_feature_guard.cc:193] This TensorFlow binary is optimized with oneAPI Deep Neural Network Library (oneDNN) to use the following CPU instructions in performance-critical operations:  AVX2 FMA\n",
      "To enable them in other operations, rebuild TensorFlow with the appropriate compiler flags.\n",
      "2023-09-06 11:21:56.978899: W tensorflow/stream_executor/platform/default/dso_loader.cc:64] Could not load dynamic library 'libcudart.so.11.0'; dlerror: libcudart.so.11.0: cannot open shared object file: No such file or directory\n",
      "2023-09-06 11:21:56.978915: I tensorflow/stream_executor/cuda/cudart_stub.cc:29] Ignore above cudart dlerror if you do not have a GPU set up on your machine.\n",
      "2023-09-06 11:21:57.000721: E tensorflow/stream_executor/cuda/cuda_blas.cc:2981] Unable to register cuBLAS factory: Attempting to register factory for plugin cuBLAS when one has already been registered\n",
      "2023-09-06 11:21:57.758627: W tensorflow/stream_executor/platform/default/dso_loader.cc:64] Could not load dynamic library 'libnvinfer.so.7'; dlerror: libnvinfer.so.7: cannot open shared object file: No such file or directory\n",
      "2023-09-06 11:21:57.758744: W tensorflow/stream_executor/platform/default/dso_loader.cc:64] Could not load dynamic library 'libnvinfer_plugin.so.7'; dlerror: libnvinfer_plugin.so.7: cannot open shared object file: No such file or directory\n",
      "2023-09-06 11:21:57.758753: W tensorflow/compiler/tf2tensorrt/utils/py_utils.cc:38] TF-TRT Warning: Cannot dlopen some TensorRT libraries. If you would like to use Nvidia GPU with TensorRT, please make sure the missing libraries mentioned above are installed properly.\n"
     ]
    }
   ],
   "source": [
    "#load images\n",
    "from tensorflow.keras.preprocessing.image import array_to_img, img_to_array, load_img\n",
    "from tensorflow.keras.utils import image_dataset_from_directory\n",
    "from tensorflow.keras.models import Sequential, Model\n",
    "from tensorflow.keras import layers, optimizers, callbacks\n",
    "import matplotlib.pyplot as plt \n",
    "from tensorflow.keras.losses import SparseCategoricalCrossentropy\n",
    "from PIL import Image\n",
    "import os\n",
    "%matplotlib inline"
   ]
  },
  {
   "cell_type": "code",
   "execution_count": 2,
   "id": "10c805b9",
   "metadata": {},
   "outputs": [
    {
     "name": "stdout",
     "output_type": "stream",
     "text": [
      "Found 624 files belonging to 3 classes.\n",
      "Found 90 files belonging to 3 classes.\n"
     ]
    },
    {
     "name": "stderr",
     "output_type": "stream",
     "text": [
      "2023-09-06 11:22:00.949014: W tensorflow/stream_executor/platform/default/dso_loader.cc:64] Could not load dynamic library 'libcuda.so.1'; dlerror: libcuda.so.1: cannot open shared object file: No such file or directory\n",
      "2023-09-06 11:22:00.949053: W tensorflow/stream_executor/cuda/cuda_driver.cc:263] failed call to cuInit: UNKNOWN ERROR (303)\n",
      "2023-09-06 11:22:00.949068: I tensorflow/stream_executor/cuda/cuda_diagnostics.cc:156] kernel driver does not appear to be running on this host (LAPTOP-JJG0M1AU): /proc/driver/nvidia/version does not exist\n",
      "2023-09-06 11:22:00.949316: I tensorflow/core/platform/cpu_feature_guard.cc:193] This TensorFlow binary is optimized with oneAPI Deep Neural Network Library (oneDNN) to use the following CPU instructions in performance-critical operations:  AVX2 FMA\n",
      "To enable them in other operations, rebuild TensorFlow with the appropriate compiler flags.\n"
     ]
    }
   ],
   "source": [
    "batch_size = 32\n",
    "current_path = os.getcwd()\n",
    "train_data_dir = os.path.join(current_path,'..',\"raw_data/exp-training-data/\")\n",
    "test_data_dir = os.path.join(current_path,'..',\"raw_data/exp-val-data/\")\n",
    "\n",
    "train_data = image_dataset_from_directory(\n",
    "  train_data_dir,\n",
    "  #labels = \"inferred\",\n",
    "  label_mode = \"int\",  \n",
    "  seed=123,\n",
    "  image_size=(225, 225),\n",
    "  batch_size=batch_size,\n",
    "  #validation_split=0.2,\n",
    "  #subset='both'\n",
    ") \n",
    "val_data = image_dataset_from_directory(\n",
    "   test_data_dir,\n",
    "   #labels = \"inferred\",\n",
    "   label_mode = \"int\",\n",
    "   seed=123,\n",
    "   image_size=(225, 225),\n",
    "   batch_size=batch_size,\n",
    " )\n",
    "\n",
    "#train_data = train_ds[0]\n",
    "#val_data = train_ds[1]"
   ]
  },
  {
   "cell_type": "code",
   "execution_count": 3,
   "id": "3e03f6b7",
   "metadata": {},
   "outputs": [
    {
     "data": {
      "text/plain": [
       "['clean', 'damaged', 'dirty']"
      ]
     },
     "execution_count": 3,
     "metadata": {},
     "output_type": "execute_result"
    }
   ],
   "source": [
    "classes1 = train_data.class_names\n",
    "classes1"
   ]
  },
  {
   "cell_type": "code",
   "execution_count": 4,
   "id": "efc10899",
   "metadata": {},
   "outputs": [
    {
     "data": {
      "text/plain": [
       "['clean', 'damaged', 'dirty']"
      ]
     },
     "execution_count": 4,
     "metadata": {},
     "output_type": "execute_result"
    }
   ],
   "source": [
    "classes2 = val_data.class_names\n",
    "classes2"
   ]
  },
  {
   "cell_type": "code",
   "execution_count": null,
   "id": "a699092d",
   "metadata": {},
   "outputs": [],
   "source": []
  },
  {
   "cell_type": "markdown",
   "id": "64e25720",
   "metadata": {},
   "source": [
    "### Model"
   ]
  },
  {
   "cell_type": "code",
   "execution_count": 5,
   "id": "ced0be1a",
   "metadata": {},
   "outputs": [
    {
     "name": "stdout",
     "output_type": "stream",
     "text": [
      "WARNING:tensorflow:Using a while_loop for converting RngReadAndSkip cause there is no registered converter for this op.\n",
      "WARNING:tensorflow:Using a while_loop for converting Bitcast cause there is no registered converter for this op.\n",
      "WARNING:tensorflow:Using a while_loop for converting Bitcast cause there is no registered converter for this op.\n",
      "WARNING:tensorflow:Using a while_loop for converting StatelessRandomUniformV2 cause there is no registered converter for this op.\n",
      "WARNING:tensorflow:Using a while_loop for converting ImageProjectiveTransformV3 cause there is no registered converter for this op.\n",
      "WARNING:tensorflow:Using a while_loop for converting RngReadAndSkip cause there is no registered converter for this op.\n",
      "WARNING:tensorflow:Using a while_loop for converting Bitcast cause there is no registered converter for this op.\n",
      "WARNING:tensorflow:Using a while_loop for converting Bitcast cause there is no registered converter for this op.\n",
      "WARNING:tensorflow:Using a while_loop for converting StatelessRandomUniformV2 cause there is no registered converter for this op.\n",
      "WARNING:tensorflow:Using a while_loop for converting RngReadAndSkip cause there is no registered converter for this op.\n",
      "WARNING:tensorflow:Using a while_loop for converting Bitcast cause there is no registered converter for this op.\n",
      "WARNING:tensorflow:Using a while_loop for converting Bitcast cause there is no registered converter for this op.\n",
      "WARNING:tensorflow:Using a while_loop for converting StatelessRandomUniformV2 cause there is no registered converter for this op.\n",
      "WARNING:tensorflow:Using a while_loop for converting RngReadAndSkip cause there is no registered converter for this op.\n",
      "WARNING:tensorflow:Using a while_loop for converting Bitcast cause there is no registered converter for this op.\n",
      "WARNING:tensorflow:Using a while_loop for converting Bitcast cause there is no registered converter for this op.\n",
      "WARNING:tensorflow:Using a while_loop for converting StatelessRandomUniformV2 cause there is no registered converter for this op.\n",
      "WARNING:tensorflow:Using a while_loop for converting ImageProjectiveTransformV3 cause there is no registered converter for this op.\n"
     ]
    }
   ],
   "source": [
    "# We'll use a model with the same convolutional layers, but we'll add Augmentation layers before that\n",
    "\n",
    "model_multi = Sequential()\n",
    "\n",
    "model_multi.add(layers.Rescaling(1./255, input_shape = (225, 225, 3)))\n",
    "\n",
    "# Data Augmentation Layers\n",
    "\n",
    "model_multi.add(layers.RandomFlip(\"horizontal\"))\n",
    "model_multi.add(layers.RandomZoom(0.1))\n",
    "model_multi.add(layers.RandomTranslation(0.2, 0.2))\n",
    "model_multi.add(layers.RandomRotation(0.1))\n",
    "\n",
    "\n",
    "# Convolutional Layers\n",
    "\n",
    "model_multi.add(layers.Conv2D(filters = 32, kernel_size = (3,3), activation=\"relu\", padding = \"same\"))\n",
    "model_multi.add(layers.MaxPooling2D(pool_size=(2, 2), padding = \"same\") )\n",
    "\n",
    "\n",
    "model_multi.add(layers.Conv2D(filters = 32, kernel_size = (3,3), input_shape = (225, 225, 3), activation=\"relu\", padding = \"same\"))\n",
    "model_multi.add(layers.MaxPooling2D(pool_size=(2, 2), padding = \"same\") )\n",
    "\n",
    "\n",
    "model_multi.add(layers.Conv2D(filters = 64, kernel_size = (3,3), input_shape = (225, 225, 3), activation=\"relu\", padding = \"same\"))\n",
    "model_multi.add(layers.MaxPooling2D(pool_size=(2, 2), padding = \"same\") )\n",
    "\n",
    "model_multi.add(layers.Conv2D(filters = 128, kernel_size = (3,3), input_shape = (225, 225, 3), activation=\"relu\", padding = \"same\"))\n",
    "model_multi.add(layers.MaxPooling2D(pool_size=(2, 2), padding = \"same\") )\n",
    "\n",
    "model_multi.add(layers.Flatten())\n",
    "\n",
    "model_multi.add(layers.Dense(64, activation=\"relu\"))\n",
    "\n",
    "model_multi.add(layers.Dropout(0.5))\n",
    "\n",
    "model_multi.add(layers.Dense(3, activation=\"softmax\"))"
   ]
  },
  {
   "cell_type": "code",
   "execution_count": 6,
   "id": "56f3faa4",
   "metadata": {},
   "outputs": [
    {
     "name": "stdout",
     "output_type": "stream",
     "text": [
      "Model: \"sequential\"\n",
      "_________________________________________________________________\n",
      " Layer (type)                Output Shape              Param #   \n",
      "=================================================================\n",
      " rescaling (Rescaling)       (None, 225, 225, 3)       0         \n",
      "                                                                 \n",
      " random_flip (RandomFlip)    (None, 225, 225, 3)       0         \n",
      "                                                                 \n",
      " random_zoom (RandomZoom)    (None, 225, 225, 3)       0         \n",
      "                                                                 \n",
      " random_translation (RandomT  (None, 225, 225, 3)      0         \n",
      " ranslation)                                                     \n",
      "                                                                 \n",
      " random_rotation (RandomRota  (None, 225, 225, 3)      0         \n",
      " tion)                                                           \n",
      "                                                                 \n",
      " conv2d (Conv2D)             (None, 225, 225, 32)      896       \n",
      "                                                                 \n",
      " max_pooling2d (MaxPooling2D  (None, 113, 113, 32)     0         \n",
      " )                                                               \n",
      "                                                                 \n",
      " conv2d_1 (Conv2D)           (None, 113, 113, 32)      9248      \n",
      "                                                                 \n",
      " max_pooling2d_1 (MaxPooling  (None, 57, 57, 32)       0         \n",
      " 2D)                                                             \n",
      "                                                                 \n",
      " conv2d_2 (Conv2D)           (None, 57, 57, 64)        18496     \n",
      "                                                                 \n",
      " max_pooling2d_2 (MaxPooling  (None, 29, 29, 64)       0         \n",
      " 2D)                                                             \n",
      "                                                                 \n",
      " conv2d_3 (Conv2D)           (None, 29, 29, 128)       73856     \n",
      "                                                                 \n",
      " max_pooling2d_3 (MaxPooling  (None, 15, 15, 128)      0         \n",
      " 2D)                                                             \n",
      "                                                                 \n",
      " flatten (Flatten)           (None, 28800)             0         \n",
      "                                                                 \n",
      " dense (Dense)               (None, 64)                1843264   \n",
      "                                                                 \n",
      " dropout (Dropout)           (None, 64)                0         \n",
      "                                                                 \n",
      " dense_1 (Dense)             (None, 3)                 195       \n",
      "                                                                 \n",
      "=================================================================\n",
      "Total params: 1,945,955\n",
      "Trainable params: 1,945,955\n",
      "Non-trainable params: 0\n",
      "_________________________________________________________________\n"
     ]
    }
   ],
   "source": [
    "model_multi.summary()"
   ]
  },
  {
   "cell_type": "code",
   "execution_count": 7,
   "id": "d5bfe794",
   "metadata": {},
   "outputs": [],
   "source": [
    "adam = optimizers.Adam(learning_rate = 0.001)\n",
    "\n",
    "model_multi.compile(loss= SparseCategoricalCrossentropy(),\n",
    "              optimizer= adam,\n",
    "              metrics=['accuracy'])"
   ]
  },
  {
   "cell_type": "code",
   "execution_count": 8,
   "id": "1dd6dc7e",
   "metadata": {},
   "outputs": [],
   "source": [
    "MODEL = \"model_multiclass_clean_damage_dirt_230904_statusquo_v2\"\n",
    "\n",
    "modelCheckpoint = callbacks.ModelCheckpoint(\"{}.h5\".format(MODEL), monitor=\"val_loss\", verbose=0, save_best_only=True)\n",
    "\n",
    "LRreducer = callbacks.ReduceLROnPlateau(monitor=\"val_loss\", factor = 0.1, patience=3, verbose=1, min_lr=0)\n",
    "\n",
    "EarlyStopper = callbacks.EarlyStopping(monitor='val_loss', patience=10, verbose=0, restore_best_weights=True)"
   ]
  },
  {
   "cell_type": "code",
   "execution_count": 9,
   "id": "933cf1f6",
   "metadata": {},
   "outputs": [
    {
     "name": "stdout",
     "output_type": "stream",
     "text": [
      "total: 627\n",
      "clean weight: 4.18\n",
      "damage weight: 4.714285714285714\n",
      "dirt weight: 1.822674418604651\n"
     ]
    }
   ],
   "source": [
    "#new weights - remove snow images, and macro pic of bird\n",
    "clean = 150 \n",
    "damage = 133\n",
    "dirt = 344\n",
    "total = clean + damage + dirt\n",
    "print(f'total: {total}')\n",
    "clean_weight =  (clean/total)**-1\n",
    "damage_weight = (damage/total)**-1\n",
    "dirt_weight = (dirt/total)**-1\n",
    "print(f\"clean weight: {clean_weight}\")\n",
    "print(f\"damage weight: {damage_weight}\")\n",
    "print(f\"dirt weight: {dirt_weight}\")"
   ]
  },
  {
   "cell_type": "code",
   "execution_count": 10,
   "id": "274fda52",
   "metadata": {},
   "outputs": [
    {
     "name": "stdout",
     "output_type": "stream",
     "text": [
      "Epoch 1/30\n",
      "WARNING:tensorflow:Using a while_loop for converting RngReadAndSkip cause there is no registered converter for this op.\n",
      "WARNING:tensorflow:Using a while_loop for converting Bitcast cause there is no registered converter for this op.\n",
      "WARNING:tensorflow:Using a while_loop for converting Bitcast cause there is no registered converter for this op.\n",
      "WARNING:tensorflow:Using a while_loop for converting StatelessRandomUniformV2 cause there is no registered converter for this op.\n",
      "WARNING:tensorflow:Using a while_loop for converting ImageProjectiveTransformV3 cause there is no registered converter for this op.\n",
      "WARNING:tensorflow:Using a while_loop for converting RngReadAndSkip cause there is no registered converter for this op.\n",
      "WARNING:tensorflow:Using a while_loop for converting Bitcast cause there is no registered converter for this op.\n",
      "WARNING:tensorflow:Using a while_loop for converting Bitcast cause there is no registered converter for this op.\n",
      "WARNING:tensorflow:Using a while_loop for converting StatelessRandomUniformV2 cause there is no registered converter for this op.\n",
      "WARNING:tensorflow:Using a while_loop for converting RngReadAndSkip cause there is no registered converter for this op.\n",
      "WARNING:tensorflow:Using a while_loop for converting Bitcast cause there is no registered converter for this op.\n",
      "WARNING:tensorflow:Using a while_loop for converting Bitcast cause there is no registered converter for this op.\n",
      "WARNING:tensorflow:Using a while_loop for converting StatelessRandomUniformV2 cause there is no registered converter for this op.\n",
      "WARNING:tensorflow:Using a while_loop for converting RngReadAndSkip cause there is no registered converter for this op.\n",
      "WARNING:tensorflow:Using a while_loop for converting Bitcast cause there is no registered converter for this op.\n",
      "WARNING:tensorflow:Using a while_loop for converting Bitcast cause there is no registered converter for this op.\n",
      "WARNING:tensorflow:Using a while_loop for converting StatelessRandomUniformV2 cause there is no registered converter for this op.\n",
      "WARNING:tensorflow:Using a while_loop for converting ImageProjectiveTransformV3 cause there is no registered converter for this op.\n",
      "WARNING:tensorflow:Using a while_loop for converting RngReadAndSkip cause there is no registered converter for this op.\n",
      "WARNING:tensorflow:Using a while_loop for converting Bitcast cause there is no registered converter for this op.\n",
      "WARNING:tensorflow:Using a while_loop for converting Bitcast cause there is no registered converter for this op.\n",
      "WARNING:tensorflow:Using a while_loop for converting StatelessRandomUniformV2 cause there is no registered converter for this op.\n",
      "WARNING:tensorflow:Using a while_loop for converting ImageProjectiveTransformV3 cause there is no registered converter for this op.\n",
      "WARNING:tensorflow:Using a while_loop for converting RngReadAndSkip cause there is no registered converter for this op.\n",
      "WARNING:tensorflow:Using a while_loop for converting Bitcast cause there is no registered converter for this op.\n",
      "WARNING:tensorflow:Using a while_loop for converting Bitcast cause there is no registered converter for this op.\n",
      "WARNING:tensorflow:Using a while_loop for converting StatelessRandomUniformV2 cause there is no registered converter for this op.\n",
      "WARNING:tensorflow:Using a while_loop for converting RngReadAndSkip cause there is no registered converter for this op.\n",
      "WARNING:tensorflow:Using a while_loop for converting Bitcast cause there is no registered converter for this op.\n",
      "WARNING:tensorflow:Using a while_loop for converting Bitcast cause there is no registered converter for this op.\n",
      "WARNING:tensorflow:Using a while_loop for converting StatelessRandomUniformV2 cause there is no registered converter for this op.\n",
      "WARNING:tensorflow:Using a while_loop for converting RngReadAndSkip cause there is no registered converter for this op.\n",
      "WARNING:tensorflow:Using a while_loop for converting Bitcast cause there is no registered converter for this op.\n",
      "WARNING:tensorflow:Using a while_loop for converting Bitcast cause there is no registered converter for this op.\n",
      "WARNING:tensorflow:Using a while_loop for converting StatelessRandomUniformV2 cause there is no registered converter for this op.\n",
      "WARNING:tensorflow:Using a while_loop for converting ImageProjectiveTransformV3 cause there is no registered converter for this op.\n",
      "20/20 [==============================] - 29s 1s/step - loss: 3.3214 - accuracy: 0.3558 - val_loss: 1.0383 - val_accuracy: 0.5111 - lr: 0.0010\n",
      "Epoch 2/30\n",
      "20/20 [==============================] - 30s 1s/step - loss: 3.0654 - accuracy: 0.5369 - val_loss: 0.9523 - val_accuracy: 0.6111 - lr: 0.0010\n",
      "Epoch 3/30\n",
      "20/20 [==============================] - 31s 1s/step - loss: 3.1243 - accuracy: 0.5625 - val_loss: 1.0379 - val_accuracy: 0.4333 - lr: 0.0010\n",
      "Epoch 4/30\n",
      "20/20 [==============================] - 32s 1s/step - loss: 2.8511 - accuracy: 0.6138 - val_loss: 1.0823 - val_accuracy: 0.5333 - lr: 0.0010\n",
      "Epoch 5/30\n",
      "20/20 [==============================] - 31s 1s/step - loss: 2.7562 - accuracy: 0.6138 - val_loss: 0.9154 - val_accuracy: 0.5778 - lr: 0.0010\n",
      "Epoch 6/30\n",
      "20/20 [==============================] - 32s 1s/step - loss: 2.7548 - accuracy: 0.6250 - val_loss: 0.8919 - val_accuracy: 0.5889 - lr: 0.0010\n",
      "Epoch 7/30\n",
      "20/20 [==============================] - 32s 2s/step - loss: 2.6891 - accuracy: 0.6426 - val_loss: 0.9080 - val_accuracy: 0.6111 - lr: 0.0010\n",
      "Epoch 8/30\n",
      "20/20 [==============================] - 34s 2s/step - loss: 2.8353 - accuracy: 0.6234 - val_loss: 0.9650 - val_accuracy: 0.5667 - lr: 0.0010\n",
      "Epoch 9/30\n",
      "20/20 [==============================] - 34s 2s/step - loss: 2.7097 - accuracy: 0.6122 - val_loss: 0.8779 - val_accuracy: 0.6667 - lr: 0.0010\n",
      "Epoch 10/30\n",
      "20/20 [==============================] - 36s 2s/step - loss: 2.5860 - accuracy: 0.6538 - val_loss: 0.9529 - val_accuracy: 0.6111 - lr: 0.0010\n",
      "Epoch 11/30\n",
      "20/20 [==============================] - 36s 2s/step - loss: 2.7542 - accuracy: 0.6346 - val_loss: 0.8670 - val_accuracy: 0.6222 - lr: 0.0010\n",
      "Epoch 12/30\n",
      "20/20 [==============================] - 34s 2s/step - loss: 2.7428 - accuracy: 0.6282 - val_loss: 0.9565 - val_accuracy: 0.5778 - lr: 0.0010\n",
      "Epoch 13/30\n",
      "20/20 [==============================] - 35s 2s/step - loss: 2.6638 - accuracy: 0.6154 - val_loss: 0.8371 - val_accuracy: 0.6556 - lr: 0.0010\n",
      "Epoch 14/30\n",
      "20/20 [==============================] - 35s 2s/step - loss: 2.6338 - accuracy: 0.6314 - val_loss: 0.8879 - val_accuracy: 0.6111 - lr: 0.0010\n",
      "Epoch 15/30\n",
      "20/20 [==============================] - 37s 2s/step - loss: 2.6094 - accuracy: 0.6250 - val_loss: 0.8947 - val_accuracy: 0.6333 - lr: 0.0010\n",
      "Epoch 16/30\n",
      "20/20 [==============================] - ETA: 0s - loss: 2.6083 - accuracy: 0.6554\n",
      "Epoch 16: ReduceLROnPlateau reducing learning rate to 0.00010000000474974513.\n",
      "20/20 [==============================] - 36s 2s/step - loss: 2.6083 - accuracy: 0.6554 - val_loss: 0.8449 - val_accuracy: 0.6778 - lr: 0.0010\n",
      "Epoch 17/30\n",
      "20/20 [==============================] - 40s 2s/step - loss: 2.5044 - accuracy: 0.6490 - val_loss: 0.8322 - val_accuracy: 0.6333 - lr: 1.0000e-04\n",
      "Epoch 18/30\n",
      "20/20 [==============================] - 47s 2s/step - loss: 2.5233 - accuracy: 0.6554 - val_loss: 0.8563 - val_accuracy: 0.6444 - lr: 1.0000e-04\n",
      "Epoch 19/30\n",
      "20/20 [==============================] - 51s 2s/step - loss: 2.4630 - accuracy: 0.6442 - val_loss: 0.8521 - val_accuracy: 0.6444 - lr: 1.0000e-04\n",
      "Epoch 20/30\n",
      "20/20 [==============================] - ETA: 0s - loss: 2.4130 - accuracy: 0.6619\n",
      "Epoch 20: ReduceLROnPlateau reducing learning rate to 1.0000000474974514e-05.\n",
      "20/20 [==============================] - 52s 2s/step - loss: 2.4130 - accuracy: 0.6619 - val_loss: 0.8404 - val_accuracy: 0.6889 - lr: 1.0000e-04\n",
      "Epoch 21/30\n",
      "20/20 [==============================] - 60s 3s/step - loss: 2.3943 - accuracy: 0.6939 - val_loss: 0.8425 - val_accuracy: 0.6889 - lr: 1.0000e-05\n",
      "Epoch 22/30\n",
      "20/20 [==============================] - 51s 2s/step - loss: 2.5793 - accuracy: 0.6410 - val_loss: 0.8425 - val_accuracy: 0.6778 - lr: 1.0000e-05\n",
      "Epoch 23/30\n",
      "20/20 [==============================] - ETA: 0s - loss: 2.4087 - accuracy: 0.6747\n",
      "Epoch 23: ReduceLROnPlateau reducing learning rate to 1.0000000656873453e-06.\n",
      "20/20 [==============================] - 45s 2s/step - loss: 2.4087 - accuracy: 0.6747 - val_loss: 0.8444 - val_accuracy: 0.6778 - lr: 1.0000e-05\n",
      "Epoch 24/30\n",
      "20/20 [==============================] - 46s 2s/step - loss: 2.3939 - accuracy: 0.6795 - val_loss: 0.8444 - val_accuracy: 0.6778 - lr: 1.0000e-06\n",
      "Epoch 25/30\n",
      "20/20 [==============================] - 45s 2s/step - loss: 2.3714 - accuracy: 0.6522 - val_loss: 0.8444 - val_accuracy: 0.6778 - lr: 1.0000e-06\n",
      "Epoch 26/30\n",
      "20/20 [==============================] - ETA: 0s - loss: 2.3907 - accuracy: 0.6843\n",
      "Epoch 26: ReduceLROnPlateau reducing learning rate to 1.0000001111620805e-07.\n",
      "20/20 [==============================] - 46s 2s/step - loss: 2.3907 - accuracy: 0.6843 - val_loss: 0.8445 - val_accuracy: 0.6778 - lr: 1.0000e-06\n",
      "Epoch 27/30\n",
      "20/20 [==============================] - 45s 2s/step - loss: 2.4609 - accuracy: 0.6410 - val_loss: 0.8445 - val_accuracy: 0.6778 - lr: 1.0000e-07\n",
      "CPU times: user 1h 38min 34s, sys: 9min 57s, total: 1h 48min 32s\n",
      "Wall time: 17min 42s\n"
     ]
    }
   ],
   "source": [
    "%%time\n",
    "#'clean', 'damage', 'dirt'\n",
    "history_multi = model_multi.fit(\n",
    "        train_data,\n",
    "        epochs=30,\n",
    "        validation_data=val_data,\n",
    "        callbacks = [modelCheckpoint, LRreducer, EarlyStopper],\n",
    "        class_weight = {\n",
    "            0: 4.2,\n",
    "            1: 4.7,\n",
    "            2: 1.8\n",
    "        }\n",
    "        )\n"
   ]
  },
  {
   "cell_type": "code",
   "execution_count": null,
   "id": "d8800b62",
   "metadata": {},
   "outputs": [],
   "source": [
    "#improvement = (0.51 - (1/3))/(1/3)\n",
    "#improvement"
   ]
  },
  {
   "cell_type": "code",
   "execution_count": 11,
   "id": "8b5d2757",
   "metadata": {},
   "outputs": [],
   "source": [
    "def plot_history(history):\n",
    "    fig, ax = plt.subplots(1, 2, figsize=(15,5))\n",
    "    ax[0].set_title('loss')\n",
    "    ax[0].plot(history.epoch, history.history[\"loss\"], label=\"Train loss\")\n",
    "    ax[0].plot(history.epoch, history.history[\"val_loss\"], label=\"Validation loss\")\n",
    "    ax[1].set_title('accuracy')\n",
    "    ax[1].plot(history.epoch, history.history[\"accuracy\"], label=\"Train acc\")\n",
    "    ax[1].plot(history.epoch, history.history[\"val_accuracy\"], label=\"Validation acc\")\n",
    "    ax[0].legend()\n",
    "    ax[1].legend()"
   ]
  },
  {
   "cell_type": "code",
   "execution_count": 12,
   "id": "df683832",
   "metadata": {},
   "outputs": [
    {
     "data": {
      "image/png": "[encoded data removed]",
      "text/plain": [
       "<Figure size 1500x500 with 2 Axes>"
      ]
     },
     "metadata": {},
     "output_type": "display_data"
    }
   ],
   "source": [
    "plot_history(history_multi)"
   ]
  },
  {
   "cell_type": "markdown",
   "id": "24ec1d88",
   "metadata": {},
   "source": [
    "### Helper functions"
   ]
  },
  {
   "cell_type": "code",
   "execution_count": 13,
   "id": "f6da0cb1",
   "metadata": {},
   "outputs": [],
   "source": [
    "def find_index_of_max_element(input_list):\n",
    "    max_value = max(input_list)\n",
    "    max_index = input_list.index(max_value)\n",
    "    return max_index"
   ]
  },
  {
   "cell_type": "code",
   "execution_count": 14,
   "id": "bc5a8b84",
   "metadata": {},
   "outputs": [],
   "source": [
    "def predictImage_multiclass(url, model):\n",
    "\n",
    "  # Takes an image and a model\n",
    "\n",
    "  img = url\n",
    "  img = img_to_array(img)\n",
    "  img = img.reshape((-1, 225, 225, 3))\n",
    "  res = model.predict(img)\n",
    "  print(f\"Probabilities: \")\n",
    "  names_of_classes = class_names\n",
    "  print(f\"{names_of_classes}\")\n",
    "  print(f\"{res[0]}\")\n",
    "  print(f\"Result: {names_of_classes[find_index_of_max_element(res[0].tolist())]}\")  \n",
    "  return res "
   ]
  },
  {
   "cell_type": "code",
   "execution_count": 15,
   "id": "46053e10",
   "metadata": {},
   "outputs": [],
   "source": [
    "def predictImage_multiclass(url, model):\n",
    "\n",
    "  # Takes an image and a model\n",
    "\n",
    "  img = url\n",
    "  img = img_to_array(img)\n",
    "  img = img.reshape((-1, 225, 225, 3))\n",
    "  res = model.predict(img)\n",
    "  print(f\"Probabilities: \")\n",
    "  names_of_classes = class_names\n",
    "  print(f\"{names_of_classes}\")\n",
    "  print(f\"{res[0]}\")\n",
    "  print(f\"Result: {names_of_classes[find_index_of_max_element(res[0].tolist())]}\")  \n",
    "  return res "
   ]
  },
  {
   "cell_type": "code",
   "execution_count": 16,
   "id": "81984441",
   "metadata": {},
   "outputs": [
    {
     "name": "stdout",
     "output_type": "stream",
     "text": [
      "(0,)\n",
      "1/1 [==============================] - 0s 307ms/step\n",
      "pred (32,)\n",
      "label shape ()\n",
      "1/1 [==============================] - 0s 254ms/step\n",
      "pred (32,)\n",
      "label shape ()\n",
      "1/1 [==============================] - 0s 298ms/step\n",
      "pred (26,)\n",
      "label shape ()\n",
      "              precision    recall  f1-score   support\n",
      "\n",
      "       clean       0.62      0.83      0.71        30\n",
      "     damaged       0.67      0.47      0.55        30\n",
      "       dirty       0.62      0.60      0.61        30\n",
      "\n",
      "    accuracy                           0.63        90\n",
      "   macro avg       0.64      0.63      0.62        90\n",
      "weighted avg       0.64      0.63      0.62        90\n",
      "\n"
     ]
    }
   ],
   "source": [
    "import numpy as np\n",
    "from tensorflow.math import confusion_matrix\n",
    "from sklearn.metrics import classification_report\n",
    "\n",
    "\n",
    "predictions = np.array([])\n",
    "print(predictions.shape)\n",
    "labels =  np.array([])\n",
    "for x, y in val_data:\n",
    "    \n",
    "  pred = model_multi.predict(x)\n",
    "  pred = np.argmax(pred, axis=-1)\n",
    "  print(f\"pred {pred.shape}\")\n",
    "  predictions = np.concatenate([predictions, pred ])\n",
    "  label =  np.argmax(y.numpy(), axis=-1)\n",
    "  print(f\"label shape {label.shape}\")\n",
    "  labels = np.concatenate([labels, y])  #np.argmax(y.numpy()\n",
    "\n",
    "report = classification_report(labels, predictions, target_names=classes1)\n",
    "\n",
    "print(report)"
   ]
  },
  {
   "cell_type": "code",
   "execution_count": 17,
   "id": "bece1e0c",
   "metadata": {},
   "outputs": [
    {
     "data": {
      "text/plain": [
       "array([[25,  3,  2],\n",
       "       [ 7, 14,  9],\n",
       "       [ 8,  4, 18]], dtype=int32)"
      ]
     },
     "execution_count": 17,
     "metadata": {},
     "output_type": "execute_result"
    }
   ],
   "source": [
    "confusion_matrix(labels=labels, predictions=predictions).numpy()\n"
   ]
  },
  {
   "cell_type": "markdown",
   "id": "27ae9b69",
   "metadata": {},
   "source": [
    "## Test data"
   ]
  },
  {
   "cell_type": "code",
   "execution_count": 18,
   "id": "a96258fc-bb14-4bf7-9594-fffa97cac803",
   "metadata": {},
   "outputs": [],
   "source": [
    "from tensorflow.keras.models import Model, load_model"
   ]
  },
  {
   "cell_type": "code",
   "execution_count": 26,
   "id": "1bceed0c-ad78-46a0-befa-98aeb19d4d15",
   "metadata": {},
   "outputs": [],
   "source": [
    "current_dir = os.getcwd()\n",
    "# Get the latest model version name by the timestamp on disk\n",
    "local_model_path = os.path.join(current_dir,'..','solar_panel_status/models/model_multiclass_clean_damage_dirt_230904_statusquo.h5')\n",
    "latest_model = load_model(local_model_path)"
   ]
  },
  {
   "cell_type": "code",
   "execution_count": 27,
   "id": "8933bde5",
   "metadata": {},
   "outputs": [
    {
     "name": "stdout",
     "output_type": "stream",
     "text": [
      "Found 63 files belonging to 3 classes.\n"
     ]
    }
   ],
   "source": [
    "batch_size = 8\n",
    "test_data_dir = os.path.join(current_path,'..',\"raw_data/exp-test-data/\")\n",
    "\n",
    "test_data = image_dataset_from_directory(\n",
    "   test_data_dir,\n",
    "  #labels = \"inferred\",\n",
    "   label_mode = \"int\",  \n",
    "   seed=123,\n",
    "   image_size=(225, 225),\n",
    "   batch_size=batch_size,\n",
    " ) \n"
   ]
  },
  {
   "cell_type": "code",
   "execution_count": 28,
   "id": "8eba35b8",
   "metadata": {},
   "outputs": [
    {
     "name": "stdout",
     "output_type": "stream",
     "text": [
      "(0,)\n",
      "1/1 [==============================] - 0s 121ms/step\n",
      "pred (8,)\n",
      "label shape ()\n",
      "1/1 [==============================] - 0s 81ms/step\n",
      "pred (8,)\n",
      "label shape ()\n",
      "1/1 [==============================] - 0s 60ms/step\n",
      "pred (8,)\n",
      "label shape ()\n",
      "1/1 [==============================] - 0s 60ms/step\n",
      "pred (8,)\n",
      "label shape ()\n",
      "1/1 [==============================] - 0s 64ms/step\n",
      "pred (8,)\n",
      "label shape ()\n",
      "1/1 [==============================] - 0s 63ms/step\n",
      "pred (8,)\n",
      "label shape ()\n",
      "1/1 [==============================] - 0s 69ms/step\n",
      "pred (8,)\n",
      "label shape ()\n",
      "1/1 [==============================] - 0s 59ms/step\n",
      "pred (7,)\n",
      "label shape ()\n",
      "              precision    recall  f1-score   support\n",
      "\n",
      "       clean       0.64      0.76      0.70        21\n",
      "     damaged       0.70      0.67      0.68        21\n",
      "       dirty       0.89      0.76      0.82        21\n",
      "\n",
      "    accuracy                           0.73        63\n",
      "   macro avg       0.74      0.73      0.73        63\n",
      "weighted avg       0.74      0.73      0.73        63\n",
      "\n"
     ]
    }
   ],
   "source": [
    "predictions = np.array([])\n",
    "print(predictions.shape)\n",
    "labels =  np.array([])\n",
    "for x, y in test_data:\n",
    "    \n",
    "  pred = latest_model.predict(x)\n",
    "  pred = np.argmax(pred, axis=-1)\n",
    "  print(f\"pred {pred.shape}\")\n",
    "  predictions = np.concatenate([predictions, pred ])\n",
    "  label =  np.argmax(y.numpy(), axis=-1)\n",
    "  print(f\"label shape {label.shape}\")\n",
    "  labels = np.concatenate([labels, y])  #np.argmax(y.numpy()\n",
    "\n",
    "report = classification_report(labels, predictions, target_names=classes1)\n",
    "\n",
    "print(report)"
   ]
  },
  {
   "cell_type": "code",
   "execution_count": 29,
   "id": "34175573",
   "metadata": {},
   "outputs": [
    {
     "data": {
      "text/plain": [
       "array([[16,  4,  1],\n",
       "       [ 6, 14,  1],\n",
       "       [ 3,  2, 16]], dtype=int32)"
      ]
     },
     "execution_count": 29,
     "metadata": {},
     "output_type": "execute_result"
    }
   ],
   "source": [
    "confusion_matrix(labels=labels, predictions=predictions).numpy()"
   ]
  },
  {
   "cell_type": "code",
   "execution_count": null,
   "id": "5ac0348f",
   "metadata": {},
   "outputs": [],
   "source": []
  }
 ],
 "metadata": {
  "kernelspec": {
   "display_name": "Python 3 (ipykernel)",
   "language": "python",
   "name": "python3"
  },
  "language_info": {
   "codemirror_mode": {
    "name": "ipython",
    "version": 3
   },
   "file_extension": ".py",
   "mimetype": "text/x-python",
   "name": "python",
   "nbconvert_exporter": "python",
   "pygments_lexer": "ipython3",
   "version": "3.10.6"
  },
  "toc": {
   "base_numbering": 1,
   "nav_menu": {},
   "number_sections": true,
   "sideBar": true,
   "skip_h1_title": false,
   "title_cell": "Table of Contents",
   "title_sidebar": "Contents",
   "toc_cell": false,
   "toc_position": {},
   "toc_section_display": true,
   "toc_window_display": false
  }
 },
 "nbformat": 4,
 "nbformat_minor": 5
}
