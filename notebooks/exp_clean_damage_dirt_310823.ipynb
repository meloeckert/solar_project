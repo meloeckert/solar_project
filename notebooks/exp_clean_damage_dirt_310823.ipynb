{
 "cells": [
  {
   "cell_type": "markdown",
   "id": "31aced20",
   "metadata": {},
   "source": [
    "# Experiment: Model with 3 classes (clean, damaged, dirt)"
   ]
  },
  {
   "cell_type": "markdown",
   "id": "dff86168-1016-4ae3-8fe3-87054d08abe0",
   "metadata": {},
   "source": [
    "## Unbalaced classes"
   ]
  },
  {
   "cell_type": "code",
   "execution_count": 1,
   "id": "205e029f",
   "metadata": {},
   "outputs": [
    {
     "name": "stderr",
     "output_type": "stream",
     "text": [
      "2023-08-31 10:22:58.705448: I tensorflow/tsl/cuda/cudart_stub.cc:28] Could not find cuda drivers on your machine, GPU will not be used.\n",
      "2023-08-31 10:22:58.758057: I tensorflow/tsl/cuda/cudart_stub.cc:28] Could not find cuda drivers on your machine, GPU will not be used.\n",
      "2023-08-31 10:22:58.760207: I tensorflow/core/platform/cpu_feature_guard.cc:182] This TensorFlow binary is optimized to use available CPU instructions in performance-critical operations.\n",
      "To enable the following instructions: AVX2 FMA, in other operations, rebuild TensorFlow with the appropriate compiler flags.\n",
      "2023-08-31 10:22:59.874617: W tensorflow/compiler/tf2tensorrt/utils/py_utils.cc:38] TF-TRT Warning: Could not find TensorRT\n"
     ]
    }
   ],
   "source": [
    "#load images\n",
    "from tensorflow.keras.preprocessing.image import array_to_img, img_to_array, load_img\n",
    "from tensorflow.keras.utils import image_dataset_from_directory\n",
    "from tensorflow.keras.models import Sequential, Model\n",
    "from tensorflow.keras import layers, optimizers, callbacks\n",
    "import matplotlib.pyplot as plt \n",
    "from tensorflow.keras.losses import SparseCategoricalCrossentropy\n",
    "from PIL import Image\n",
    "import os\n",
    "%matplotlib inline"
   ]
  },
  {
   "cell_type": "code",
   "execution_count": 2,
   "id": "10c805b9",
   "metadata": {},
   "outputs": [
    {
     "name": "stdout",
     "output_type": "stream",
     "text": [
      "Found 627 files belonging to 3 classes.\n",
      "Found 90 files belonging to 3 classes.\n"
     ]
    }
   ],
   "source": [
    "batch_size = 32\n",
    "train_data_dir = \"raw_data/exp-training-data/\"\n",
    "test_data_dir = \"raw_data/exp-val-data/\"\n",
    "\n",
    "train_data = image_dataset_from_directory(\n",
    "  train_data_dir,\n",
    "  #labels = \"inferred\",\n",
    "  label_mode = \"int\",  \n",
    "  seed=123,\n",
    "  image_size=(225, 225),\n",
    "  batch_size=batch_size,\n",
    "  #validation_split=0.2,\n",
    "  #subset='both'\n",
    ") \n",
    "val_data = image_dataset_from_directory(\n",
    "   test_data_dir,\n",
    "   #labels = \"inferred\",\n",
    "   label_mode = \"int\",\n",
    "   seed=123,\n",
    "   image_size=(225, 225),\n",
    "   batch_size=batch_size,\n",
    " )\n",
    "\n",
    "#train_data = train_ds[0]\n",
    "#val_data = train_ds[1]"
   ]
  },
  {
   "cell_type": "code",
   "execution_count": 3,
   "id": "3e03f6b7",
   "metadata": {},
   "outputs": [
    {
     "data": {
      "text/plain": [
       "['clean', 'damage', 'dirt']"
      ]
     },
     "execution_count": 3,
     "metadata": {},
     "output_type": "execute_result"
    }
   ],
   "source": [
    "classes1 = train_data.class_names\n",
    "classes1"
   ]
  },
  {
   "cell_type": "code",
   "execution_count": 4,
   "id": "efc10899",
   "metadata": {},
   "outputs": [
    {
     "data": {
      "text/plain": [
       "['clean', 'damage', 'dirt']"
      ]
     },
     "execution_count": 4,
     "metadata": {},
     "output_type": "execute_result"
    }
   ],
   "source": [
    "classes2 = val_data.class_names\n",
    "classes2"
   ]
  },
  {
   "cell_type": "code",
   "execution_count": null,
   "id": "a699092d",
   "metadata": {},
   "outputs": [],
   "source": []
  },
  {
   "cell_type": "markdown",
   "id": "64e25720",
   "metadata": {},
   "source": [
    "### Model"
   ]
  },
  {
   "cell_type": "code",
   "execution_count": 5,
   "id": "ced0be1a",
   "metadata": {},
   "outputs": [],
   "source": [
    "# We'll use a model with the same convolutional layers, but we'll add Augmentation layers before that\n",
    "\n",
    "model_multi = Sequential()\n",
    "\n",
    "model_multi.add(layers.Rescaling(1./255, input_shape = (225, 225, 3)))\n",
    "\n",
    "# Data Augmentation Layers\n",
    "\n",
    "model_multi.add(layers.RandomFlip(\"horizontal\"))\n",
    "model_multi.add(layers.RandomZoom(0.1))\n",
    "model_multi.add(layers.RandomTranslation(0.2, 0.2))\n",
    "model_multi.add(layers.RandomRotation(0.1))\n",
    "\n",
    "\n",
    "# Convolutional Layers\n",
    "\n",
    "model_multi.add(layers.Conv2D(filters = 32, kernel_size = (3,3), activation=\"relu\", padding = \"same\"))\n",
    "model_multi.add(layers.MaxPooling2D(pool_size=(2, 2), padding = \"same\") )\n",
    "\n",
    "\n",
    "model_multi.add(layers.Conv2D(filters = 32, kernel_size = (3,3), input_shape = (225, 225, 3), activation=\"relu\", padding = \"same\"))\n",
    "model_multi.add(layers.MaxPooling2D(pool_size=(2, 2), padding = \"same\") )\n",
    "\n",
    "\n",
    "model_multi.add(layers.Conv2D(filters = 64, kernel_size = (3,3), input_shape = (225, 225, 3), activation=\"relu\", padding = \"same\"))\n",
    "model_multi.add(layers.MaxPooling2D(pool_size=(2, 2), padding = \"same\") )\n",
    "\n",
    "model_multi.add(layers.Conv2D(filters = 128, kernel_size = (3,3), input_shape = (225, 225, 3), activation=\"relu\", padding = \"same\"))\n",
    "model_multi.add(layers.MaxPooling2D(pool_size=(2, 2), padding = \"same\") )\n",
    "\n",
    "model_multi.add(layers.Flatten())\n",
    "\n",
    "model_multi.add(layers.Dense(64, activation=\"relu\"))\n",
    "\n",
    "model_multi.add(layers.Dropout(0.5))\n",
    "\n",
    "model_multi.add(layers.Dense(3, activation=\"softmax\"))"
   ]
  },
  {
   "cell_type": "code",
   "execution_count": 6,
   "id": "56f3faa4",
   "metadata": {},
   "outputs": [
    {
     "name": "stdout",
     "output_type": "stream",
     "text": [
      "Model: \"sequential\"\n",
      "_________________________________________________________________\n",
      " Layer (type)                Output Shape              Param #   \n",
      "=================================================================\n",
      " rescaling (Rescaling)       (None, 225, 225, 3)       0         \n",
      "                                                                 \n",
      " random_flip (RandomFlip)    (None, 225, 225, 3)       0         \n",
      "                                                                 \n",
      " random_zoom (RandomZoom)    (None, 225, 225, 3)       0         \n",
      "                                                                 \n",
      " random_translation (Random  (None, 225, 225, 3)       0         \n",
      " Translation)                                                    \n",
      "                                                                 \n",
      " random_rotation (RandomRot  (None, 225, 225, 3)       0         \n",
      " ation)                                                          \n",
      "                                                                 \n",
      " conv2d (Conv2D)             (None, 225, 225, 32)      896       \n",
      "                                                                 \n",
      " max_pooling2d (MaxPooling2  (None, 113, 113, 32)      0         \n",
      " D)                                                              \n",
      "                                                                 \n",
      " conv2d_1 (Conv2D)           (None, 113, 113, 32)      9248      \n",
      "                                                                 \n",
      " max_pooling2d_1 (MaxPoolin  (None, 57, 57, 32)        0         \n",
      " g2D)                                                            \n",
      "                                                                 \n",
      " conv2d_2 (Conv2D)           (None, 57, 57, 64)        18496     \n",
      "                                                                 \n",
      " max_pooling2d_2 (MaxPoolin  (None, 29, 29, 64)        0         \n",
      " g2D)                                                            \n",
      "                                                                 \n",
      " conv2d_3 (Conv2D)           (None, 29, 29, 128)       73856     \n",
      "                                                                 \n",
      " max_pooling2d_3 (MaxPoolin  (None, 15, 15, 128)       0         \n",
      " g2D)                                                            \n",
      "                                                                 \n",
      " flatten (Flatten)           (None, 28800)             0         \n",
      "                                                                 \n",
      " dense (Dense)               (None, 64)                1843264   \n",
      "                                                                 \n",
      " dropout (Dropout)           (None, 64)                0         \n",
      "                                                                 \n",
      " dense_1 (Dense)             (None, 3)                 195       \n",
      "                                                                 \n",
      "=================================================================\n",
      "Total params: 1945955 (7.42 MB)\n",
      "Trainable params: 1945955 (7.42 MB)\n",
      "Non-trainable params: 0 (0.00 Byte)\n",
      "_________________________________________________________________\n"
     ]
    }
   ],
   "source": [
    "model_multi.summary()"
   ]
  },
  {
   "cell_type": "code",
   "execution_count": 7,
   "id": "d5bfe794",
   "metadata": {},
   "outputs": [],
   "source": [
    "adam = optimizers.Adam(learning_rate = 0.001)\n",
    "\n",
    "model_multi.compile(loss= SparseCategoricalCrossentropy(),\n",
    "              optimizer= adam,\n",
    "              metrics=['accuracy'])"
   ]
  },
  {
   "cell_type": "code",
   "execution_count": 8,
   "id": "1dd6dc7e",
   "metadata": {},
   "outputs": [],
   "source": [
    "MODEL = \"model_multiclass_clean_damage_dirt_310823_v1\"\n",
    "\n",
    "modelCheckpoint = callbacks.ModelCheckpoint(\"{}.h5\".format(MODEL), monitor=\"val_loss\", verbose=0, save_best_only=True)\n",
    "\n",
    "LRreducer = callbacks.ReduceLROnPlateau(monitor=\"val_loss\", factor = 0.1, patience=3, verbose=1, min_lr=0)\n",
    "\n",
    "EarlyStopper = callbacks.EarlyStopping(monitor='val_loss', patience=10, verbose=0, restore_best_weights=True)"
   ]
  },
  {
   "cell_type": "code",
   "execution_count": 9,
   "id": "933cf1f6",
   "metadata": {},
   "outputs": [
    {
     "name": "stdout",
     "output_type": "stream",
     "text": [
      "total: 627\n",
      "clean weight: 4.18\n",
      "damage weight: 4.714285714285714\n",
      "dirt weight: 1.822674418604651\n"
     ]
    }
   ],
   "source": [
    "#new weights - remove snow images, and macro pic of bird\n",
    "clean = 150 \n",
    "damage = 133\n",
    "dirt = 344\n",
    "total = clean + damage + dirt\n",
    "print(f'total: {total}')\n",
    "clean_weight =  (clean/total)**-1\n",
    "damage_weight = (damage/total)**-1\n",
    "dirt_weight = (dirt/total)**-1\n",
    "print(f\"clean weight: {clean_weight}\")\n",
    "print(f\"damage weight: {damage_weight}\")\n",
    "print(f\"dirt weight: {dirt_weight}\")"
   ]
  },
  {
   "cell_type": "code",
   "execution_count": 10,
   "id": "274fda52",
   "metadata": {},
   "outputs": [
    {
     "name": "stdout",
     "output_type": "stream",
     "text": [
      "Epoch 1/30\n",
      "20/20 [==============================] - 24s 1s/step - loss: 3.3434 - accuracy: 0.3206 - val_loss: 1.0605 - val_accuracy: 0.3778 - lr: 0.0010\n",
      "Epoch 2/30\n"
     ]
    },
    {
     "name": "stderr",
     "output_type": "stream",
     "text": [
      "/home/emiliamelo/.pyenv/versions/3.10.6/envs/solar_project/lib/python3.10/site-packages/keras/src/engine/training.py:3000: UserWarning: You are saving your model as an HDF5 file via `model.save()`. This file format is considered legacy. We recommend using instead the native Keras format, e.g. `model.save('my_model.keras')`.\n",
      "  saving_api.save_model(\n"
     ]
    },
    {
     "name": "stdout",
     "output_type": "stream",
     "text": [
      "20/20 [==============================] - 23s 1s/step - loss: 3.0269 - accuracy: 0.5056 - val_loss: 1.0859 - val_accuracy: 0.4444 - lr: 0.0010\n",
      "Epoch 3/30\n",
      "20/20 [==============================] - 23s 1s/step - loss: 2.7239 - accuracy: 0.6108 - val_loss: 0.9665 - val_accuracy: 0.5222 - lr: 0.0010\n",
      "Epoch 4/30\n",
      "20/20 [==============================] - 24s 1s/step - loss: 2.7235 - accuracy: 0.6124 - val_loss: 0.9347 - val_accuracy: 0.5444 - lr: 0.0010\n",
      "Epoch 5/30\n",
      "20/20 [==============================] - 25s 1s/step - loss: 2.6990 - accuracy: 0.6220 - val_loss: 0.9333 - val_accuracy: 0.5778 - lr: 0.0010\n",
      "Epoch 6/30\n",
      "20/20 [==============================] - 26s 1s/step - loss: 2.7675 - accuracy: 0.6188 - val_loss: 1.0102 - val_accuracy: 0.5333 - lr: 0.0010\n",
      "Epoch 7/30\n",
      "20/20 [==============================] - 27s 1s/step - loss: 2.6377 - accuracy: 0.6396 - val_loss: 0.8531 - val_accuracy: 0.6222 - lr: 0.0010\n",
      "Epoch 8/30\n",
      "20/20 [==============================] - 26s 1s/step - loss: 2.6542 - accuracy: 0.6204 - val_loss: 0.9006 - val_accuracy: 0.6000 - lr: 0.0010\n",
      "Epoch 9/30\n",
      "20/20 [==============================] - 25s 1s/step - loss: 2.5780 - accuracy: 0.6300 - val_loss: 0.8652 - val_accuracy: 0.6556 - lr: 0.0010\n",
      "Epoch 10/30\n",
      "20/20 [==============================] - ETA: 0s - loss: 2.4974 - accuracy: 0.6699\n",
      "Epoch 10: ReduceLROnPlateau reducing learning rate to 0.00010000000474974513.\n",
      "20/20 [==============================] - 26s 1s/step - loss: 2.4974 - accuracy: 0.6699 - val_loss: 0.9254 - val_accuracy: 0.5889 - lr: 0.0010\n",
      "Epoch 11/30\n",
      "20/20 [==============================] - 25s 1s/step - loss: 2.4774 - accuracy: 0.6300 - val_loss: 0.8142 - val_accuracy: 0.6778 - lr: 1.0000e-04\n",
      "Epoch 12/30\n",
      "20/20 [==============================] - 26s 1s/step - loss: 2.3935 - accuracy: 0.6746 - val_loss: 0.8205 - val_accuracy: 0.6667 - lr: 1.0000e-04\n",
      "Epoch 13/30\n",
      "20/20 [==============================] - 25s 1s/step - loss: 2.3506 - accuracy: 0.6874 - val_loss: 0.8220 - val_accuracy: 0.6444 - lr: 1.0000e-04\n",
      "Epoch 14/30\n",
      "20/20 [==============================] - 25s 1s/step - loss: 2.3336 - accuracy: 0.6810 - val_loss: 0.8126 - val_accuracy: 0.6778 - lr: 1.0000e-04\n",
      "Epoch 15/30\n",
      "20/20 [==============================] - 25s 1s/step - loss: 2.3161 - accuracy: 0.6667 - val_loss: 0.7988 - val_accuracy: 0.6889 - lr: 1.0000e-04\n",
      "Epoch 16/30\n",
      "20/20 [==============================] - 26s 1s/step - loss: 2.3377 - accuracy: 0.6826 - val_loss: 0.7962 - val_accuracy: 0.6889 - lr: 1.0000e-04\n",
      "Epoch 17/30\n",
      "20/20 [==============================] - 29s 1s/step - loss: 2.3489 - accuracy: 0.6651 - val_loss: 0.7840 - val_accuracy: 0.7111 - lr: 1.0000e-04\n",
      "Epoch 18/30\n",
      "20/20 [==============================] - 27s 1s/step - loss: 2.2575 - accuracy: 0.7097 - val_loss: 0.7996 - val_accuracy: 0.6778 - lr: 1.0000e-04\n",
      "Epoch 19/30\n",
      "20/20 [==============================] - 26s 1s/step - loss: 2.2715 - accuracy: 0.6922 - val_loss: 0.7843 - val_accuracy: 0.7000 - lr: 1.0000e-04\n",
      "Epoch 20/30\n",
      "20/20 [==============================] - 26s 1s/step - loss: 2.3777 - accuracy: 0.6699 - val_loss: 0.7727 - val_accuracy: 0.7111 - lr: 1.0000e-04\n",
      "Epoch 21/30\n",
      "20/20 [==============================] - 27s 1s/step - loss: 2.2487 - accuracy: 0.6858 - val_loss: 0.7936 - val_accuracy: 0.6889 - lr: 1.0000e-04\n",
      "Epoch 22/30\n",
      "20/20 [==============================] - 26s 1s/step - loss: 2.2907 - accuracy: 0.6906 - val_loss: 0.7765 - val_accuracy: 0.7111 - lr: 1.0000e-04\n",
      "Epoch 23/30\n",
      "20/20 [==============================] - 28s 1s/step - loss: 2.2450 - accuracy: 0.7049 - val_loss: 0.7630 - val_accuracy: 0.7111 - lr: 1.0000e-04\n",
      "Epoch 24/30\n",
      "20/20 [==============================] - 26s 1s/step - loss: 2.2140 - accuracy: 0.6970 - val_loss: 0.7938 - val_accuracy: 0.6889 - lr: 1.0000e-04\n",
      "Epoch 25/30\n",
      "20/20 [==============================] - 27s 1s/step - loss: 2.2480 - accuracy: 0.6874 - val_loss: 0.7835 - val_accuracy: 0.7000 - lr: 1.0000e-04\n",
      "Epoch 26/30\n",
      "20/20 [==============================] - ETA: 0s - loss: 2.2106 - accuracy: 0.6906\n",
      "Epoch 26: ReduceLROnPlateau reducing learning rate to 1.0000000474974514e-05.\n",
      "20/20 [==============================] - 27s 1s/step - loss: 2.2106 - accuracy: 0.6906 - val_loss: 0.7682 - val_accuracy: 0.7111 - lr: 1.0000e-04\n",
      "Epoch 27/30\n",
      "20/20 [==============================] - 27s 1s/step - loss: 2.2198 - accuracy: 0.7225 - val_loss: 0.7720 - val_accuracy: 0.7000 - lr: 1.0000e-05\n",
      "Epoch 28/30\n",
      "20/20 [==============================] - 28s 1s/step - loss: 2.1786 - accuracy: 0.7161 - val_loss: 0.7742 - val_accuracy: 0.6889 - lr: 1.0000e-05\n",
      "Epoch 29/30\n",
      "20/20 [==============================] - ETA: 0s - loss: 2.2112 - accuracy: 0.6954\n",
      "Epoch 29: ReduceLROnPlateau reducing learning rate to 1.0000000656873453e-06.\n",
      "20/20 [==============================] - 29s 1s/step - loss: 2.2112 - accuracy: 0.6954 - val_loss: 0.7709 - val_accuracy: 0.7111 - lr: 1.0000e-05\n",
      "Epoch 30/30\n",
      "20/20 [==============================] - 29s 1s/step - loss: 2.1679 - accuracy: 0.7113 - val_loss: 0.7714 - val_accuracy: 0.7111 - lr: 1.0000e-06\n",
      "CPU times: user 1h 20min 55s, sys: 5min 15s, total: 1h 26min 11s\n",
      "Wall time: 13min 2s\n"
     ]
    }
   ],
   "source": [
    "%%time\n",
    "#'clean', 'damage', 'dirt'\n",
    "history_multi = model_multi.fit(\n",
    "        train_data,\n",
    "        epochs=30,\n",
    "        validation_data=val_data,\n",
    "        callbacks = [modelCheckpoint, LRreducer, EarlyStopper],\n",
    "        class_weight = {\n",
    "            0: 4.2,\n",
    "            1: 4.3,\n",
    "            2: 1.8\n",
    "        }\n",
    "        )\n"
   ]
  },
  {
   "cell_type": "code",
   "execution_count": 11,
   "id": "d8800b62",
   "metadata": {},
   "outputs": [],
   "source": [
    "#improvement = (0.51 - (1/3))/(1/3)\n",
    "#improvement"
   ]
  },
  {
   "cell_type": "code",
   "execution_count": 12,
   "id": "8b5d2757",
   "metadata": {},
   "outputs": [],
   "source": [
    "def plot_history(history):\n",
    "    fig, ax = plt.subplots(1, 2, figsize=(15,5))\n",
    "    ax[0].set_title('loss')\n",
    "    ax[0].plot(history.epoch, history.history[\"loss\"], label=\"Train loss\")\n",
    "    ax[0].plot(history.epoch, history.history[\"val_loss\"], label=\"Validation loss\")\n",
    "    ax[1].set_title('accuracy')\n",
    "    ax[1].plot(history.epoch, history.history[\"accuracy\"], label=\"Train acc\")\n",
    "    ax[1].plot(history.epoch, history.history[\"val_accuracy\"], label=\"Validation acc\")\n",
    "    ax[0].legend()\n",
    "    ax[1].legend()"
   ]
  },
  {
   "cell_type": "code",
   "execution_count": 13,
   "id": "df683832",
   "metadata": {},
   "outputs": [
    {
     "data": {
      "image/png": "[encoded data removed]",
      "text/plain": [
       "<Figure size 1500x500 with 2 Axes>"
      ]
     },
     "metadata": {},
     "output_type": "display_data"
    }
   ],
   "source": [
    "plot_history(history_multi)"
   ]
  },
  {
   "cell_type": "markdown",
   "id": "24ec1d88",
   "metadata": {},
   "source": [
    "### Helper functions"
   ]
  },
  {
   "cell_type": "code",
   "execution_count": 14,
   "id": "f6da0cb1",
   "metadata": {},
   "outputs": [],
   "source": [
    "def find_index_of_max_element(input_list):\n",
    "    max_value = max(input_list)\n",
    "    max_index = input_list.index(max_value)\n",
    "    return max_index"
   ]
  },
  {
   "cell_type": "code",
   "execution_count": 15,
   "id": "bc5a8b84",
   "metadata": {},
   "outputs": [],
   "source": [
    "def predictImage_multiclass(url, model):\n",
    "\n",
    "  # Takes an image and a model\n",
    "\n",
    "  img = url\n",
    "  img = img_to_array(img)\n",
    "  img = img.reshape((-1, 225, 225, 3))\n",
    "  res = model.predict(img)\n",
    "  print(f\"Probabilities: \")\n",
    "  names_of_classes = class_names\n",
    "  print(f\"{names_of_classes}\")\n",
    "  print(f\"{res[0]}\")\n",
    "  print(f\"Result: {names_of_classes[find_index_of_max_element(res[0].tolist())]}\")  \n",
    "  return res "
   ]
  },
  {
   "cell_type": "code",
   "execution_count": null,
   "id": "d59e4e00",
   "metadata": {},
   "outputs": [],
   "source": []
  },
  {
   "cell_type": "code",
   "execution_count": 16,
   "id": "20d7dc8c",
   "metadata": {},
   "outputs": [],
   "source": [
    "# img_clean_1 = load_img(f\"raw_data/training-data/clean/Cleaan (4).jpeg\", target_size=(225, 225))\n",
    "# predictImage_multiclass(img_clean_1,model_multi)\n",
    "# plt.imshow(img_clean_1);"
   ]
  },
  {
   "cell_type": "code",
   "execution_count": 17,
   "id": "fec8e8f5",
   "metadata": {},
   "outputs": [],
   "source": [
    "# img_clean_1 = load_img(f\"raw_data/training-data/clean/Cleaan (12).jpeg\", target_size=(225, 225))\n",
    "# predictImage_multiclass(img_clean_1,model_multi)\n",
    "# plt.imshow(img_clean_1);"
   ]
  },
  {
   "cell_type": "code",
   "execution_count": 18,
   "id": "4a3d357a",
   "metadata": {},
   "outputs": [],
   "source": [
    "# img_clean_1 = load_img(f\"raw_data/training-data/clean/Cleaan (21).jpeg\", target_size=(225, 225))\n",
    "# predictImage_multiclass(img_clean_1,model_multi)\n",
    "# plt.imshow(img_clean_1);"
   ]
  },
  {
   "cell_type": "markdown",
   "id": "2039e84b",
   "metadata": {},
   "source": [
    "### Snow"
   ]
  },
  {
   "cell_type": "code",
   "execution_count": 19,
   "id": "c33b8635",
   "metadata": {},
   "outputs": [],
   "source": [
    "# img_snow = load_img(f\"raw_data/training-data/solar/Solar (3).jpeg\", target_size=(225, 225))\n",
    "# predictImage_multiclass(img_snow,model_multi)\n",
    "# plt.imshow(img_snow);"
   ]
  },
  {
   "cell_type": "code",
   "execution_count": 20,
   "id": "b9a27615",
   "metadata": {},
   "outputs": [],
   "source": [
    "# img_snow = load_img(f\"raw_data/training-data/solar/Solar (12).jpeg\", target_size=(225, 225))\n",
    "# predictImage_multiclass(img_snow,model_multi)\n",
    "# plt.imshow(img_snow);"
   ]
  },
  {
   "cell_type": "code",
   "execution_count": 21,
   "id": "d1ef96fb",
   "metadata": {},
   "outputs": [],
   "source": [
    "# img_snow = load_img(f\"raw_data/training-data/solar/Solar (33).jpeg\", target_size=(225, 225))\n",
    "# predictImage_multiclass(img_snow,model_multi)\n",
    "# plt.imshow(img_snow);"
   ]
  },
  {
   "cell_type": "markdown",
   "id": "bb6b8e97",
   "metadata": {},
   "source": [
    "### Damage"
   ]
  },
  {
   "cell_type": "code",
   "execution_count": 22,
   "id": "07944347",
   "metadata": {},
   "outputs": [],
   "source": [
    "# img_electrical = load_img(f\"raw_data/training-data/electrical/Electrical (29).jpeg\", target_size=(225, 225))\n",
    "# predictImage_multiclass(img_electrical,model_multi)\n",
    "# plt.imshow(img_electrical);"
   ]
  },
  {
   "cell_type": "code",
   "execution_count": 23,
   "id": "995401cd",
   "metadata": {},
   "outputs": [],
   "source": [
    "# img_physical = load_img(f\"raw_data/training-data/physical_damaged/Physical-damaged (37).jpeg\", target_size=(225, 225))\n",
    "# predictImage_multiclass(img_physical,model_multi)\n",
    "# plt.imshow(img_physical);"
   ]
  },
  {
   "cell_type": "code",
   "execution_count": 24,
   "id": "8d7aec41",
   "metadata": {},
   "outputs": [],
   "source": [
    "# img_physical = load_img(f\"raw_data/training-data-exp/damage/Electrical (23).jpeg\", target_size=(225, 225))\n",
    "# predictImage_multiclass(img_physical,model_multi)\n",
    "# plt.imshow(img_physical);"
   ]
  },
  {
   "cell_type": "markdown",
   "id": "0b6e2603",
   "metadata": {},
   "source": [
    "### Bird or dust\n"
   ]
  },
  {
   "cell_type": "code",
   "execution_count": 25,
   "id": "22b286d2",
   "metadata": {},
   "outputs": [],
   "source": [
    "##pics bird 37,55,59,  --> macro pic on brid drop --> predicting wrong class\n",
    "# pic 65\n",
    "# img_physical = load_img(f\"raw_data/training-data/bird/Bird (65).jpeg\", target_size=(225, 225))\n",
    "# predictImage_multiclass(img_physical,model_multi)\n",
    "# plt.imshow(img_physical);"
   ]
  },
  {
   "cell_type": "code",
   "execution_count": 26,
   "id": "d2ebd73b",
   "metadata": {},
   "outputs": [],
   "source": [
    "# img_physical = load_img(f\"raw_data/training-data/bird/Bird (5).jpeg\", target_size=(225, 225))\n",
    "# predictImage_multiclass(img_physical,model_multi)\n",
    "# plt.imshow(img_physical);"
   ]
  },
  {
   "cell_type": "code",
   "execution_count": 27,
   "id": "30800da0",
   "metadata": {},
   "outputs": [],
   "source": [
    "#img_physical = load_img(f\"raw_data/training-data-exp/dirt/Bird (47).jpeg\", target_size=(225, 225))\n",
    "#predictImage_multiclass(img_physical,model_multi)\n",
    "#plt.imshow(img_physical);"
   ]
  },
  {
   "cell_type": "code",
   "execution_count": 28,
   "id": "46053e10",
   "metadata": {},
   "outputs": [],
   "source": [
    "def predictImage_multiclass(url, model):\n",
    "\n",
    "  # Takes an image and a model\n",
    "\n",
    "  img = url\n",
    "  img = img_to_array(img)\n",
    "  img = img.reshape((-1, 225, 225, 3))\n",
    "  res = model.predict(img)\n",
    "  print(f\"Probabilities: \")\n",
    "  names_of_classes = class_names\n",
    "  print(f\"{names_of_classes}\")\n",
    "  print(f\"{res[0]}\")\n",
    "  print(f\"Result: {names_of_classes[find_index_of_max_element(res[0].tolist())]}\")  \n",
    "  return res "
   ]
  },
  {
   "cell_type": "code",
   "execution_count": 29,
   "id": "81984441",
   "metadata": {},
   "outputs": [
    {
     "name": "stdout",
     "output_type": "stream",
     "text": [
      "(0,)\n",
      "1/1 [==============================] - 0s 399ms/step\n",
      "pred (32,)\n",
      "label shape ()\n",
      "1/1 [==============================] - 0s 293ms/step\n",
      "pred (32,)\n",
      "label shape ()\n",
      "1/1 [==============================] - 0s 312ms/step\n",
      "pred (26,)\n",
      "label shape ()\n",
      "              precision    recall  f1-score   support\n",
      "\n",
      "       clean       0.66      0.90      0.76        30\n",
      "      damage       0.89      0.53      0.67        30\n",
      "        dirt       0.68      0.70      0.69        30\n",
      "\n",
      "    accuracy                           0.71        90\n",
      "   macro avg       0.74      0.71      0.71        90\n",
      "weighted avg       0.74      0.71      0.71        90\n",
      "\n"
     ]
    }
   ],
   "source": [
    "import numpy as np\n",
    "from tensorflow.math import confusion_matrix\n",
    "from sklearn.metrics import classification_report\n",
    "\n",
    "\n",
    "predictions = np.array([])\n",
    "print(predictions.shape)\n",
    "labels =  np.array([])\n",
    "for x, y in val_data:\n",
    "    \n",
    "  pred = model_multi.predict(x)\n",
    "  pred = np.argmax(pred, axis=-1)\n",
    "  print(f\"pred {pred.shape}\")\n",
    "  predictions = np.concatenate([predictions, pred ])\n",
    "  label =  np.argmax(y.numpy(), axis=-1)\n",
    "  print(f\"label shape {label.shape}\")\n",
    "  labels = np.concatenate([labels, y])  #np.argmax(y.numpy()\n",
    "\n",
    "report = classification_report(labels, predictions, target_names=classes1)\n",
    "\n",
    "print(report)"
   ]
  },
  {
   "cell_type": "code",
   "execution_count": 30,
   "id": "bece1e0c",
   "metadata": {},
   "outputs": [
    {
     "data": {
      "text/plain": [
       "array([[27,  0,  3],\n",
       "       [ 7, 16,  7],\n",
       "       [ 7,  2, 21]], dtype=int32)"
      ]
     },
     "execution_count": 30,
     "metadata": {},
     "output_type": "execute_result"
    }
   ],
   "source": [
    "confusion_matrix(labels=labels, predictions=predictions).numpy()\n"
   ]
  },
  {
   "cell_type": "markdown",
   "id": "27ae9b69",
   "metadata": {},
   "source": [
    "## Test data"
   ]
  },
  {
   "cell_type": "code",
   "execution_count": 31,
   "id": "8933bde5",
   "metadata": {},
   "outputs": [],
   "source": [
    "# batch_size = 8\n",
    "# test_data_dir = \"raw_data/exp-test-data/\"\n",
    "\n",
    "# test_data = image_dataset_from_directory(\n",
    "#   test_data_dir,\n",
    "#   #labels = \"inferred\",\n",
    "#   label_mode = \"int\",  \n",
    "#   seed=123,\n",
    "#   image_size=(225, 225),\n",
    "#   batch_size=batch_size,\n",
    "# ) \n"
   ]
  },
  {
   "cell_type": "code",
   "execution_count": 32,
   "id": "8eba35b8",
   "metadata": {},
   "outputs": [],
   "source": [
    "# predictions = np.array([])\n",
    "# print(predictions.shape)\n",
    "# labels =  np.array([])\n",
    "# for x, y in test_data:\n",
    "    \n",
    "#   pred = model_multi.predict(x)\n",
    "#   pred = np.argmax(pred, axis=-1)\n",
    "#   print(f\"pred {pred.shape}\")\n",
    "#   predictions = np.concatenate([predictions, pred ])\n",
    "#   label =  np.argmax(y.numpy(), axis=-1)\n",
    "#   print(f\"label shape {label.shape}\")\n",
    "#   labels = np.concatenate([labels, y])  #np.argmax(y.numpy()\n",
    "\n",
    "# report = classification_report(labels, predictions, target_names=classes1)\n",
    "\n",
    "# print(report)"
   ]
  },
  {
   "cell_type": "code",
   "execution_count": 33,
   "id": "34175573",
   "metadata": {},
   "outputs": [
    {
     "data": {
      "text/plain": [
       "array([[27,  0,  3],\n",
       "       [ 7, 16,  7],\n",
       "       [ 7,  2, 21]], dtype=int32)"
      ]
     },
     "execution_count": 33,
     "metadata": {},
     "output_type": "execute_result"
    }
   ],
   "source": [
    "confusion_matrix(labels=labels, predictions=predictions).numpy()"
   ]
  },
  {
   "cell_type": "code",
   "execution_count": null,
   "id": "5ac0348f",
   "metadata": {},
   "outputs": [],
   "source": []
  }
 ],
 "metadata": {
  "kernelspec": {
   "display_name": "Python 3 (ipykernel)",
   "language": "python",
   "name": "python3"
  },
  "language_info": {
   "codemirror_mode": {
    "name": "ipython",
    "version": 3
   },
   "file_extension": ".py",
   "mimetype": "text/x-python",
   "name": "python",
   "nbconvert_exporter": "python",
   "pygments_lexer": "ipython3",
   "version": "3.10.6"
  },
  "toc": {
   "base_numbering": 1,
   "nav_menu": {},
   "number_sections": true,
   "sideBar": true,
   "skip_h1_title": false,
   "title_cell": "Table of Contents",
   "title_sidebar": "Contents",
   "toc_cell": false,
   "toc_position": {},
   "toc_section_display": true,
   "toc_window_display": false
  }
 },
 "nbformat": 4,
 "nbformat_minor": 5
}
