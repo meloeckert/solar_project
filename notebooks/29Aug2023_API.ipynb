{
 "cells": [
  {
   "cell_type": "code",
   "execution_count": 2,
   "id": "8d288a11-7b5c-405e-97d2-4f26e7416272",
   "metadata": {},
   "outputs": [],
   "source": [
    "from PIL import Image\n",
    "import matplotlib.pyplot as plt\n",
    "import numpy as np\n",
    "import pandas as pd\n",
    "import os"
   ]
  },
  {
   "cell_type": "code",
   "execution_count": 3,
   "id": "2e05303b-48d4-4e9f-a33d-fd40a0c7a834",
   "metadata": {},
   "outputs": [],
   "source": [
    "img = \"/Users/leila/code/meloeckert/solar_project/raw_data/Solar panel Image/Electrical-damage/\""
   ]
  },
  {
   "cell_type": "code",
   "execution_count": 15,
   "id": "df8d85f6-1e69-4b72-9dd8-29557f729a02",
   "metadata": {},
   "outputs": [],
   "source": [
    "def predict(image_path):\n",
    "    \"\"\"\n",
    "    Predict presence of damage and damage class based on image\n",
    "    \"\"\"\n",
    "    def file_to_array(filepath):\n",
    "        try:\n",
    "            image = plt.imread(filepath)\n",
    "            image_array=np.array(image)\n",
    "            arrays.append(image_array)\n",
    "\n",
    "        except:\n",
    "            invalid.append(filepath)\n",
    "\n",
    "    arrays=[]\n",
    "    invalid = []\n",
    "    if os.path.isdir(image_path):\n",
    "        for f in os.listdir(image_path):\n",
    "            filepath = os.path.join(image_path, f)\n",
    "            file_to_array(filepath)\n",
    "\n",
    "    if os.path.isfile(image_path):\n",
    "        file_to_array(image_path)\n",
    "\n",
    "    return {'Prediction': arrays,\n",
    "           'Errors': invalid}"
   ]
  },
  {
   "cell_type": "code",
   "execution_count": 20,
   "id": "9e421218-003a-42d6-be04-82a4c412424d",
   "metadata": {},
   "outputs": [
    {
     "name": "stdout",
     "output_type": "stream",
     "text": [
      "220\n"
     ]
    },
    {
     "ename": "KeyError",
     "evalue": "0",
     "output_type": "error",
     "traceback": [
      "\u001b[0;31m---------------------------------------------------------------------------\u001b[0m",
      "\u001b[0;31mKeyError\u001b[0m                                  Traceback (most recent call last)",
      "Cell \u001b[0;32mIn[20], line 5\u001b[0m\n\u001b[1;32m      3\u001b[0m file \u001b[38;5;241m=\u001b[39m \u001b[38;5;124m\"\u001b[39m\u001b[38;5;124m/Users/leila/code/meloeckert/solar_project/raw_data/Solar panel Image/Dusty\u001b[39m\u001b[38;5;124m\"\u001b[39m\n\u001b[1;32m      4\u001b[0m \u001b[38;5;28mprint\u001b[39m(\u001b[38;5;28mlen\u001b[39m(os\u001b[38;5;241m.\u001b[39mlistdir(file)))\n\u001b[0;32m----> 5\u001b[0m \u001b[38;5;28mprint\u001b[39m(\u001b[43mpredict\u001b[49m\u001b[43m(\u001b[49m\u001b[43mfile\u001b[49m\u001b[43m)\u001b[49m\u001b[43m[\u001b[49m\u001b[38;5;241;43m0\u001b[39;49m\u001b[43m]\u001b[49m)\n\u001b[1;32m      6\u001b[0m \u001b[38;5;28mprint\u001b[39m(\u001b[38;5;28mlen\u001b[39m(predict(file)[\u001b[38;5;124m'\u001b[39m\u001b[38;5;124mPrediction\u001b[39m\u001b[38;5;124m'\u001b[39m]))\n\u001b[1;32m      7\u001b[0m \u001b[38;5;28mprint\u001b[39m(\u001b[38;5;28mlen\u001b[39m(predict(file)[\u001b[38;5;124m'\u001b[39m\u001b[38;5;124mErrors\u001b[39m\u001b[38;5;124m'\u001b[39m]))\n",
      "\u001b[0;31mKeyError\u001b[0m: 0"
     ]
    }
   ],
   "source": [
    "cats = [\"Bird-drop\", \"Clean\", \"Dusty\", \"Electrical-damage\", \"Physical-Damage\", \"Snow-Covered\"]\n",
    "\n",
    "file = \"/Users/leila/code/meloeckert/solar_project/raw_data/Solar panel Image/Dusty\"\n",
    "print(len(os.listdir(file)))\n",
    "print(predict(file)[0])\n",
    "print(len(predict(file)['Prediction']))\n",
    "print(len(predict(file)['Errors']))\n"
   ]
  },
  {
   "cell_type": "code",
   "execution_count": null,
   "id": "b720b7da-2a0a-45d6-bb4a-34056cbe8857",
   "metadata": {},
   "outputs": [],
   "source": []
  },
  {
   "cell_type": "code",
   "execution_count": null,
   "id": "362c6491-6365-4bb2-aa73-f139d1e295e4",
   "metadata": {},
   "outputs": [],
   "source": []
  }
 ],
 "metadata": {
  "kernelspec": {
   "display_name": "Python 3 (ipykernel)",
   "language": "python",
   "name": "python3"
  },
  "language_info": {
   "codemirror_mode": {
    "name": "ipython",
    "version": 3
   },
   "file_extension": ".py",
   "mimetype": "text/x-python",
   "name": "python",
   "nbconvert_exporter": "python",
   "pygments_lexer": "ipython3",
   "version": "3.10.6"
  }
 },
 "nbformat": 4,
 "nbformat_minor": 5
}
