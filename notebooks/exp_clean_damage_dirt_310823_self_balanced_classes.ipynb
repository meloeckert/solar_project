{
 "cells": [
  {
   "cell_type": "markdown",
   "id": "31aced20",
   "metadata": {},
   "source": [
    "# Experiment: Model with 3 classes (clean, damaged, dirt)"
   ]
  },
  {
   "cell_type": "markdown",
   "id": "dff86168-1016-4ae3-8fe3-87054d08abe0",
   "metadata": {},
   "source": [
    "## Unbalaced classes"
   ]
  },
  {
   "cell_type": "code",
   "execution_count": 1,
   "id": "205e029f",
   "metadata": {},
   "outputs": [
    {
     "name": "stderr",
     "output_type": "stream",
     "text": [
      "2023-08-31 12:15:20.984320: I tensorflow/tsl/cuda/cudart_stub.cc:28] Could not find cuda drivers on your machine, GPU will not be used.\n",
      "2023-08-31 12:15:21.117079: I tensorflow/tsl/cuda/cudart_stub.cc:28] Could not find cuda drivers on your machine, GPU will not be used.\n",
      "2023-08-31 12:15:21.118152: I tensorflow/core/platform/cpu_feature_guard.cc:182] This TensorFlow binary is optimized to use available CPU instructions in performance-critical operations.\n",
      "To enable the following instructions: AVX2 FMA, in other operations, rebuild TensorFlow with the appropriate compiler flags.\n",
      "2023-08-31 12:15:22.618200: W tensorflow/compiler/tf2tensorrt/utils/py_utils.cc:38] TF-TRT Warning: Could not find TensorRT\n"
     ]
    }
   ],
   "source": [
    "#load images\n",
    "from tensorflow.keras.preprocessing.image import array_to_img, img_to_array, load_img\n",
    "from tensorflow.keras.utils import image_dataset_from_directory\n",
    "from tensorflow.keras.models import Sequential, Model\n",
    "from tensorflow.keras import layers, optimizers, callbacks\n",
    "import matplotlib.pyplot as plt \n",
    "from tensorflow.keras.losses import SparseCategoricalCrossentropy\n",
    "from PIL import Image\n",
    "import os\n",
    "%matplotlib inline"
   ]
  },
  {
   "cell_type": "code",
   "execution_count": 3,
   "id": "10c805b9",
   "metadata": {},
   "outputs": [
    {
     "name": "stdout",
     "output_type": "stream",
     "text": [
      "Found 399 files belonging to 3 classes.\n",
      "Found 90 files belonging to 3 classes.\n"
     ]
    }
   ],
   "source": [
    "batch_size = 32\n",
    "train_data_dir = \"raw_data/exp2-training-data-balanced/\"\n",
    "test_data_dir = \"raw_data/exp2-val-data-balanced/\"\n",
    "\n",
    "train_data = image_dataset_from_directory(\n",
    "  train_data_dir,\n",
    "  #labels = \"inferred\",\n",
    "  label_mode = \"int\",  \n",
    "  seed=123,\n",
    "  image_size=(225, 225),\n",
    "  batch_size=batch_size,\n",
    "  #validation_split=0.2,\n",
    "  #subset='both'\n",
    ") \n",
    "val_data = image_dataset_from_directory(\n",
    "   test_data_dir,\n",
    "   #labels = \"inferred\",\n",
    "   label_mode = \"int\",\n",
    "   seed=123,\n",
    "   image_size=(225, 225),\n",
    "   batch_size=batch_size,\n",
    " )\n",
    "\n",
    "#train_data = train_ds[0]\n",
    "#val_data = train_ds[1]"
   ]
  },
  {
   "cell_type": "code",
   "execution_count": 4,
   "id": "3e03f6b7",
   "metadata": {},
   "outputs": [
    {
     "data": {
      "text/plain": [
       "['clean', 'damage', 'dirt']"
      ]
     },
     "execution_count": 4,
     "metadata": {},
     "output_type": "execute_result"
    }
   ],
   "source": [
    "classes1 = train_data.class_names\n",
    "classes1"
   ]
  },
  {
   "cell_type": "code",
   "execution_count": 5,
   "id": "efc10899",
   "metadata": {},
   "outputs": [
    {
     "data": {
      "text/plain": [
       "['clean', 'damage', 'dirt']"
      ]
     },
     "execution_count": 5,
     "metadata": {},
     "output_type": "execute_result"
    }
   ],
   "source": [
    "classes2 = val_data.class_names\n",
    "classes2"
   ]
  },
  {
   "cell_type": "code",
   "execution_count": 8,
   "id": "a699092d",
   "metadata": {},
   "outputs": [
    {
     "name": "stdout",
     "output_type": "stream",
     "text": [
      "/home/emiliamelo/code/meloeckert/solar_project/notebooks\n",
      "/home/emiliamelo/code/meloeckert/solar_project/notebooks/../raw_data/exp2-val-data-balanced/dirt\n",
      "Dust (152).jpeg\n",
      "Bird (72).jpeg\n",
      "Bird (64).jpeg\n",
      "Dust (71).jpeg\n",
      "Bird (56).jpeg\n",
      "Bird (18).jpeg\n",
      "Dust (8).jpeg\n",
      "Bird (117).jpeg\n",
      "Dust (117).jpeg\n",
      "Dust (47).jpeg\n",
      "Dust (53).jpeg\n",
      "Bird (21).jpeg\n",
      "Bird (90).jpeg\n",
      "Bird (29).jpeg\n",
      "Dust (136).jpeg\n",
      "Bird (12).jpeg\n",
      "Dust (147).jpeg\n",
      "Dust (135).jpeg\n",
      "Bird (115).jpeg\n",
      "Bird (34).jpeg\n",
      "Dust (25).jpeg\n",
      "Bird (36).jpeg\n",
      "Dust (24).jpeg\n",
      "Dust (62).jpeg\n",
      "Bird (105).jpeg\n",
      "Dust (14).jpeg\n",
      "Bird (86).jpeg\n",
      "Dust (83).jpeg\n",
      "Dust (37).jpeg\n",
      "Bird (102).jpeg\n"
     ]
    }
   ],
   "source": [
    "import os\n",
    "current_path = os.getcwd()\n",
    "print(current_path)\n",
    "test_data_dir = os.path.join(current_path,\"..\", \"raw_data/exp2-val-data-balanced/dirt\")\n",
    "print(test_data_dir)\n",
    "# Specify the directory path you want to list files in\n",
    "directory = test_data_dir\n",
    "\n",
    "# List all files in the directory\n",
    "file_list = [f for f in os.listdir(directory) if os.path.isfile(os.path.join(directory, f))]\n",
    "\n",
    "# Print the list of files\n",
    "for file in file_list:\n",
    "    print(file)\n"
   ]
  },
  {
   "cell_type": "markdown",
   "id": "64e25720",
   "metadata": {},
   "source": [
    "### Model"
   ]
  },
  {
   "cell_type": "code",
   "execution_count": 6,
   "id": "ced0be1a",
   "metadata": {},
   "outputs": [],
   "source": [
    "# We'll use a model with the same convolutional layers, but we'll add Augmentation layers before that\n",
    "\n",
    "model_multi = Sequential()\n",
    "\n",
    "model_multi.add(layers.Rescaling(1./255, input_shape = (225, 225, 3)))\n",
    "\n",
    "# Data Augmentation Layers\n",
    "\n",
    "model_multi.add(layers.RandomFlip(\"horizontal\"))\n",
    "model_multi.add(layers.RandomZoom(0.1))\n",
    "model_multi.add(layers.RandomTranslation(0.2, 0.2))\n",
    "model_multi.add(layers.RandomRotation(0.1))\n",
    "\n",
    "\n",
    "# Convolutional Layers\n",
    "\n",
    "model_multi.add(layers.Conv2D(filters = 32, kernel_size = (3,3), activation=\"relu\", padding = \"same\"))\n",
    "model_multi.add(layers.MaxPooling2D(pool_size=(2, 2), padding = \"same\") )\n",
    "\n",
    "\n",
    "model_multi.add(layers.Conv2D(filters = 32, kernel_size = (3,3), input_shape = (225, 225, 3), activation=\"relu\", padding = \"same\"))\n",
    "model_multi.add(layers.MaxPooling2D(pool_size=(2, 2), padding = \"same\") )\n",
    "\n",
    "\n",
    "model_multi.add(layers.Conv2D(filters = 64, kernel_size = (3,3), input_shape = (225, 225, 3), activation=\"relu\", padding = \"same\"))\n",
    "model_multi.add(layers.MaxPooling2D(pool_size=(2, 2), padding = \"same\") )\n",
    "\n",
    "model_multi.add(layers.Conv2D(filters = 128, kernel_size = (3,3), input_shape = (225, 225, 3), activation=\"relu\", padding = \"same\"))\n",
    "model_multi.add(layers.MaxPooling2D(pool_size=(2, 2), padding = \"same\") )\n",
    "\n",
    "model_multi.add(layers.Flatten())\n",
    "\n",
    "model_multi.add(layers.Dense(64, activation=\"relu\"))\n",
    "\n",
    "model_multi.add(layers.Dropout(0.5))\n",
    "\n",
    "model_multi.add(layers.Dense(3, activation=\"softmax\"))"
   ]
  },
  {
   "cell_type": "code",
   "execution_count": 7,
   "id": "56f3faa4",
   "metadata": {},
   "outputs": [
    {
     "name": "stdout",
     "output_type": "stream",
     "text": [
      "Model: \"sequential\"\n",
      "_________________________________________________________________\n",
      " Layer (type)                Output Shape              Param #   \n",
      "=================================================================\n",
      " rescaling (Rescaling)       (None, 225, 225, 3)       0         \n",
      "                                                                 \n",
      " random_flip (RandomFlip)    (None, 225, 225, 3)       0         \n",
      "                                                                 \n",
      " random_zoom (RandomZoom)    (None, 225, 225, 3)       0         \n",
      "                                                                 \n",
      " random_translation (Random  (None, 225, 225, 3)       0         \n",
      " Translation)                                                    \n",
      "                                                                 \n",
      " random_rotation (RandomRot  (None, 225, 225, 3)       0         \n",
      " ation)                                                          \n",
      "                                                                 \n",
      " conv2d (Conv2D)             (None, 225, 225, 32)      896       \n",
      "                                                                 \n",
      " max_pooling2d (MaxPooling2  (None, 113, 113, 32)      0         \n",
      " D)                                                              \n",
      "                                                                 \n",
      " conv2d_1 (Conv2D)           (None, 113, 113, 32)      9248      \n",
      "                                                                 \n",
      " max_pooling2d_1 (MaxPoolin  (None, 57, 57, 32)        0         \n",
      " g2D)                                                            \n",
      "                                                                 \n",
      " conv2d_2 (Conv2D)           (None, 57, 57, 64)        18496     \n",
      "                                                                 \n",
      " max_pooling2d_2 (MaxPoolin  (None, 29, 29, 64)        0         \n",
      " g2D)                                                            \n",
      "                                                                 \n",
      " conv2d_3 (Conv2D)           (None, 29, 29, 128)       73856     \n",
      "                                                                 \n",
      " max_pooling2d_3 (MaxPoolin  (None, 15, 15, 128)       0         \n",
      " g2D)                                                            \n",
      "                                                                 \n",
      " flatten (Flatten)           (None, 28800)             0         \n",
      "                                                                 \n",
      " dense (Dense)               (None, 64)                1843264   \n",
      "                                                                 \n",
      " dropout (Dropout)           (None, 64)                0         \n",
      "                                                                 \n",
      " dense_1 (Dense)             (None, 3)                 195       \n",
      "                                                                 \n",
      "=================================================================\n",
      "Total params: 1945955 (7.42 MB)\n",
      "Trainable params: 1945955 (7.42 MB)\n",
      "Non-trainable params: 0 (0.00 Byte)\n",
      "_________________________________________________________________\n"
     ]
    }
   ],
   "source": [
    "model_multi.summary()"
   ]
  },
  {
   "cell_type": "code",
   "execution_count": 8,
   "id": "d5bfe794",
   "metadata": {},
   "outputs": [],
   "source": [
    "adam = optimizers.Adam(learning_rate = 0.001)\n",
    "\n",
    "model_multi.compile(loss= SparseCategoricalCrossentropy(),\n",
    "              optimizer= adam,\n",
    "              metrics=['accuracy'])"
   ]
  },
  {
   "cell_type": "code",
   "execution_count": 9,
   "id": "1dd6dc7e",
   "metadata": {},
   "outputs": [],
   "source": [
    "MODEL = \"model_multiclass_clean_damage_dirt_310823_v2_self_balanced\"\n",
    "\n",
    "modelCheckpoint = callbacks.ModelCheckpoint(\"{}.h5\".format(MODEL), monitor=\"val_loss\", verbose=0, save_best_only=True)\n",
    "\n",
    "LRreducer = callbacks.ReduceLROnPlateau(monitor=\"val_loss\", factor = 0.1, patience=3, verbose=1, min_lr=0)\n",
    "\n",
    "EarlyStopper = callbacks.EarlyStopping(monitor='val_loss', patience=10, verbose=0, restore_best_weights=True)"
   ]
  },
  {
   "cell_type": "code",
   "execution_count": 10,
   "id": "933cf1f6",
   "metadata": {},
   "outputs": [
    {
     "name": "stdout",
     "output_type": "stream",
     "text": [
      "total: 399\n",
      "clean weight: 3.0\n",
      "damage weight: 3.0\n",
      "dirt weight: 3.0\n"
     ]
    }
   ],
   "source": [
    "#new weights - remove snow images, and macro pic of bird\n",
    "clean = 133\n",
    "damage = 133\n",
    "dirt = 133\n",
    "total = clean + damage + dirt\n",
    "print(f'total: {total}')\n",
    "clean_weight =  (clean/total)**-1\n",
    "damage_weight = (damage/total)**-1\n",
    "dirt_weight = (dirt/total)**-1\n",
    "print(f\"clean weight: {clean_weight}\")\n",
    "print(f\"damage weight: {damage_weight}\")\n",
    "print(f\"dirt weight: {dirt_weight}\")"
   ]
  },
  {
   "cell_type": "code",
   "execution_count": 11,
   "id": "274fda52",
   "metadata": {},
   "outputs": [
    {
     "name": "stdout",
     "output_type": "stream",
     "text": [
      "Epoch 1/30\n",
      "13/13 [==============================] - 17s 1s/step - loss: 3.7339 - accuracy: 0.3283 - val_loss: 1.0945 - val_accuracy: 0.3333 - lr: 0.0010\n",
      "Epoch 2/30\n"
     ]
    },
    {
     "name": "stderr",
     "output_type": "stream",
     "text": [
      "/home/emiliamelo/.pyenv/versions/3.10.6/envs/solar_project/lib/python3.10/site-packages/keras/src/engine/training.py:3000: UserWarning: You are saving your model as an HDF5 file via `model.save()`. This file format is considered legacy. We recommend using instead the native Keras format, e.g. `model.save('my_model.keras')`.\n",
      "  saving_api.save_model(\n"
     ]
    },
    {
     "name": "stdout",
     "output_type": "stream",
     "text": [
      "13/13 [==============================] - 16s 1s/step - loss: 3.2601 - accuracy: 0.3358 - val_loss: 1.0844 - val_accuracy: 0.3333 - lr: 0.0010\n",
      "Epoch 3/30\n",
      "13/13 [==============================] - 16s 1s/step - loss: 3.1895 - accuracy: 0.4637 - val_loss: 1.0535 - val_accuracy: 0.5333 - lr: 0.0010\n",
      "Epoch 4/30\n",
      "13/13 [==============================] - 17s 1s/step - loss: 3.2376 - accuracy: 0.4486 - val_loss: 1.0821 - val_accuracy: 0.3444 - lr: 0.0010\n",
      "Epoch 5/30\n",
      "13/13 [==============================] - 18s 1s/step - loss: 3.1715 - accuracy: 0.4561 - val_loss: 1.0129 - val_accuracy: 0.6000 - lr: 0.0010\n",
      "Epoch 6/30\n",
      "13/13 [==============================] - 18s 1s/step - loss: 3.0671 - accuracy: 0.5213 - val_loss: 0.9918 - val_accuracy: 0.5667 - lr: 0.0010\n",
      "Epoch 7/30\n",
      "13/13 [==============================] - 18s 1s/step - loss: 2.8770 - accuracy: 0.5689 - val_loss: 0.9523 - val_accuracy: 0.5889 - lr: 0.0010\n",
      "Epoch 8/30\n",
      "13/13 [==============================] - 18s 1s/step - loss: 2.9282 - accuracy: 0.5489 - val_loss: 0.9446 - val_accuracy: 0.6000 - lr: 0.0010\n",
      "Epoch 9/30\n",
      "13/13 [==============================] - 19s 1s/step - loss: 2.7503 - accuracy: 0.5489 - val_loss: 0.9039 - val_accuracy: 0.6333 - lr: 0.0010\n",
      "Epoch 10/30\n",
      "13/13 [==============================] - 19s 1s/step - loss: 2.7466 - accuracy: 0.5764 - val_loss: 0.9163 - val_accuracy: 0.6667 - lr: 0.0010\n",
      "Epoch 11/30\n",
      "13/13 [==============================] - 19s 1s/step - loss: 2.7693 - accuracy: 0.5764 - val_loss: 0.8962 - val_accuracy: 0.6667 - lr: 0.0010\n",
      "Epoch 12/30\n",
      "13/13 [==============================] - 19s 1s/step - loss: 2.7588 - accuracy: 0.5739 - val_loss: 0.8601 - val_accuracy: 0.6889 - lr: 0.0010\n",
      "Epoch 13/30\n",
      "13/13 [==============================] - 19s 1s/step - loss: 2.5421 - accuracy: 0.6065 - val_loss: 0.8103 - val_accuracy: 0.7111 - lr: 0.0010\n",
      "Epoch 14/30\n",
      "13/13 [==============================] - 19s 1s/step - loss: 2.6316 - accuracy: 0.6115 - val_loss: 0.8689 - val_accuracy: 0.5889 - lr: 0.0010\n",
      "Epoch 15/30\n",
      "13/13 [==============================] - 19s 1s/step - loss: 2.5401 - accuracy: 0.6391 - val_loss: 0.8264 - val_accuracy: 0.6778 - lr: 0.0010\n",
      "Epoch 16/30\n",
      "13/13 [==============================] - 19s 1s/step - loss: 2.6883 - accuracy: 0.6065 - val_loss: 0.8027 - val_accuracy: 0.6889 - lr: 0.0010\n",
      "Epoch 17/30\n",
      "13/13 [==============================] - 20s 1s/step - loss: 2.5043 - accuracy: 0.6441 - val_loss: 0.8660 - val_accuracy: 0.6333 - lr: 0.0010\n",
      "Epoch 18/30\n",
      "13/13 [==============================] - 18s 1s/step - loss: 2.5117 - accuracy: 0.6190 - val_loss: 0.8127 - val_accuracy: 0.6778 - lr: 0.0010\n",
      "Epoch 19/30\n",
      "13/13 [==============================] - ETA: 0s - loss: 2.5476 - accuracy: 0.6441\n",
      "Epoch 19: ReduceLROnPlateau reducing learning rate to 0.00010000000474974513.\n",
      "13/13 [==============================] - 19s 1s/step - loss: 2.5476 - accuracy: 0.6441 - val_loss: 0.8246 - val_accuracy: 0.7000 - lr: 0.0010\n",
      "Epoch 20/30\n",
      "13/13 [==============================] - 20s 1s/step - loss: 2.4475 - accuracy: 0.6416 - val_loss: 0.8037 - val_accuracy: 0.7222 - lr: 1.0000e-04\n",
      "Epoch 21/30\n",
      "13/13 [==============================] - 19s 1s/step - loss: 2.4456 - accuracy: 0.6416 - val_loss: 0.8028 - val_accuracy: 0.6889 - lr: 1.0000e-04\n",
      "Epoch 22/30\n",
      "13/13 [==============================] - ETA: 0s - loss: 2.2723 - accuracy: 0.6867\n",
      "Epoch 22: ReduceLROnPlateau reducing learning rate to 1.0000000474974514e-05.\n",
      "13/13 [==============================] - 19s 1s/step - loss: 2.2723 - accuracy: 0.6867 - val_loss: 0.8113 - val_accuracy: 0.7111 - lr: 1.0000e-04\n",
      "Epoch 23/30\n",
      "13/13 [==============================] - 20s 1s/step - loss: 2.2333 - accuracy: 0.6992 - val_loss: 0.8104 - val_accuracy: 0.7222 - lr: 1.0000e-05\n",
      "Epoch 24/30\n",
      "13/13 [==============================] - 19s 1s/step - loss: 2.3692 - accuracy: 0.6591 - val_loss: 0.8090 - val_accuracy: 0.7222 - lr: 1.0000e-05\n",
      "Epoch 25/30\n",
      "13/13 [==============================] - ETA: 0s - loss: 2.2628 - accuracy: 0.6967\n",
      "Epoch 25: ReduceLROnPlateau reducing learning rate to 1.0000000656873453e-06.\n",
      "13/13 [==============================] - 19s 1s/step - loss: 2.2628 - accuracy: 0.6967 - val_loss: 0.8082 - val_accuracy: 0.7222 - lr: 1.0000e-05\n",
      "Epoch 26/30\n",
      "13/13 [==============================] - 19s 1s/step - loss: 2.3042 - accuracy: 0.6967 - val_loss: 0.8082 - val_accuracy: 0.7222 - lr: 1.0000e-06\n",
      "CPU times: user 47min, sys: 4min 30s, total: 51min 31s\n",
      "Wall time: 8min\n"
     ]
    }
   ],
   "source": [
    "%%time\n",
    "#'clean', 'damage', 'dirt'\n",
    "history_multi = model_multi.fit(\n",
    "        train_data,\n",
    "        epochs=30,\n",
    "        validation_data=val_data,\n",
    "        callbacks = [modelCheckpoint, LRreducer, EarlyStopper],\n",
    "        class_weight = {\n",
    "            0: 3.0,\n",
    "            1: 3.0,\n",
    "            2: 3.0\n",
    "        }\n",
    "        )\n"
   ]
  },
  {
   "cell_type": "code",
   "execution_count": null,
   "id": "d8800b62",
   "metadata": {},
   "outputs": [],
   "source": [
    "#improvement = (0.51 - (1/3))/(1/3)\n",
    "#improvement"
   ]
  },
  {
   "cell_type": "code",
   "execution_count": 12,
   "id": "8b5d2757",
   "metadata": {},
   "outputs": [],
   "source": [
    "def plot_history(history):\n",
    "    fig, ax = plt.subplots(1, 2, figsize=(15,5))\n",
    "    ax[0].set_title('loss')\n",
    "    ax[0].plot(history.epoch, history.history[\"loss\"], label=\"Train loss\")\n",
    "    ax[0].plot(history.epoch, history.history[\"val_loss\"], label=\"Validation loss\")\n",
    "    ax[1].set_title('accuracy')\n",
    "    ax[1].plot(history.epoch, history.history[\"accuracy\"], label=\"Train acc\")\n",
    "    ax[1].plot(history.epoch, history.history[\"val_accuracy\"], label=\"Validation acc\")\n",
    "    ax[0].legend()\n",
    "    ax[1].legend()"
   ]
  },
  {
   "cell_type": "code",
   "execution_count": 13,
   "id": "df683832",
   "metadata": {},
   "outputs": [
    {
     "data": {
      "image/png": "[encoded data removed]",
      "text/plain": [
       "<Figure size 1500x500 with 2 Axes>"
      ]
     },
     "metadata": {},
     "output_type": "display_data"
    }
   ],
   "source": [
    "plot_history(history_multi)"
   ]
  },
  {
   "cell_type": "markdown",
   "id": "24ec1d88",
   "metadata": {},
   "source": [
    "### Helper functions"
   ]
  },
  {
   "cell_type": "code",
   "execution_count": 14,
   "id": "f6da0cb1",
   "metadata": {},
   "outputs": [],
   "source": [
    "def find_index_of_max_element(input_list):\n",
    "    max_value = max(input_list)\n",
    "    max_index = input_list.index(max_value)\n",
    "    return max_index"
   ]
  },
  {
   "cell_type": "code",
   "execution_count": 15,
   "id": "bc5a8b84",
   "metadata": {},
   "outputs": [],
   "source": [
    "def predictImage_multiclass(url, model):\n",
    "\n",
    "  # Takes an image and a model\n",
    "\n",
    "  img = url\n",
    "  img = img_to_array(img)\n",
    "  img = img.reshape((-1, 225, 225, 3))\n",
    "  res = model.predict(img)\n",
    "  print(f\"Probabilities: \")\n",
    "  names_of_classes = class_names\n",
    "  print(f\"{names_of_classes}\")\n",
    "  print(f\"{res[0]}\")\n",
    "  print(f\"Result: {names_of_classes[find_index_of_max_element(res[0].tolist())]}\")  \n",
    "  return res "
   ]
  },
  {
   "cell_type": "code",
   "execution_count": null,
   "id": "d59e4e00",
   "metadata": {},
   "outputs": [],
   "source": []
  },
  {
   "cell_type": "code",
   "execution_count": null,
   "id": "20d7dc8c",
   "metadata": {},
   "outputs": [],
   "source": [
    "# img_clean_1 = load_img(f\"raw_data/training-data/clean/Cleaan (4).jpeg\", target_size=(225, 225))\n",
    "# predictImage_multiclass(img_clean_1,model_multi)\n",
    "# plt.imshow(img_clean_1);"
   ]
  },
  {
   "cell_type": "code",
   "execution_count": null,
   "id": "fec8e8f5",
   "metadata": {},
   "outputs": [],
   "source": [
    "# img_clean_1 = load_img(f\"raw_data/training-data/clean/Cleaan (12).jpeg\", target_size=(225, 225))\n",
    "# predictImage_multiclass(img_clean_1,model_multi)\n",
    "# plt.imshow(img_clean_1);"
   ]
  },
  {
   "cell_type": "code",
   "execution_count": null,
   "id": "4a3d357a",
   "metadata": {},
   "outputs": [],
   "source": [
    "# img_clean_1 = load_img(f\"raw_data/training-data/clean/Cleaan (21).jpeg\", target_size=(225, 225))\n",
    "# predictImage_multiclass(img_clean_1,model_multi)\n",
    "# plt.imshow(img_clean_1);"
   ]
  },
  {
   "cell_type": "markdown",
   "id": "2039e84b",
   "metadata": {},
   "source": [
    "### Snow"
   ]
  },
  {
   "cell_type": "code",
   "execution_count": null,
   "id": "c33b8635",
   "metadata": {},
   "outputs": [],
   "source": [
    "# img_snow = load_img(f\"raw_data/training-data/solar/Solar (3).jpeg\", target_size=(225, 225))\n",
    "# predictImage_multiclass(img_snow,model_multi)\n",
    "# plt.imshow(img_snow);"
   ]
  },
  {
   "cell_type": "code",
   "execution_count": null,
   "id": "b9a27615",
   "metadata": {},
   "outputs": [],
   "source": [
    "# img_snow = load_img(f\"raw_data/training-data/solar/Solar (12).jpeg\", target_size=(225, 225))\n",
    "# predictImage_multiclass(img_snow,model_multi)\n",
    "# plt.imshow(img_snow);"
   ]
  },
  {
   "cell_type": "code",
   "execution_count": null,
   "id": "d1ef96fb",
   "metadata": {},
   "outputs": [],
   "source": [
    "# img_snow = load_img(f\"raw_data/training-data/solar/Solar (33).jpeg\", target_size=(225, 225))\n",
    "# predictImage_multiclass(img_snow,model_multi)\n",
    "# plt.imshow(img_snow);"
   ]
  },
  {
   "cell_type": "markdown",
   "id": "bb6b8e97",
   "metadata": {},
   "source": [
    "### Damage"
   ]
  },
  {
   "cell_type": "code",
   "execution_count": null,
   "id": "07944347",
   "metadata": {},
   "outputs": [],
   "source": [
    "# img_electrical = load_img(f\"raw_data/training-data/electrical/Electrical (29).jpeg\", target_size=(225, 225))\n",
    "# predictImage_multiclass(img_electrical,model_multi)\n",
    "# plt.imshow(img_electrical);"
   ]
  },
  {
   "cell_type": "code",
   "execution_count": null,
   "id": "995401cd",
   "metadata": {},
   "outputs": [],
   "source": [
    "# img_physical = load_img(f\"raw_data/training-data/physical_damaged/Physical-damaged (37).jpeg\", target_size=(225, 225))\n",
    "# predictImage_multiclass(img_physical,model_multi)\n",
    "# plt.imshow(img_physical);"
   ]
  },
  {
   "cell_type": "code",
   "execution_count": null,
   "id": "8d7aec41",
   "metadata": {},
   "outputs": [],
   "source": [
    "# img_physical = load_img(f\"raw_data/training-data-exp/damage/Electrical (23).jpeg\", target_size=(225, 225))\n",
    "# predictImage_multiclass(img_physical,model_multi)\n",
    "# plt.imshow(img_physical);"
   ]
  },
  {
   "cell_type": "markdown",
   "id": "0b6e2603",
   "metadata": {},
   "source": [
    "### Bird or dust\n"
   ]
  },
  {
   "cell_type": "code",
   "execution_count": null,
   "id": "22b286d2",
   "metadata": {},
   "outputs": [],
   "source": [
    "##pics bird 37,55,59,  --> macro pic on brid drop --> predicting wrong class\n",
    "# pic 65\n",
    "# img_physical = load_img(f\"raw_data/training-data/bird/Bird (65).jpeg\", target_size=(225, 225))\n",
    "# predictImage_multiclass(img_physical,model_multi)\n",
    "# plt.imshow(img_physical);"
   ]
  },
  {
   "cell_type": "code",
   "execution_count": null,
   "id": "d2ebd73b",
   "metadata": {},
   "outputs": [],
   "source": [
    "# img_physical = load_img(f\"raw_data/training-data/bird/Bird (5).jpeg\", target_size=(225, 225))\n",
    "# predictImage_multiclass(img_physical,model_multi)\n",
    "# plt.imshow(img_physical);"
   ]
  },
  {
   "cell_type": "code",
   "execution_count": null,
   "id": "30800da0",
   "metadata": {},
   "outputs": [],
   "source": [
    "#img_physical = load_img(f\"raw_data/training-data-exp/dirt/Bird (47).jpeg\", target_size=(225, 225))\n",
    "#predictImage_multiclass(img_physical,model_multi)\n",
    "#plt.imshow(img_physical);"
   ]
  },
  {
   "cell_type": "code",
   "execution_count": 16,
   "id": "46053e10",
   "metadata": {},
   "outputs": [],
   "source": [
    "def predictImage_multiclass(url, model):\n",
    "\n",
    "  # Takes an image and a model\n",
    "\n",
    "  img = url\n",
    "  img = img_to_array(img)\n",
    "  img = img.reshape((-1, 225, 225, 3))\n",
    "  res = model.predict(img)\n",
    "  print(f\"Probabilities: \")\n",
    "  names_of_classes = ['clean','damaged','dirty']\n",
    "  print(f\"{names_of_classes}\")\n",
    "  print(f\"{res[0]}\")\n",
    "  print(f\"Result: {names_of_classes[find_index_of_max_element(res[0].tolist())]}\")  \n",
    "  return res "
   ]
  },
  {
   "cell_type": "code",
   "execution_count": 17,
   "id": "81984441",
   "metadata": {},
   "outputs": [
    {
     "name": "stdout",
     "output_type": "stream",
     "text": [
      "(0,)\n",
      "1/1 [==============================] - 0s 329ms/step\n",
      "pred (32,)\n",
      "label shape ()\n",
      "1/1 [==============================] - 0s 194ms/step\n",
      "pred (32,)\n",
      "label shape ()\n",
      "1/1 [==============================] - 0s 207ms/step\n",
      "pred (26,)\n",
      "label shape ()\n",
      "              precision    recall  f1-score   support\n",
      "\n",
      "       clean       0.69      0.83      0.76        30\n",
      "      damage       0.77      0.57      0.65        30\n",
      "        dirt       0.62      0.67      0.65        30\n",
      "\n",
      "    accuracy                           0.69        90\n",
      "   macro avg       0.70      0.69      0.69        90\n",
      "weighted avg       0.70      0.69      0.69        90\n",
      "\n"
     ]
    }
   ],
   "source": [
    "import numpy as np\n",
    "from tensorflow.math import confusion_matrix\n",
    "from sklearn.metrics import classification_report\n",
    "\n",
    "\n",
    "predictions = np.array([])\n",
    "print(predictions.shape)\n",
    "labels =  np.array([])\n",
    "for x, y in val_data:\n",
    "    \n",
    "  pred = model_multi.predict(x)\n",
    "  pred = np.argmax(pred, axis=-1)\n",
    "  print(f\"pred {pred.shape}\")\n",
    "  predictions = np.concatenate([predictions, pred ])\n",
    "  label =  np.argmax(y.numpy(), axis=-1)\n",
    "  print(f\"label shape {label.shape}\")\n",
    "  labels = np.concatenate([labels, y])  #np.argmax(y.numpy()\n",
    "\n",
    "report = classification_report(labels, predictions, target_names=classes1)\n",
    "\n",
    "print(report)"
   ]
  },
  {
   "cell_type": "code",
   "execution_count": 18,
   "id": "bece1e0c",
   "metadata": {},
   "outputs": [
    {
     "data": {
      "text/plain": [
       "array([[25,  1,  4],\n",
       "       [ 5, 17,  8],\n",
       "       [ 6,  4, 20]], dtype=int32)"
      ]
     },
     "execution_count": 18,
     "metadata": {},
     "output_type": "execute_result"
    }
   ],
   "source": [
    "confusion_matrix(labels=labels, predictions=predictions).numpy()\n"
   ]
  },
  {
   "cell_type": "markdown",
   "id": "27ae9b69",
   "metadata": {},
   "source": [
    "## Test data"
   ]
  },
  {
   "cell_type": "code",
   "execution_count": null,
   "id": "8933bde5",
   "metadata": {},
   "outputs": [],
   "source": [
    "# batch_size = 8\n",
    "# test_data_dir = \"raw_data/exp-test-data/\"\n",
    "\n",
    "# test_data = image_dataset_from_directory(\n",
    "#   test_data_dir,\n",
    "#   #labels = \"inferred\",\n",
    "#   label_mode = \"int\",  \n",
    "#   seed=123,\n",
    "#   image_size=(225, 225),\n",
    "#   batch_size=batch_size,\n",
    "# ) \n"
   ]
  },
  {
   "cell_type": "code",
   "execution_count": null,
   "id": "8eba35b8",
   "metadata": {},
   "outputs": [],
   "source": [
    "# predictions = np.array([])\n",
    "# print(predictions.shape)\n",
    "# labels =  np.array([])\n",
    "# for x, y in test_data:\n",
    "    \n",
    "#   pred = model_multi.predict(x)\n",
    "#   pred = np.argmax(pred, axis=-1)\n",
    "#   print(f\"pred {pred.shape}\")\n",
    "#   predictions = np.concatenate([predictions, pred ])\n",
    "#   label =  np.argmax(y.numpy(), axis=-1)\n",
    "#   print(f\"label shape {label.shape}\")\n",
    "#   labels = np.concatenate([labels, y])  #np.argmax(y.numpy()\n",
    "\n",
    "# report = classification_report(labels, predictions, target_names=classes1)\n",
    "\n",
    "# print(report)"
   ]
  },
  {
   "cell_type": "code",
   "execution_count": null,
   "id": "34175573",
   "metadata": {},
   "outputs": [],
   "source": [
    "confusion_matrix(labels=labels, predictions=predictions).numpy()"
   ]
  },
  {
   "cell_type": "code",
   "execution_count": 19,
   "id": "5ac0348f",
   "metadata": {},
   "outputs": [],
   "source": [
    "import numpy as np\n",
    "from tensorflow.math import confusion_matrix\n",
    "from sklearn.metrics import classification_report"
   ]
  },
  {
   "cell_type": "code",
   "execution_count": 69,
   "id": "1f0ee6b3-375c-4584-9085-3579cafcae36",
   "metadata": {},
   "outputs": [
    {
     "name": "stdout",
     "output_type": "stream",
     "text": [
      "1/1 [==============================] - 0s 368ms/step\n",
      "1/1 [==============================] - 0s 314ms/step\n",
      "1/1 [==============================] - 0s 203ms/step\n",
      "              precision    recall  f1-score   support\n",
      "\n",
      "       clean       0.69      0.83      0.76        30\n",
      "      damage       0.77      0.57      0.65        30\n",
      "        dirt       0.62      0.67      0.65        30\n",
      "\n",
      "    accuracy                           0.69        90\n",
      "   macro avg       0.70      0.69      0.69        90\n",
      "weighted avg       0.70      0.69      0.69        90\n",
      "\n"
     ]
    }
   ],
   "source": [
    "predictions = np.array([])\n",
    "probabilities_clean = np.array([])\n",
    "labels =  np.array([])\n",
    "\n",
    "for x, y in val_data:\n",
    "    \n",
    "  prediction_array = model_multi.predict(x)\n",
    "  probability_clean = prediction_array\n",
    "  #probability_clean = np.squeeze(probability_clean)  \n",
    "  #print(f'prob clean: {probability_clean}')  \n",
    "  probabilities_clean = np.append(probabilities_clean, probability_clean)\n",
    "    \n",
    "  pred = np.argmax(prediction_array, axis=-1)\n",
    "\n",
    "  predictions = np.concatenate([predictions, pred ])\n",
    "\n",
    "  labels = np.concatenate([labels, y])  #np.argmax(y.numpy()\n",
    "\n",
    "report = classification_report(labels, predictions, target_names=classes1)\n",
    "\n",
    "print(report)\n",
    "reshaped_array = probabilities_clean.reshape(-1, 3)\n"
   ]
  },
  {
   "cell_type": "code",
   "execution_count": 26,
   "id": "b505bb2c-8b91-4e4a-8fa2-dc08f1a1ac58",
   "metadata": {},
   "outputs": [],
   "source": [
    "from sklearn.metrics import precision_recall_curve\n",
    "import pandas as pd"
   ]
  },
  {
   "cell_type": "code",
   "execution_count": 28,
   "id": "8a0e0a9c-639d-4010-8af1-250f3932cbb9",
   "metadata": {},
   "outputs": [
    {
     "ename": "ValueError",
     "evalue": "multiclass format is not supported",
     "output_type": "error",
     "traceback": [
      "\u001b[0;31m---------------------------------------------------------------------------\u001b[0m",
      "\u001b[0;31mValueError\u001b[0m                                Traceback (most recent call last)",
      "Cell \u001b[0;32mIn[28], line 1\u001b[0m\n\u001b[0;32m----> 1\u001b[0m precision, recall, threshold \u001b[38;5;241m=\u001b[39m \u001b[43mprecision_recall_curve\u001b[49m\u001b[43m(\u001b[49m\u001b[43mlabels\u001b[49m\u001b[43m,\u001b[49m\u001b[43m \u001b[49m\u001b[43mprobabilities_clean\u001b[49m\u001b[43m)\u001b[49m\n\u001b[1;32m      2\u001b[0m scores \u001b[38;5;241m=\u001b[39m pd\u001b[38;5;241m.\u001b[39mDataFrame({\u001b[38;5;124m'\u001b[39m\u001b[38;5;124mthreshold\u001b[39m\u001b[38;5;124m'\u001b[39m:threshold,\n\u001b[1;32m      3\u001b[0m                        \u001b[38;5;124m'\u001b[39m\u001b[38;5;124mprecision\u001b[39m\u001b[38;5;124m'\u001b[39m: precision[:\u001b[38;5;241m-\u001b[39m\u001b[38;5;241m1\u001b[39m],\n\u001b[1;32m      4\u001b[0m                        \u001b[38;5;124m'\u001b[39m\u001b[38;5;124mrecall\u001b[39m\u001b[38;5;124m'\u001b[39m:recall[:\u001b[38;5;241m-\u001b[39m\u001b[38;5;241m1\u001b[39m]}) \u001b[38;5;66;03m# Store in a dataframe\u001b[39;00m\n\u001b[1;32m      5\u001b[0m scores\n",
      "File \u001b[0;32m~/.pyenv/versions/3.10.6/envs/solar_project/lib/python3.10/site-packages/sklearn/utils/_param_validation.py:211\u001b[0m, in \u001b[0;36mvalidate_params.<locals>.decorator.<locals>.wrapper\u001b[0;34m(*args, **kwargs)\u001b[0m\n\u001b[1;32m    205\u001b[0m \u001b[38;5;28;01mtry\u001b[39;00m:\n\u001b[1;32m    206\u001b[0m     \u001b[38;5;28;01mwith\u001b[39;00m config_context(\n\u001b[1;32m    207\u001b[0m         skip_parameter_validation\u001b[38;5;241m=\u001b[39m(\n\u001b[1;32m    208\u001b[0m             prefer_skip_nested_validation \u001b[38;5;129;01mor\u001b[39;00m global_skip_validation\n\u001b[1;32m    209\u001b[0m         )\n\u001b[1;32m    210\u001b[0m     ):\n\u001b[0;32m--> 211\u001b[0m         \u001b[38;5;28;01mreturn\u001b[39;00m \u001b[43mfunc\u001b[49m\u001b[43m(\u001b[49m\u001b[38;5;241;43m*\u001b[39;49m\u001b[43margs\u001b[49m\u001b[43m,\u001b[49m\u001b[43m \u001b[49m\u001b[38;5;241;43m*\u001b[39;49m\u001b[38;5;241;43m*\u001b[39;49m\u001b[43mkwargs\u001b[49m\u001b[43m)\u001b[49m\n\u001b[1;32m    212\u001b[0m \u001b[38;5;28;01mexcept\u001b[39;00m InvalidParameterError \u001b[38;5;28;01mas\u001b[39;00m e:\n\u001b[1;32m    213\u001b[0m     \u001b[38;5;66;03m# When the function is just a wrapper around an estimator, we allow\u001b[39;00m\n\u001b[1;32m    214\u001b[0m     \u001b[38;5;66;03m# the function to delegate validation to the estimator, but we replace\u001b[39;00m\n\u001b[1;32m    215\u001b[0m     \u001b[38;5;66;03m# the name of the estimator by the name of the function in the error\u001b[39;00m\n\u001b[1;32m    216\u001b[0m     \u001b[38;5;66;03m# message to avoid confusion.\u001b[39;00m\n\u001b[1;32m    217\u001b[0m     msg \u001b[38;5;241m=\u001b[39m re\u001b[38;5;241m.\u001b[39msub(\n\u001b[1;32m    218\u001b[0m         \u001b[38;5;124mr\u001b[39m\u001b[38;5;124m\"\u001b[39m\u001b[38;5;124mparameter of \u001b[39m\u001b[38;5;124m\\\u001b[39m\u001b[38;5;124mw+ must be\u001b[39m\u001b[38;5;124m\"\u001b[39m,\n\u001b[1;32m    219\u001b[0m         \u001b[38;5;124mf\u001b[39m\u001b[38;5;124m\"\u001b[39m\u001b[38;5;124mparameter of \u001b[39m\u001b[38;5;132;01m{\u001b[39;00mfunc\u001b[38;5;241m.\u001b[39m\u001b[38;5;18m__qualname__\u001b[39m\u001b[38;5;132;01m}\u001b[39;00m\u001b[38;5;124m must be\u001b[39m\u001b[38;5;124m\"\u001b[39m,\n\u001b[1;32m    220\u001b[0m         \u001b[38;5;28mstr\u001b[39m(e),\n\u001b[1;32m    221\u001b[0m     )\n",
      "File \u001b[0;32m~/.pyenv/versions/3.10.6/envs/solar_project/lib/python3.10/site-packages/sklearn/metrics/_ranking.py:951\u001b[0m, in \u001b[0;36mprecision_recall_curve\u001b[0;34m(y_true, probas_pred, pos_label, sample_weight, drop_intermediate)\u001b[0m\n\u001b[1;32m    851\u001b[0m \u001b[38;5;129m@validate_params\u001b[39m(\n\u001b[1;32m    852\u001b[0m     {\n\u001b[1;32m    853\u001b[0m         \u001b[38;5;124m\"\u001b[39m\u001b[38;5;124my_true\u001b[39m\u001b[38;5;124m\"\u001b[39m: [\u001b[38;5;124m\"\u001b[39m\u001b[38;5;124marray-like\u001b[39m\u001b[38;5;124m\"\u001b[39m],\n\u001b[0;32m   (...)\u001b[0m\n\u001b[1;32m    862\u001b[0m     y_true, probas_pred, \u001b[38;5;241m*\u001b[39m, pos_label\u001b[38;5;241m=\u001b[39m\u001b[38;5;28;01mNone\u001b[39;00m, sample_weight\u001b[38;5;241m=\u001b[39m\u001b[38;5;28;01mNone\u001b[39;00m, drop_intermediate\u001b[38;5;241m=\u001b[39m\u001b[38;5;28;01mFalse\u001b[39;00m\n\u001b[1;32m    863\u001b[0m ):\n\u001b[1;32m    864\u001b[0m \u001b[38;5;250m    \u001b[39m\u001b[38;5;124;03m\"\"\"Compute precision-recall pairs for different probability thresholds.\u001b[39;00m\n\u001b[1;32m    865\u001b[0m \n\u001b[1;32m    866\u001b[0m \u001b[38;5;124;03m    Note: this implementation is restricted to the binary classification task.\u001b[39;00m\n\u001b[0;32m   (...)\u001b[0m\n\u001b[1;32m    949\u001b[0m \u001b[38;5;124;03m    array([0.1 , 0.35, 0.4 , 0.8 ])\u001b[39;00m\n\u001b[1;32m    950\u001b[0m \u001b[38;5;124;03m    \"\"\"\u001b[39;00m\n\u001b[0;32m--> 951\u001b[0m     fps, tps, thresholds \u001b[38;5;241m=\u001b[39m \u001b[43m_binary_clf_curve\u001b[49m\u001b[43m(\u001b[49m\n\u001b[1;32m    952\u001b[0m \u001b[43m        \u001b[49m\u001b[43my_true\u001b[49m\u001b[43m,\u001b[49m\u001b[43m \u001b[49m\u001b[43mprobas_pred\u001b[49m\u001b[43m,\u001b[49m\u001b[43m \u001b[49m\u001b[43mpos_label\u001b[49m\u001b[38;5;241;43m=\u001b[39;49m\u001b[43mpos_label\u001b[49m\u001b[43m,\u001b[49m\u001b[43m \u001b[49m\u001b[43msample_weight\u001b[49m\u001b[38;5;241;43m=\u001b[39;49m\u001b[43msample_weight\u001b[49m\n\u001b[1;32m    953\u001b[0m \u001b[43m    \u001b[49m\u001b[43m)\u001b[49m\n\u001b[1;32m    955\u001b[0m     \u001b[38;5;28;01mif\u001b[39;00m drop_intermediate \u001b[38;5;129;01mand\u001b[39;00m \u001b[38;5;28mlen\u001b[39m(fps) \u001b[38;5;241m>\u001b[39m \u001b[38;5;241m2\u001b[39m:\n\u001b[1;32m    956\u001b[0m         \u001b[38;5;66;03m# Drop thresholds corresponding to points where true positives (tps)\u001b[39;00m\n\u001b[1;32m    957\u001b[0m         \u001b[38;5;66;03m# do not change from the previous or subsequent point. This will keep\u001b[39;00m\n\u001b[1;32m    958\u001b[0m         \u001b[38;5;66;03m# only the first and last point for each tps value. All points\u001b[39;00m\n\u001b[1;32m    959\u001b[0m         \u001b[38;5;66;03m# with the same tps value have the same recall and thus x coordinate.\u001b[39;00m\n\u001b[1;32m    960\u001b[0m         \u001b[38;5;66;03m# They appear as a vertical line on the plot.\u001b[39;00m\n\u001b[1;32m    961\u001b[0m         optimal_idxs \u001b[38;5;241m=\u001b[39m np\u001b[38;5;241m.\u001b[39mwhere(\n\u001b[1;32m    962\u001b[0m             np\u001b[38;5;241m.\u001b[39mconcatenate(\n\u001b[1;32m    963\u001b[0m                 [[\u001b[38;5;28;01mTrue\u001b[39;00m], np\u001b[38;5;241m.\u001b[39mlogical_or(np\u001b[38;5;241m.\u001b[39mdiff(tps[:\u001b[38;5;241m-\u001b[39m\u001b[38;5;241m1\u001b[39m]), np\u001b[38;5;241m.\u001b[39mdiff(tps[\u001b[38;5;241m1\u001b[39m:])), [\u001b[38;5;28;01mTrue\u001b[39;00m]]\n\u001b[1;32m    964\u001b[0m             )\n\u001b[1;32m    965\u001b[0m         )[\u001b[38;5;241m0\u001b[39m]\n",
      "File \u001b[0;32m~/.pyenv/versions/3.10.6/envs/solar_project/lib/python3.10/site-packages/sklearn/metrics/_ranking.py:803\u001b[0m, in \u001b[0;36m_binary_clf_curve\u001b[0;34m(y_true, y_score, pos_label, sample_weight)\u001b[0m\n\u001b[1;32m    801\u001b[0m y_type \u001b[38;5;241m=\u001b[39m type_of_target(y_true, input_name\u001b[38;5;241m=\u001b[39m\u001b[38;5;124m\"\u001b[39m\u001b[38;5;124my_true\u001b[39m\u001b[38;5;124m\"\u001b[39m)\n\u001b[1;32m    802\u001b[0m \u001b[38;5;28;01mif\u001b[39;00m \u001b[38;5;129;01mnot\u001b[39;00m (y_type \u001b[38;5;241m==\u001b[39m \u001b[38;5;124m\"\u001b[39m\u001b[38;5;124mbinary\u001b[39m\u001b[38;5;124m\"\u001b[39m \u001b[38;5;129;01mor\u001b[39;00m (y_type \u001b[38;5;241m==\u001b[39m \u001b[38;5;124m\"\u001b[39m\u001b[38;5;124mmulticlass\u001b[39m\u001b[38;5;124m\"\u001b[39m \u001b[38;5;129;01mand\u001b[39;00m pos_label \u001b[38;5;129;01mis\u001b[39;00m \u001b[38;5;129;01mnot\u001b[39;00m \u001b[38;5;28;01mNone\u001b[39;00m)):\n\u001b[0;32m--> 803\u001b[0m     \u001b[38;5;28;01mraise\u001b[39;00m \u001b[38;5;167;01mValueError\u001b[39;00m(\u001b[38;5;124m\"\u001b[39m\u001b[38;5;132;01m{0}\u001b[39;00m\u001b[38;5;124m format is not supported\u001b[39m\u001b[38;5;124m\"\u001b[39m\u001b[38;5;241m.\u001b[39mformat(y_type))\n\u001b[1;32m    805\u001b[0m check_consistent_length(y_true, y_score, sample_weight)\n\u001b[1;32m    806\u001b[0m y_true \u001b[38;5;241m=\u001b[39m column_or_1d(y_true)\n",
      "\u001b[0;31mValueError\u001b[0m: multiclass format is not supported"
     ]
    }
   ],
   "source": [
    "precision, recall, threshold = precision_recall_curve(labels, probabilities_clean)\n",
    "scores = pd.DataFrame({'threshold':threshold,\n",
    "                       'precision': precision[:-1],\n",
    "                       'recall':recall[:-1]}) # Store in a dataframe\n",
    "scores"
   ]
  },
  {
   "cell_type": "code",
   "execution_count": null,
   "id": "65812742-f1b7-47e6-9b6c-8ae68d192cdd",
   "metadata": {},
   "outputs": [],
   "source": [
    "plt.plot(scores['recall'],scores['precision'])\n",
    "plt.ylabel('precision')\n",
    "plt.xlabel('recall')"
   ]
  },
  {
   "cell_type": "code",
   "execution_count": null,
   "id": "1998eb9a-11d2-471e-be95-0a28e7ef30f8",
   "metadata": {},
   "outputs": [],
   "source": [
    "new_threshold = scores[scores['precision'] >= 0.4].threshold.min()\n",
    "new_threshold"
   ]
  },
  {
   "cell_type": "code",
   "execution_count": 96,
   "id": "fb80d339-abcf-4f48-ae8d-a2fe58cee852",
   "metadata": {},
   "outputs": [
    {
     "name": "stdout",
     "output_type": "stream",
     "text": [
      "1/1 [==============================] - 0s 201ms/step\n",
      "1/1 [==============================] - 0s 184ms/step\n",
      "1/1 [==============================] - 0s 143ms/step\n"
     ]
    }
   ],
   "source": [
    "def custom_predict(X, custom_threshold, model):\n",
    "    probability = model.predict(X) # Get likelihood of each sample being classified as 0 or 1\n",
    "    proba_clean = 1- probability[:,-1]\n",
    "    #print(modified_array)\n",
    "    #more_5y_probs = probability[:, 1] # Only keep expensive likelihoods (1) \n",
    "    return (proba_clean > custom_threshold).astype(int) # Boolean outcome converted to 0 or 1\n",
    "\n",
    "pred_thres = np.array([])\n",
    "\n",
    "for x, y in val_data:    \n",
    "    updated_preds = custom_predict(X=x, custom_threshold=0.6, model=model_multi) # Update prediction\n",
    "    updated_preds = np.squeeze(updated_preds)\n",
    "    pred_thres = np.concatenate([pred_thres, updated_preds])"
   ]
  },
  {
   "cell_type": "code",
   "execution_count": 82,
   "id": "d7fc84d1-de39-431a-bcf5-47a076a53120",
   "metadata": {},
   "outputs": [
    {
     "data": {
      "text/plain": [
       "(90,)"
      ]
     },
     "execution_count": 82,
     "metadata": {},
     "output_type": "execute_result"
    }
   ],
   "source": [
    "labels.shape"
   ]
  },
  {
   "cell_type": "code",
   "execution_count": 92,
   "id": "09d99550-f88d-4402-abf9-ecb4550e880f",
   "metadata": {},
   "outputs": [
    {
     "data": {
      "text/plain": [
       "(90,)"
      ]
     },
     "execution_count": 92,
     "metadata": {},
     "output_type": "execute_result"
    }
   ],
   "source": [
    "pred_thres.shape"
   ]
  },
  {
   "cell_type": "code",
   "execution_count": 99,
   "id": "fe3febd5-bc1c-4ff5-90af-b32aa09d8934",
   "metadata": {},
   "outputs": [
    {
     "data": {
      "text/plain": [
       "array([[ 8, 22,  0],\n",
       "       [ 9, 21,  0],\n",
       "       [11, 19,  0]], dtype=int32)"
      ]
     },
     "execution_count": 99,
     "metadata": {},
     "output_type": "execute_result"
    }
   ],
   "source": [
    "confusion_matrix(labels=labels, predictions=pred_thres).numpy()"
   ]
  },
  {
   "cell_type": "code",
   "execution_count": null,
   "id": "813dd69f-0232-4b5a-9e2a-a676b3db1a25",
   "metadata": {},
   "outputs": [],
   "source": [
    "report = classification_report(labels, pred_thres, target_names=class_names)\n",
    "\n",
    "print(report)"
   ]
  },
  {
   "cell_type": "code",
   "execution_count": null,
   "id": "da27f41d-1284-433e-a3e0-d33f7bec8236",
   "metadata": {},
   "outputs": [],
   "source": []
  },
  {
   "cell_type": "code",
   "execution_count": null,
   "id": "0ba89275-1782-44be-b07d-ac5377862e8d",
   "metadata": {},
   "outputs": [],
   "source": []
  },
  {
   "cell_type": "code",
   "execution_count": null,
   "id": "d1e745b1-8188-4bdb-8bc8-e67aad978b69",
   "metadata": {},
   "outputs": [],
   "source": []
  },
  {
   "cell_type": "code",
   "execution_count": 75,
   "id": "7a150a15-ef9d-4cb8-97bf-915f4a152557",
   "metadata": {},
   "outputs": [
    {
     "name": "stdout",
     "output_type": "stream",
     "text": [
      "labels shape: (90,)\n",
      "90\n",
      "adjust pred: (90, 3)\n",
      "labels_matrix shape: (90, 3)\n",
      "Metrics for class_1:\n",
      "              precision    recall  f1-score   support\n",
      "\n",
      "           0       0.73      1.00      0.85        60\n",
      "           1       1.00      0.27      0.42        30\n",
      "\n",
      "    accuracy                           0.76        90\n",
      "   macro avg       0.87      0.63      0.63        90\n",
      "weighted avg       0.82      0.76      0.70        90\n",
      "\n",
      "Metrics for class_2:\n",
      "              precision    recall  f1-score   support\n",
      "\n",
      "           0       0.67      1.00      0.80        60\n",
      "           1       0.00      0.00      0.00        30\n",
      "\n",
      "    accuracy                           0.67        90\n",
      "   macro avg       0.33      0.50      0.40        90\n",
      "weighted avg       0.44      0.67      0.53        90\n",
      "\n",
      "Metrics for class_3:\n",
      "              precision    recall  f1-score   support\n",
      "\n",
      "           0       0.67      1.00      0.80        60\n",
      "           1       0.00      0.00      0.00        30\n",
      "\n",
      "    accuracy                           0.67        90\n",
      "   macro avg       0.33      0.50      0.40        90\n",
      "weighted avg       0.44      0.67      0.53        90\n",
      "\n"
     ]
    },
    {
     "name": "stderr",
     "output_type": "stream",
     "text": [
      "/home/emiliamelo/.pyenv/versions/3.10.6/envs/solar_project/lib/python3.10/site-packages/sklearn/metrics/_classification.py:1469: UndefinedMetricWarning: Precision and F-score are ill-defined and being set to 0.0 in labels with no predicted samples. Use `zero_division` parameter to control this behavior.\n",
      "  _warn_prf(average, modifier, msg_start, len(result))\n",
      "/home/emiliamelo/.pyenv/versions/3.10.6/envs/solar_project/lib/python3.10/site-packages/sklearn/metrics/_classification.py:1469: UndefinedMetricWarning: Precision and F-score are ill-defined and being set to 0.0 in labels with no predicted samples. Use `zero_division` parameter to control this behavior.\n",
      "  _warn_prf(average, modifier, msg_start, len(result))\n",
      "/home/emiliamelo/.pyenv/versions/3.10.6/envs/solar_project/lib/python3.10/site-packages/sklearn/metrics/_classification.py:1469: UndefinedMetricWarning: Precision and F-score are ill-defined and being set to 0.0 in labels with no predicted samples. Use `zero_division` parameter to control this behavior.\n",
      "  _warn_prf(average, modifier, msg_start, len(result))\n",
      "/home/emiliamelo/.pyenv/versions/3.10.6/envs/solar_project/lib/python3.10/site-packages/sklearn/metrics/_classification.py:1469: UndefinedMetricWarning: Precision and F-score are ill-defined and being set to 0.0 in labels with no predicted samples. Use `zero_division` parameter to control this behavior.\n",
      "  _warn_prf(average, modifier, msg_start, len(result))\n",
      "/home/emiliamelo/.pyenv/versions/3.10.6/envs/solar_project/lib/python3.10/site-packages/sklearn/metrics/_classification.py:1469: UndefinedMetricWarning: Precision and F-score are ill-defined and being set to 0.0 in labels with no predicted samples. Use `zero_division` parameter to control this behavior.\n",
      "  _warn_prf(average, modifier, msg_start, len(result))\n",
      "/home/emiliamelo/.pyenv/versions/3.10.6/envs/solar_project/lib/python3.10/site-packages/sklearn/metrics/_classification.py:1469: UndefinedMetricWarning: Precision and F-score are ill-defined and being set to 0.0 in labels with no predicted samples. Use `zero_division` parameter to control this behavior.\n",
      "  _warn_prf(average, modifier, msg_start, len(result))\n"
     ]
    }
   ],
   "source": [
    "from sklearn.metrics import classification_report\n",
    "import numpy as np\n",
    "print(f'labels shape: {labels.shape}')\n",
    "# Assuming 'probs' is the predicted probabilities for each class\n",
    "# 'thresholds' is a list of chosen thresholds for each class\n",
    "thresholds = [0.8, 0.8, 0.8]\n",
    "\n",
    "probs = reshaped_array\n",
    "print(len(reshaped_array[:,0]))\n",
    "# Apply threshold adjustment\n",
    "adjusted_predictions = []\n",
    "labels_matrix = []\n",
    "for j, label in zip(range(len(probs[:,0])),labels):\n",
    "    prob_element = probs[j,:]\n",
    "    #print(f'prob_element: {prob_element}')\n",
    "    #for i in range(len(prob_element)):\n",
    "    adjustment = [1 if p >= thresholds[c] else 0 for c, p in enumerate(prob_element)]\n",
    "    labels_mat = [1 if label==c else 0 for c, l in enumerate(range(len(prob_element)))]\n",
    "    #print(f'labels_mat: {labels_mat}, label: {label}')\n",
    "    #print(f\"adjustment: {adjustment}\")\n",
    "    #adjustment = np.argmax(adjustment, axis=-1)\n",
    "    adjusted_predictions.append(adjustment)\n",
    "    labels_matrix.append(labels_mat)\n",
    "# Convert to NumPy array\n",
    "adjusted_predictions = np.array(adjusted_predictions)\n",
    "labels_matrix = np.array(labels_matrix)\n",
    "print(f'adjust pred: {adjusted_predictions.shape}')\n",
    "\n",
    "# Assuming 'labels' is the ground truth labels\n",
    "class_names = ['class_1', 'class_2', 'class_3']\n",
    "\n",
    "#labels = \n",
    "print(f'labels_matrix shape: {labels_matrix.shape}')\n",
    "# Generate classification report for each class\n",
    "for c in range(len(class_names)): #range(len(labels)): #\n",
    "    print(f\"Metrics for {class_names[c]}:\")\n",
    "    class_labels = labels_matrix[:, c]  # Extract labels for the current class   # c \n",
    "    class_predictions = adjusted_predictions[:, c]  # Extract adjusted predictions for the current class\n",
    "    report = classification_report(class_labels, class_predictions)\n",
    "    print(report)\n"
   ]
  },
  {
   "cell_type": "code",
   "execution_count": 65,
   "id": "342c238f-9072-4907-ad9f-86f649f49b20",
   "metadata": {},
   "outputs": [
    {
     "data": {
      "text/plain": [
       "1"
      ]
     },
     "execution_count": 65,
     "metadata": {},
     "output_type": "execute_result"
    }
   ],
   "source": [
    "prediction_array = np.array([0.3, 0.4,0.3])\n",
    "pred = np.argmax(prediction_array, axis=-1)\n",
    "pred"
   ]
  }
 ],
 "metadata": {
  "kernelspec": {
   "display_name": "Python 3 (ipykernel)",
   "language": "python",
   "name": "python3"
  },
  "language_info": {
   "codemirror_mode": {
    "name": "ipython",
    "version": 3
   },
   "file_extension": ".py",
   "mimetype": "text/x-python",
   "name": "python",
   "nbconvert_exporter": "python",
   "pygments_lexer": "ipython3",
   "version": "3.10.6"
  },
  "toc": {
   "base_numbering": 1,
   "nav_menu": {},
   "number_sections": true,
   "sideBar": true,
   "skip_h1_title": false,
   "title_cell": "Table of Contents",
   "title_sidebar": "Contents",
   "toc_cell": false,
   "toc_position": {},
   "toc_section_display": true,
   "toc_window_display": false
  }
 },
 "nbformat": 4,
 "nbformat_minor": 5
}
