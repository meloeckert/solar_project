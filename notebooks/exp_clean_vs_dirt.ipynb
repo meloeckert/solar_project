{
 "cells": [
  {
   "cell_type": "code",
   "execution_count": 1,
   "id": "831245bc",
   "metadata": {},
   "outputs": [
    {
     "name": "stderr",
     "output_type": "stream",
     "text": [
      "2023-08-30 20:37:34.230483: I tensorflow/core/platform/cpu_feature_guard.cc:193] This TensorFlow binary is optimized with oneAPI Deep Neural Network Library (oneDNN) to use the following CPU instructions in performance-critical operations:  AVX2 FMA\n",
      "To enable them in other operations, rebuild TensorFlow with the appropriate compiler flags.\n",
      "2023-08-30 20:37:34.346045: W tensorflow/stream_executor/platform/default/dso_loader.cc:64] Could not load dynamic library 'libcudart.so.11.0'; dlerror: libcudart.so.11.0: cannot open shared object file: No such file or directory\n",
      "2023-08-30 20:37:34.346062: I tensorflow/stream_executor/cuda/cudart_stub.cc:29] Ignore above cudart dlerror if you do not have a GPU set up on your machine.\n",
      "2023-08-30 20:37:34.370204: E tensorflow/stream_executor/cuda/cuda_blas.cc:2981] Unable to register cuBLAS factory: Attempting to register factory for plugin cuBLAS when one has already been registered\n",
      "2023-08-30 20:37:35.186867: W tensorflow/stream_executor/platform/default/dso_loader.cc:64] Could not load dynamic library 'libnvinfer.so.7'; dlerror: libnvinfer.so.7: cannot open shared object file: No such file or directory\n",
      "2023-08-30 20:37:35.186968: W tensorflow/stream_executor/platform/default/dso_loader.cc:64] Could not load dynamic library 'libnvinfer_plugin.so.7'; dlerror: libnvinfer_plugin.so.7: cannot open shared object file: No such file or directory\n",
      "2023-08-30 20:37:35.186977: W tensorflow/compiler/tf2tensorrt/utils/py_utils.cc:38] TF-TRT Warning: Cannot dlopen some TensorRT libraries. If you would like to use Nvidia GPU with TensorRT, please make sure the missing libraries mentioned above are installed properly.\n"
     ]
    }
   ],
   "source": [
    "#load images\n",
    "from tensorflow.keras.preprocessing.image import array_to_img, img_to_array, load_img\n",
    "from tensorflow.keras.utils import image_dataset_from_directory\n",
    "from tensorflow.keras.models import Sequential, Model\n",
    "from tensorflow.keras import layers, optimizers, callbacks\n",
    "import matplotlib.pyplot as plt \n",
    "from PIL import Image\n",
    "import os\n",
    "%matplotlib inline"
   ]
  },
  {
   "cell_type": "markdown",
   "id": "b7fbb8a2",
   "metadata": {},
   "source": [
    "### Load images"
   ]
  },
  {
   "cell_type": "code",
   "execution_count": 2,
   "id": "dd969b9d",
   "metadata": {},
   "outputs": [
    {
     "name": "stdout",
     "output_type": "stream",
     "text": [
      "Found 601 files belonging to 2 classes.\n",
      "Found 80 files belonging to 2 classes.\n"
     ]
    },
    {
     "name": "stderr",
     "output_type": "stream",
     "text": [
      "2023-08-30 20:37:37.137248: W tensorflow/stream_executor/platform/default/dso_loader.cc:64] Could not load dynamic library 'libcuda.so.1'; dlerror: libcuda.so.1: cannot open shared object file: No such file or directory\n",
      "2023-08-30 20:37:37.137287: W tensorflow/stream_executor/cuda/cuda_driver.cc:263] failed call to cuInit: UNKNOWN ERROR (303)\n",
      "2023-08-30 20:37:37.137302: I tensorflow/stream_executor/cuda/cuda_diagnostics.cc:156] kernel driver does not appear to be running on this host (LAPTOP-JJG0M1AU): /proc/driver/nvidia/version does not exist\n",
      "2023-08-30 20:37:37.137567: I tensorflow/core/platform/cpu_feature_guard.cc:193] This TensorFlow binary is optimized with oneAPI Deep Neural Network Library (oneDNN) to use the following CPU instructions in performance-critical operations:  AVX2 FMA\n",
      "To enable them in other operations, rebuild TensorFlow with the appropriate compiler flags.\n"
     ]
    }
   ],
   "source": [
    "batch_size = 16\n",
    "train_data_dir = \"raw_data/training-data-binary-clean-dirt/\"\n",
    "test_data_dir = \"raw_data/test-data-binary-clean-dirt/\"\n",
    "\n",
    "train_data = image_dataset_from_directory(\n",
    "  train_data_dir,\n",
    "  labels = \"inferred\",\n",
    "  label_mode = \"binary\",\n",
    "  #class_names = ['clean','dust'],  \n",
    "  seed=123,\n",
    "  image_size=(225, 225),\n",
    "  batch_size=batch_size,\n",
    "  #validation_split=0.2,\n",
    "  #subset='both'\n",
    ") \n",
    "\n",
    "val_data = image_dataset_from_directory(\n",
    "  test_data_dir,\n",
    "  labels = \"inferred\",\n",
    "  label_mode = \"binary\",\n",
    "  #class_names = ['clean','dust'],  \n",
    "  seed=123,\n",
    "  image_size=(225, 225),\n",
    "  batch_size=batch_size,\n",
    "  #validation_split=0.2,\n",
    "  #subset='both'\n",
    ") \n",
    "\n",
    "#train_data = train_ds[0]\n",
    "#val_data = train_ds[1]"
   ]
  },
  {
   "cell_type": "code",
   "execution_count": 3,
   "id": "eb239244",
   "metadata": {},
   "outputs": [
    {
     "data": {
      "text/plain": [
       "['clean', 'dirt_damage']"
      ]
     },
     "execution_count": 3,
     "metadata": {},
     "output_type": "execute_result"
    }
   ],
   "source": [
    "classes_train = train_data.class_names\n",
    "classes_train"
   ]
  },
  {
   "cell_type": "code",
   "execution_count": 4,
   "id": "e43b84f3",
   "metadata": {},
   "outputs": [
    {
     "data": {
      "text/plain": [
       "['clean', 'dirt_damage']"
      ]
     },
     "execution_count": 4,
     "metadata": {},
     "output_type": "execute_result"
    }
   ],
   "source": [
    "classes = val_data.class_names\n",
    "classes"
   ]
  },
  {
   "cell_type": "markdown",
   "id": "c03df9dc",
   "metadata": {},
   "source": [
    "### Binary model: Clean vs Snow"
   ]
  },
  {
   "cell_type": "code",
   "execution_count": 5,
   "id": "f72a1529",
   "metadata": {},
   "outputs": [
    {
     "name": "stdout",
     "output_type": "stream",
     "text": [
      "WARNING:tensorflow:Using a while_loop for converting RngReadAndSkip cause there is no registered converter for this op.\n",
      "WARNING:tensorflow:Using a while_loop for converting Bitcast cause there is no registered converter for this op.\n",
      "WARNING:tensorflow:Using a while_loop for converting Bitcast cause there is no registered converter for this op.\n",
      "WARNING:tensorflow:Using a while_loop for converting StatelessRandomUniformV2 cause there is no registered converter for this op.\n",
      "WARNING:tensorflow:Using a while_loop for converting ImageProjectiveTransformV3 cause there is no registered converter for this op.\n",
      "WARNING:tensorflow:Using a while_loop for converting RngReadAndSkip cause there is no registered converter for this op.\n",
      "WARNING:tensorflow:Using a while_loop for converting Bitcast cause there is no registered converter for this op.\n",
      "WARNING:tensorflow:Using a while_loop for converting Bitcast cause there is no registered converter for this op.\n",
      "WARNING:tensorflow:Using a while_loop for converting StatelessRandomUniformV2 cause there is no registered converter for this op.\n",
      "WARNING:tensorflow:Using a while_loop for converting RngReadAndSkip cause there is no registered converter for this op.\n",
      "WARNING:tensorflow:Using a while_loop for converting Bitcast cause there is no registered converter for this op.\n",
      "WARNING:tensorflow:Using a while_loop for converting Bitcast cause there is no registered converter for this op.\n",
      "WARNING:tensorflow:Using a while_loop for converting StatelessRandomUniformV2 cause there is no registered converter for this op.\n",
      "WARNING:tensorflow:Using a while_loop for converting RngReadAndSkip cause there is no registered converter for this op.\n",
      "WARNING:tensorflow:Using a while_loop for converting Bitcast cause there is no registered converter for this op.\n",
      "WARNING:tensorflow:Using a while_loop for converting Bitcast cause there is no registered converter for this op.\n",
      "WARNING:tensorflow:Using a while_loop for converting StatelessRandomUniformV2 cause there is no registered converter for this op.\n",
      "WARNING:tensorflow:Using a while_loop for converting ImageProjectiveTransformV3 cause there is no registered converter for this op.\n"
     ]
    }
   ],
   "source": [
    "# We'll use a model with the same convolutional layers, but we'll add Augmentation layers before that\n",
    "\n",
    "model_clean_dirt = Sequential()\n",
    "\n",
    "model_clean_dirt.add(layers.Rescaling(1./255, input_shape = (225, 225, 3)))\n",
    "\n",
    "# Data Augmentation Layers\n",
    "\n",
    "model_clean_dirt.add(layers.RandomFlip(\"horizontal\"))\n",
    "model_clean_dirt.add(layers.RandomZoom(0.1))\n",
    "model_clean_dirt.add(layers.RandomTranslation(0.2, 0.2))\n",
    "model_clean_dirt.add(layers.RandomRotation(0.1))\n",
    "\n",
    "\n",
    "# Convolutional Layers\n",
    "\n",
    "model_clean_dirt.add(layers.Conv2D(filters = 32, kernel_size = (3,3), activation=\"relu\", padding = \"same\"))\n",
    "model_clean_dirt.add(layers.MaxPooling2D(pool_size=(2, 2), padding = \"same\") )\n",
    "\n",
    "\n",
    "model_clean_dirt.add(layers.Conv2D(filters = 32, kernel_size = (3,3), input_shape = (225, 225, 3), activation=\"relu\", padding = \"same\"))\n",
    "model_clean_dirt.add(layers.MaxPooling2D(pool_size=(2, 2), padding = \"same\") )\n",
    "\n",
    "\n",
    "model_clean_dirt.add(layers.Conv2D(filters = 64, kernel_size = (3,3), input_shape = (225, 225, 3), activation=\"relu\", padding = \"same\"))\n",
    "model_clean_dirt.add(layers.MaxPooling2D(pool_size=(2, 2), padding = \"same\") )\n",
    "\n",
    "model_clean_dirt.add(layers.Conv2D(filters = 128, kernel_size = (3,3), input_shape = (225, 225, 3), activation=\"relu\", padding = \"same\"))\n",
    "model_clean_dirt.add(layers.MaxPooling2D(pool_size=(2, 2), padding = \"same\") )\n",
    "\n",
    "model_clean_dirt.add(layers.Flatten())\n",
    "\n",
    "model_clean_dirt.add(layers.Dense(64, activation=\"relu\"))\n",
    "\n",
    "model_clean_dirt.add(layers.Dropout(0.5))\n",
    "\n",
    "model_clean_dirt.add(layers.Dense(1, activation=\"sigmoid\"))"
   ]
  },
  {
   "cell_type": "code",
   "execution_count": 6,
   "id": "b81f17e5",
   "metadata": {},
   "outputs": [],
   "source": [
    "adam = optimizers.Adam(learning_rate = 0.001)\n",
    "\n",
    "model_clean_dirt.compile(loss= 'binary_crossentropy', #'categorical_crossentropy',\n",
    "              optimizer= adam,\n",
    "              metrics=['accuracy'])"
   ]
  },
  {
   "cell_type": "code",
   "execution_count": 7,
   "id": "1f3482aa",
   "metadata": {},
   "outputs": [],
   "source": [
    "MODEL = \"model_clean_dirt\"\n",
    "\n",
    "modelCheckpoint = callbacks.ModelCheckpoint(\"{}.h5\".format(MODEL), monitor=\"val_loss\", verbose=0, save_best_only=True)\n",
    "\n",
    "LRreducer = callbacks.ReduceLROnPlateau(monitor=\"val_loss\", factor = 0.1, patience=3, verbose=1, min_lr=0)\n",
    "\n",
    "EarlyStopper = callbacks.EarlyStopping(monitor='val_loss', patience=10, verbose=0, restore_best_weights=True)"
   ]
  },
  {
   "cell_type": "code",
   "execution_count": 8,
   "id": "978a24f4",
   "metadata": {},
   "outputs": [
    {
     "name": "stdout",
     "output_type": "stream",
     "text": [
      "Epoch 1/30\n",
      "WARNING:tensorflow:Using a while_loop for converting RngReadAndSkip cause there is no registered converter for this op.\n",
      "WARNING:tensorflow:Using a while_loop for converting Bitcast cause there is no registered converter for this op.\n",
      "WARNING:tensorflow:Using a while_loop for converting Bitcast cause there is no registered converter for this op.\n",
      "WARNING:tensorflow:Using a while_loop for converting StatelessRandomUniformV2 cause there is no registered converter for this op.\n",
      "WARNING:tensorflow:Using a while_loop for converting ImageProjectiveTransformV3 cause there is no registered converter for this op.\n",
      "WARNING:tensorflow:Using a while_loop for converting RngReadAndSkip cause there is no registered converter for this op.\n",
      "WARNING:tensorflow:Using a while_loop for converting Bitcast cause there is no registered converter for this op.\n",
      "WARNING:tensorflow:Using a while_loop for converting Bitcast cause there is no registered converter for this op.\n",
      "WARNING:tensorflow:Using a while_loop for converting StatelessRandomUniformV2 cause there is no registered converter for this op.\n",
      "WARNING:tensorflow:Using a while_loop for converting RngReadAndSkip cause there is no registered converter for this op.\n",
      "WARNING:tensorflow:Using a while_loop for converting Bitcast cause there is no registered converter for this op.\n",
      "WARNING:tensorflow:Using a while_loop for converting Bitcast cause there is no registered converter for this op.\n",
      "WARNING:tensorflow:Using a while_loop for converting StatelessRandomUniformV2 cause there is no registered converter for this op.\n",
      "WARNING:tensorflow:Using a while_loop for converting RngReadAndSkip cause there is no registered converter for this op.\n",
      "WARNING:tensorflow:Using a while_loop for converting Bitcast cause there is no registered converter for this op.\n",
      "WARNING:tensorflow:Using a while_loop for converting Bitcast cause there is no registered converter for this op.\n",
      "WARNING:tensorflow:Using a while_loop for converting StatelessRandomUniformV2 cause there is no registered converter for this op.\n",
      "WARNING:tensorflow:Using a while_loop for converting ImageProjectiveTransformV3 cause there is no registered converter for this op.\n",
      "WARNING:tensorflow:Using a while_loop for converting RngReadAndSkip cause there is no registered converter for this op.\n",
      "WARNING:tensorflow:Using a while_loop for converting Bitcast cause there is no registered converter for this op.\n",
      "WARNING:tensorflow:Using a while_loop for converting Bitcast cause there is no registered converter for this op.\n",
      "WARNING:tensorflow:Using a while_loop for converting StatelessRandomUniformV2 cause there is no registered converter for this op.\n",
      "WARNING:tensorflow:Using a while_loop for converting ImageProjectiveTransformV3 cause there is no registered converter for this op.\n",
      "WARNING:tensorflow:Using a while_loop for converting RngReadAndSkip cause there is no registered converter for this op.\n",
      "WARNING:tensorflow:Using a while_loop for converting Bitcast cause there is no registered converter for this op.\n",
      "WARNING:tensorflow:Using a while_loop for converting Bitcast cause there is no registered converter for this op.\n",
      "WARNING:tensorflow:Using a while_loop for converting StatelessRandomUniformV2 cause there is no registered converter for this op.\n",
      "WARNING:tensorflow:Using a while_loop for converting RngReadAndSkip cause there is no registered converter for this op.\n",
      "WARNING:tensorflow:Using a while_loop for converting Bitcast cause there is no registered converter for this op.\n",
      "WARNING:tensorflow:Using a while_loop for converting Bitcast cause there is no registered converter for this op.\n",
      "WARNING:tensorflow:Using a while_loop for converting StatelessRandomUniformV2 cause there is no registered converter for this op.\n",
      "WARNING:tensorflow:Using a while_loop for converting RngReadAndSkip cause there is no registered converter for this op.\n",
      "WARNING:tensorflow:Using a while_loop for converting Bitcast cause there is no registered converter for this op.\n",
      "WARNING:tensorflow:Using a while_loop for converting Bitcast cause there is no registered converter for this op.\n",
      "WARNING:tensorflow:Using a while_loop for converting StatelessRandomUniformV2 cause there is no registered converter for this op.\n",
      "WARNING:tensorflow:Using a while_loop for converting ImageProjectiveTransformV3 cause there is no registered converter for this op.\n",
      "38/38 [==============================] - 29s 635ms/step - loss: 0.6147 - accuracy: 0.7621 - val_loss: 0.6808 - val_accuracy: 0.5000 - lr: 0.0010\n",
      "Epoch 2/30\n",
      "38/38 [==============================] - 24s 625ms/step - loss: 0.5456 - accuracy: 0.7671 - val_loss: 0.6321 - val_accuracy: 0.5375 - lr: 0.0010\n",
      "Epoch 3/30\n",
      "38/38 [==============================] - 25s 649ms/step - loss: 0.4926 - accuracy: 0.7737 - val_loss: 0.7498 - val_accuracy: 0.5625 - lr: 0.0010\n",
      "Epoch 4/30\n",
      "38/38 [==============================] - 26s 684ms/step - loss: 0.5004 - accuracy: 0.7887 - val_loss: 0.5428 - val_accuracy: 0.7375 - lr: 0.0010\n",
      "Epoch 5/30\n",
      "38/38 [==============================] - 27s 690ms/step - loss: 0.4947 - accuracy: 0.7854 - val_loss: 0.4902 - val_accuracy: 0.7625 - lr: 0.0010\n",
      "Epoch 6/30\n",
      "38/38 [==============================] - 27s 713ms/step - loss: 0.4538 - accuracy: 0.7937 - val_loss: 0.5519 - val_accuracy: 0.7375 - lr: 0.0010\n",
      "Epoch 7/30\n",
      "38/38 [==============================] - 30s 791ms/step - loss: 0.4630 - accuracy: 0.7804 - val_loss: 0.5331 - val_accuracy: 0.7875 - lr: 0.0010\n",
      "Epoch 8/30\n",
      "38/38 [==============================] - ETA: 0s - loss: 0.4382 - accuracy: 0.8003\n",
      "Epoch 8: ReduceLROnPlateau reducing learning rate to 0.00010000000474974513.\n",
      "38/38 [==============================] - 48s 1s/step - loss: 0.4382 - accuracy: 0.8003 - val_loss: 0.5164 - val_accuracy: 0.8125 - lr: 0.0010\n",
      "Epoch 9/30\n",
      "38/38 [==============================] - 39s 1s/step - loss: 0.4503 - accuracy: 0.7970 - val_loss: 0.5241 - val_accuracy: 0.8000 - lr: 1.0000e-04\n",
      "Epoch 10/30\n",
      "38/38 [==============================] - 35s 899ms/step - loss: 0.4282 - accuracy: 0.8170 - val_loss: 0.5073 - val_accuracy: 0.8000 - lr: 1.0000e-04\n",
      "Epoch 11/30\n",
      "38/38 [==============================] - ETA: 0s - loss: 0.4176 - accuracy: 0.8220\n",
      "Epoch 11: ReduceLROnPlateau reducing learning rate to 1.0000000474974514e-05.\n",
      "38/38 [==============================] - 29s 739ms/step - loss: 0.4176 - accuracy: 0.8220 - val_loss: 0.5066 - val_accuracy: 0.7875 - lr: 1.0000e-04\n",
      "Epoch 12/30\n",
      "38/38 [==============================] - 34s 868ms/step - loss: 0.4113 - accuracy: 0.7987 - val_loss: 0.5039 - val_accuracy: 0.8000 - lr: 1.0000e-05\n",
      "Epoch 13/30\n",
      "38/38 [==============================] - 38s 997ms/step - loss: 0.4220 - accuracy: 0.8170 - val_loss: 0.5026 - val_accuracy: 0.7875 - lr: 1.0000e-05\n",
      "Epoch 14/30\n",
      "38/38 [==============================] - ETA: 0s - loss: 0.4246 - accuracy: 0.8120\n",
      "Epoch 14: ReduceLROnPlateau reducing learning rate to 1.0000000656873453e-06.\n",
      "38/38 [==============================] - 35s 903ms/step - loss: 0.4246 - accuracy: 0.8120 - val_loss: 0.5029 - val_accuracy: 0.7875 - lr: 1.0000e-05\n",
      "Epoch 15/30\n",
      "38/38 [==============================] - 36s 929ms/step - loss: 0.3984 - accuracy: 0.8170 - val_loss: 0.5028 - val_accuracy: 0.7875 - lr: 1.0000e-06\n",
      "CPU times: user 46min 20s, sys: 3min 10s, total: 49min 30s\n",
      "Wall time: 8min 2s\n"
     ]
    }
   ],
   "source": [
    "%%time\n",
    "\n",
    "history_clean_dirt = model_clean_dirt.fit(\n",
    "        train_data,\n",
    "        epochs=30,\n",
    "        validation_data=val_data,\n",
    "        callbacks = [modelCheckpoint, LRreducer, EarlyStopper]\n",
    "        )"
   ]
  },
  {
   "cell_type": "code",
   "execution_count": 9,
   "id": "41434617",
   "metadata": {},
   "outputs": [],
   "source": [
    "def plot_history(history):\n",
    "    fig, ax = plt.subplots(1, 2, figsize=(15,5))\n",
    "    ax[0].set_title('loss')\n",
    "    ax[0].plot(history.epoch, history.history[\"loss\"], label=\"Train loss\")\n",
    "    ax[0].plot(history.epoch, history.history[\"val_loss\"], label=\"Validation loss\")\n",
    "    ax[1].set_title('accuracy')\n",
    "    ax[1].plot(history.epoch, history.history[\"accuracy\"], label=\"Train acc\")\n",
    "    ax[1].plot(history.epoch, history.history[\"val_accuracy\"], label=\"Validation acc\")\n",
    "    ax[0].legend()\n",
    "    ax[1].legend()"
   ]
  },
  {
   "cell_type": "code",
   "execution_count": 10,
   "id": "19ac2cbe",
   "metadata": {},
   "outputs": [
    {
     "data": {
      "image/png": "[encoded data removed]",
      "text/plain": [
       "<Figure size 1500x500 with 2 Axes>"
      ]
     },
     "metadata": {},
     "output_type": "display_data"
    }
   ],
   "source": [
    "plot_history(history_clean_dirt)"
   ]
  },
  {
   "cell_type": "code",
   "execution_count": null,
   "id": "5bd7268c",
   "metadata": {},
   "outputs": [],
   "source": []
  },
  {
   "cell_type": "markdown",
   "id": "11593472",
   "metadata": {},
   "source": [
    "### Pred tests"
   ]
  },
  {
   "cell_type": "code",
   "execution_count": 11,
   "id": "3cf14b7c",
   "metadata": {},
   "outputs": [],
   "source": [
    "def predictImage_binary(url, model):\n",
    "\n",
    "  # Takes an imafe and a model\n",
    "\n",
    "  img = url\n",
    "  img = img_to_array(img)\n",
    "  img = img.reshape((-1, 225, 225, 3))\n",
    "  res = model.predict(img)\n",
    "  print(f\"Probabilities: \")\n",
    "  print(f\"{res[0]}\")  \n",
    "  res = model.predict(img)[0][0]\n",
    "  if(res < 0.5):\n",
    "    pred_class = \"clean\"\n",
    "    prob = 1-res\n",
    "  if(res >= 0.5):\n",
    "    pred_class = \"dirt\"\n",
    "    prob = res\n",
    "\n",
    "  print(\"Class : \", pred_class)\n",
    "  print(\"probability = \",prob)"
   ]
  },
  {
   "cell_type": "code",
   "execution_count": null,
   "id": "2cae6f31",
   "metadata": {},
   "outputs": [],
   "source": []
  },
  {
   "cell_type": "code",
   "execution_count": 12,
   "id": "929d7c2b",
   "metadata": {},
   "outputs": [],
   "source": [
    "# 'img_clean_1 = load_img(f\"raw_data/training-data/clean/Cleaan (4).jpeg\", target_size=(225, 225))\n",
    "# predictImage_binary(img_clean_1,model_clean_snow)\n",
    "# plt.imshow(img_clean_1);'"
   ]
  },
  {
   "cell_type": "code",
   "execution_count": 13,
   "id": "7cb69115",
   "metadata": {},
   "outputs": [],
   "source": [
    "# img_clean_2 = load_img(f\"raw_data/training-data/clean/Cleaan (15).jpeg\", target_size=(225, 225))\n",
    "# predictImage_binary(img_clean_2,model_clean_snow)\n",
    "# plt.imshow(img_clean_2);"
   ]
  },
  {
   "cell_type": "code",
   "execution_count": 14,
   "id": "8be72b05",
   "metadata": {},
   "outputs": [],
   "source": [
    "# img_clean_2 = load_img(f\"raw_data/training-data/solar/Solar (15).jpeg\", target_size=(225, 225))\n",
    "# predictImage_binary(img_clean_2,model_clean_snow)\n",
    "# plt.imshow(img_clean_2);"
   ]
  },
  {
   "cell_type": "code",
   "execution_count": 15,
   "id": "b1ccd339",
   "metadata": {},
   "outputs": [],
   "source": [
    "# img_clean_2 = load_img(f\"raw_data/training-data/solar/Solar (21).jpeg\", target_size=(225, 225))\n",
    "# predictImage_binary(img_clean_2,model_clean_snow)\n",
    "# plt.imshow(img_clean_2);"
   ]
  },
  {
   "cell_type": "code",
   "execution_count": 16,
   "id": "652c5001",
   "metadata": {},
   "outputs": [],
   "source": [
    "# img_clean_2 = load_img(f\"raw_data/training-data/solar/Solar (28).jpeg\", target_size=(225, 225))\n",
    "# predictImage_binary(img_clean_2,model_clean_snow)\n",
    "# plt.imshow(img_clean_2);"
   ]
  },
  {
   "cell_type": "code",
   "execution_count": null,
   "id": "0ca3c7f6",
   "metadata": {},
   "outputs": [],
   "source": []
  },
  {
   "cell_type": "markdown",
   "id": "4f4b0c71",
   "metadata": {},
   "source": [
    "## Precision, recall"
   ]
  },
  {
   "cell_type": "code",
   "execution_count": 17,
   "id": "300e873a",
   "metadata": {},
   "outputs": [
    {
     "name": "stdout",
     "output_type": "stream",
     "text": [
      "1/1 [==============================] - 0s 294ms/step\n",
      "1/1 [==============================] - 0s 129ms/step\n",
      "1/1 [==============================] - 0s 131ms/step\n",
      "1/1 [==============================] - 0s 133ms/step\n",
      "1/1 [==============================] - 0s 132ms/step\n",
      "              precision    recall  f1-score   support\n",
      "\n",
      "       clean       0.82      0.68      0.74        40\n",
      " dirt_damage       0.72      0.85      0.78        40\n",
      "\n",
      "    accuracy                           0.76        80\n",
      "   macro avg       0.77      0.76      0.76        80\n",
      "weighted avg       0.77      0.76      0.76        80\n",
      "\n"
     ]
    }
   ],
   "source": [
    "import numpy as np\n",
    "from tensorflow.math import confusion_matrix\n",
    "from sklearn.metrics import classification_report\n",
    "\n",
    "\n",
    "predictions = np.array([])\n",
    "probabilities = np.array([])\n",
    "labels =  np.array([])\n",
    "\n",
    "for x, y in val_data:\n",
    "    \n",
    "  proba = model_clean_dirt.predict(x)\n",
    "  pred = np.where(proba < 0.5, 0, 1).reshape(len(y))\n",
    "    \n",
    "  predictions = np.concatenate([predictions, pred])\n",
    "\n",
    "  label =  np.squeeze(y) #y.reshape(len(pred))\n",
    "  proba_damage = np.squeeze(1- proba)  \n",
    "  prob = proba.reshape(len(y))\n",
    "\n",
    "  probabilities = np.concatenate([probabilities, proba_damage])  \n",
    "\n",
    "  labels = np.concatenate([labels, label])  #np.argmax(y.numpy()\n",
    "\n",
    "report = classification_report(labels, predictions, target_names=classes)\n",
    "\n",
    "print(report)"
   ]
  },
  {
   "cell_type": "code",
   "execution_count": 18,
   "id": "805278f0",
   "metadata": {},
   "outputs": [
    {
     "data": {
      "text/plain": [
       "array([[27, 13],\n",
       "       [ 6, 34]], dtype=int32)"
      ]
     },
     "execution_count": 18,
     "metadata": {},
     "output_type": "execute_result"
    }
   ],
   "source": [
    "confusion_matrix(labels=labels, predictions=predictions).numpy()"
   ]
  },
  {
   "cell_type": "code",
   "execution_count": 19,
   "id": "e27b051c",
   "metadata": {},
   "outputs": [],
   "source": [
    "from sklearn.metrics import precision_recall_curve\n",
    "import pandas as pd"
   ]
  },
  {
   "cell_type": "code",
   "execution_count": 20,
   "id": "4442dffa",
   "metadata": {},
   "outputs": [
    {
     "ename": "FileNotFoundError",
     "evalue": "[Errno 2] No such file or directory: 'raw_data/test-data-binary-clean-dirt/dirt_damage/Bird (63).jpeg'",
     "output_type": "error",
     "traceback": [
      "\u001b[0;31m---------------------------------------------------------------------------\u001b[0m",
      "\u001b[0;31mFileNotFoundError\u001b[0m                         Traceback (most recent call last)",
      "Cell \u001b[0;32mIn [20], line 1\u001b[0m\n\u001b[0;32m----> 1\u001b[0m img_clean_2 \u001b[38;5;241m=\u001b[39m \u001b[43mload_img\u001b[49m\u001b[43m(\u001b[49m\u001b[38;5;124;43mf\u001b[39;49m\u001b[38;5;124;43m\"\u001b[39;49m\u001b[38;5;132;43;01m{\u001b[39;49;00m\u001b[43mtest_data_dir\u001b[49m\u001b[38;5;132;43;01m}\u001b[39;49;00m\u001b[38;5;124;43mdirt_damage/Bird (63).jpeg\u001b[39;49m\u001b[38;5;124;43m\"\u001b[39;49m\u001b[43m,\u001b[49m\u001b[43m \u001b[49m\u001b[43mtarget_size\u001b[49m\u001b[38;5;241;43m=\u001b[39;49m\u001b[43m(\u001b[49m\u001b[38;5;241;43m225\u001b[39;49m\u001b[43m,\u001b[49m\u001b[43m \u001b[49m\u001b[38;5;241;43m225\u001b[39;49m\u001b[43m)\u001b[49m\u001b[43m)\u001b[49m\n\u001b[1;32m      2\u001b[0m predictImage_binary(img_clean_2,model_clean_dirt)\n\u001b[1;32m      3\u001b[0m plt\u001b[38;5;241m.\u001b[39mimshow(img_clean_2)\n",
      "File \u001b[0;32m~/.pyenv/versions/3.10.6/envs/lewagon/lib/python3.10/site-packages/keras/utils/image_utils.py:422\u001b[0m, in \u001b[0;36mload_img\u001b[0;34m(path, grayscale, color_mode, target_size, interpolation, keep_aspect_ratio)\u001b[0m\n\u001b[1;32m    420\u001b[0m     \u001b[38;5;28;01mif\u001b[39;00m \u001b[38;5;28misinstance\u001b[39m(path, pathlib\u001b[38;5;241m.\u001b[39mPath):\n\u001b[1;32m    421\u001b[0m         path \u001b[38;5;241m=\u001b[39m \u001b[38;5;28mstr\u001b[39m(path\u001b[38;5;241m.\u001b[39mresolve())\n\u001b[0;32m--> 422\u001b[0m     \u001b[38;5;28;01mwith\u001b[39;00m \u001b[38;5;28;43mopen\u001b[39;49m\u001b[43m(\u001b[49m\u001b[43mpath\u001b[49m\u001b[43m,\u001b[49m\u001b[43m \u001b[49m\u001b[38;5;124;43m\"\u001b[39;49m\u001b[38;5;124;43mrb\u001b[39;49m\u001b[38;5;124;43m\"\u001b[39;49m\u001b[43m)\u001b[49m \u001b[38;5;28;01mas\u001b[39;00m f:\n\u001b[1;32m    423\u001b[0m         img \u001b[38;5;241m=\u001b[39m pil_image\u001b[38;5;241m.\u001b[39mopen(io\u001b[38;5;241m.\u001b[39mBytesIO(f\u001b[38;5;241m.\u001b[39mread()))\n\u001b[1;32m    424\u001b[0m \u001b[38;5;28;01melse\u001b[39;00m:\n",
      "\u001b[0;31mFileNotFoundError\u001b[0m: [Errno 2] No such file or directory: 'raw_data/test-data-binary-clean-dirt/dirt_damage/Bird (63).jpeg'"
     ]
    }
   ],
   "source": [
    "img_clean_2 = load_img(f\"{test_data_dir}dirt_damage/Bird (63).jpeg\", target_size=(225, 225))\n",
    "predictImage_binary(img_clean_2,model_clean_dirt)\n",
    "plt.imshow(img_clean_2);"
   ]
  },
  {
   "cell_type": "code",
   "execution_count": null,
   "id": "ab39d90b",
   "metadata": {},
   "outputs": [],
   "source": []
  },
  {
   "cell_type": "code",
   "execution_count": null,
   "id": "f13f4f53",
   "metadata": {},
   "outputs": [],
   "source": []
  },
  {
   "cell_type": "code",
   "execution_count": null,
   "id": "a734df53",
   "metadata": {},
   "outputs": [],
   "source": []
  },
  {
   "cell_type": "code",
   "execution_count": null,
   "id": "394a50a5",
   "metadata": {},
   "outputs": [],
   "source": []
  },
  {
   "cell_type": "code",
   "execution_count": null,
   "id": "d8164604",
   "metadata": {},
   "outputs": [],
   "source": []
  },
  {
   "cell_type": "code",
   "execution_count": null,
   "id": "6be96f69",
   "metadata": {},
   "outputs": [],
   "source": []
  },
  {
   "cell_type": "code",
   "execution_count": null,
   "id": "79b5fa21",
   "metadata": {},
   "outputs": [],
   "source": []
  }
 ],
 "metadata": {
  "kernelspec": {
   "display_name": "Python 3 (ipykernel)",
   "language": "python",
   "name": "python3"
  },
  "language_info": {
   "codemirror_mode": {
    "name": "ipython",
    "version": 3
   },
   "file_extension": ".py",
   "mimetype": "text/x-python",
   "name": "python",
   "nbconvert_exporter": "python",
   "pygments_lexer": "ipython3",
   "version": "3.10.6"
  },
  "toc": {
   "base_numbering": 1,
   "nav_menu": {},
   "number_sections": true,
   "sideBar": true,
   "skip_h1_title": false,
   "title_cell": "Table of Contents",
   "title_sidebar": "Contents",
   "toc_cell": false,
   "toc_position": {},
   "toc_section_display": true,
   "toc_window_display": false
  }
 },
 "nbformat": 4,
 "nbformat_minor": 5
}
