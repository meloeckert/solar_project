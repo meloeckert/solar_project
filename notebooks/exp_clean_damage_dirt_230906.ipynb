{
 "cells": [
  {
   "cell_type": "markdown",
   "id": "31aced20",
   "metadata": {},
   "source": [
    "# Experiment: Model with 3 classes (clean, damaged, dirt)"
   ]
  },
  {
   "cell_type": "markdown",
   "id": "dff86168-1016-4ae3-8fe3-87054d08abe0",
   "metadata": {},
   "source": [
    "## Unbalaced classes"
   ]
  },
  {
   "cell_type": "code",
   "execution_count": 1,
   "id": "205e029f",
   "metadata": {},
   "outputs": [
    {
     "name": "stderr",
     "output_type": "stream",
     "text": [
      "2023-09-06 10:48:26.983493: I tensorflow/core/platform/cpu_feature_guard.cc:193] This TensorFlow binary is optimized with oneAPI Deep Neural Network Library (oneDNN) to use the following CPU instructions in performance-critical operations:  AVX2 FMA\n",
      "To enable them in other operations, rebuild TensorFlow with the appropriate compiler flags.\n",
      "2023-09-06 10:48:27.110484: W tensorflow/stream_executor/platform/default/dso_loader.cc:64] Could not load dynamic library 'libcudart.so.11.0'; dlerror: libcudart.so.11.0: cannot open shared object file: No such file or directory\n",
      "2023-09-06 10:48:27.110502: I tensorflow/stream_executor/cuda/cudart_stub.cc:29] Ignore above cudart dlerror if you do not have a GPU set up on your machine.\n",
      "2023-09-06 10:48:27.136244: E tensorflow/stream_executor/cuda/cuda_blas.cc:2981] Unable to register cuBLAS factory: Attempting to register factory for plugin cuBLAS when one has already been registered\n",
      "2023-09-06 10:48:28.092985: W tensorflow/stream_executor/platform/default/dso_loader.cc:64] Could not load dynamic library 'libnvinfer.so.7'; dlerror: libnvinfer.so.7: cannot open shared object file: No such file or directory\n",
      "2023-09-06 10:48:28.093127: W tensorflow/stream_executor/platform/default/dso_loader.cc:64] Could not load dynamic library 'libnvinfer_plugin.so.7'; dlerror: libnvinfer_plugin.so.7: cannot open shared object file: No such file or directory\n",
      "2023-09-06 10:48:28.093141: W tensorflow/compiler/tf2tensorrt/utils/py_utils.cc:38] TF-TRT Warning: Cannot dlopen some TensorRT libraries. If you would like to use Nvidia GPU with TensorRT, please make sure the missing libraries mentioned above are installed properly.\n"
     ]
    }
   ],
   "source": [
    "#load images\n",
    "from tensorflow.keras.preprocessing.image import array_to_img, img_to_array, load_img\n",
    "from tensorflow.keras.utils import image_dataset_from_directory\n",
    "from tensorflow.keras.models import Sequential, Model\n",
    "from tensorflow.keras import layers, optimizers, callbacks\n",
    "import matplotlib.pyplot as plt \n",
    "from tensorflow.keras.losses import SparseCategoricalCrossentropy\n",
    "from PIL import Image\n",
    "import os\n",
    "%matplotlib inline"
   ]
  },
  {
   "cell_type": "code",
   "execution_count": 2,
   "id": "10c805b9",
   "metadata": {},
   "outputs": [
    {
     "name": "stdout",
     "output_type": "stream",
     "text": [
      "Found 639 files belonging to 3 classes.\n",
      "Found 90 files belonging to 3 classes.\n"
     ]
    },
    {
     "name": "stderr",
     "output_type": "stream",
     "text": [
      "2023-09-06 10:48:36.274967: W tensorflow/stream_executor/platform/default/dso_loader.cc:64] Could not load dynamic library 'libcuda.so.1'; dlerror: libcuda.so.1: cannot open shared object file: No such file or directory\n",
      "2023-09-06 10:48:36.275005: W tensorflow/stream_executor/cuda/cuda_driver.cc:263] failed call to cuInit: UNKNOWN ERROR (303)\n",
      "2023-09-06 10:48:36.275053: I tensorflow/stream_executor/cuda/cuda_diagnostics.cc:156] kernel driver does not appear to be running on this host (LAPTOP-JJG0M1AU): /proc/driver/nvidia/version does not exist\n",
      "2023-09-06 10:48:36.275302: I tensorflow/core/platform/cpu_feature_guard.cc:193] This TensorFlow binary is optimized with oneAPI Deep Neural Network Library (oneDNN) to use the following CPU instructions in performance-critical operations:  AVX2 FMA\n",
      "To enable them in other operations, rebuild TensorFlow with the appropriate compiler flags.\n"
     ]
    }
   ],
   "source": [
    "batch_size = 32\n",
    "current_path = os.getcwd()\n",
    "train_data_dir = os.path.join(current_path,'..',\"raw_data/exp3-training-data/\")\n",
    "test_data_dir = os.path.join(current_path,'..',\"raw_data/exp3-val-data/\")\n",
    "\n",
    "train_data = image_dataset_from_directory(\n",
    "  train_data_dir,\n",
    "  #labels = \"inferred\",\n",
    "  label_mode = \"int\",  \n",
    "  seed=123,\n",
    "  image_size=(225, 225),\n",
    "  batch_size=batch_size,\n",
    "  #validation_split=0.2,\n",
    "  #subset='both'\n",
    ") \n",
    "val_data = image_dataset_from_directory(\n",
    "   test_data_dir,\n",
    "   #labels = \"inferred\",\n",
    "   label_mode = \"int\",\n",
    "   seed=123,\n",
    "   image_size=(225, 225),\n",
    "   batch_size=batch_size,\n",
    " )\n",
    "\n",
    "#train_data = train_ds[0]\n",
    "#val_data = train_ds[1]"
   ]
  },
  {
   "cell_type": "code",
   "execution_count": 3,
   "id": "3e03f6b7",
   "metadata": {},
   "outputs": [
    {
     "data": {
      "text/plain": [
       "['clean', 'damage', 'dirt']"
      ]
     },
     "execution_count": 3,
     "metadata": {},
     "output_type": "execute_result"
    }
   ],
   "source": [
    "classes1 = train_data.class_names\n",
    "classes1"
   ]
  },
  {
   "cell_type": "code",
   "execution_count": 4,
   "id": "efc10899",
   "metadata": {},
   "outputs": [
    {
     "data": {
      "text/plain": [
       "['clean', 'damage', 'dirt']"
      ]
     },
     "execution_count": 4,
     "metadata": {},
     "output_type": "execute_result"
    }
   ],
   "source": [
    "classes2 = val_data.class_names\n",
    "classes2"
   ]
  },
  {
   "cell_type": "code",
   "execution_count": null,
   "id": "a699092d",
   "metadata": {},
   "outputs": [],
   "source": []
  },
  {
   "cell_type": "markdown",
   "id": "64e25720",
   "metadata": {},
   "source": [
    "### Model"
   ]
  },
  {
   "cell_type": "code",
   "execution_count": 5,
   "id": "ced0be1a",
   "metadata": {},
   "outputs": [
    {
     "name": "stdout",
     "output_type": "stream",
     "text": [
      "WARNING:tensorflow:Using a while_loop for converting RngReadAndSkip cause there is no registered converter for this op.\n",
      "WARNING:tensorflow:Using a while_loop for converting Bitcast cause there is no registered converter for this op.\n",
      "WARNING:tensorflow:Using a while_loop for converting Bitcast cause there is no registered converter for this op.\n",
      "WARNING:tensorflow:Using a while_loop for converting StatelessRandomUniformV2 cause there is no registered converter for this op.\n",
      "WARNING:tensorflow:Using a while_loop for converting ImageProjectiveTransformV3 cause there is no registered converter for this op.\n",
      "WARNING:tensorflow:Using a while_loop for converting RngReadAndSkip cause there is no registered converter for this op.\n",
      "WARNING:tensorflow:Using a while_loop for converting Bitcast cause there is no registered converter for this op.\n",
      "WARNING:tensorflow:Using a while_loop for converting Bitcast cause there is no registered converter for this op.\n",
      "WARNING:tensorflow:Using a while_loop for converting StatelessRandomUniformV2 cause there is no registered converter for this op.\n",
      "WARNING:tensorflow:Using a while_loop for converting RngReadAndSkip cause there is no registered converter for this op.\n",
      "WARNING:tensorflow:Using a while_loop for converting Bitcast cause there is no registered converter for this op.\n",
      "WARNING:tensorflow:Using a while_loop for converting Bitcast cause there is no registered converter for this op.\n",
      "WARNING:tensorflow:Using a while_loop for converting StatelessRandomUniformV2 cause there is no registered converter for this op.\n",
      "WARNING:tensorflow:Using a while_loop for converting RngReadAndSkip cause there is no registered converter for this op.\n",
      "WARNING:tensorflow:Using a while_loop for converting Bitcast cause there is no registered converter for this op.\n",
      "WARNING:tensorflow:Using a while_loop for converting Bitcast cause there is no registered converter for this op.\n",
      "WARNING:tensorflow:Using a while_loop for converting StatelessRandomUniformV2 cause there is no registered converter for this op.\n",
      "WARNING:tensorflow:Using a while_loop for converting ImageProjectiveTransformV3 cause there is no registered converter for this op.\n"
     ]
    }
   ],
   "source": [
    "# We'll use a model with the same convolutional layers, but we'll add Augmentation layers before that\n",
    "\n",
    "model_multi = Sequential()\n",
    "\n",
    "model_multi.add(layers.Rescaling(1./255, input_shape = (225, 225, 3)))\n",
    "\n",
    "# Data Augmentation Layers\n",
    "\n",
    "model_multi.add(layers.RandomFlip(\"horizontal\"))\n",
    "model_multi.add(layers.RandomZoom(0.1))\n",
    "model_multi.add(layers.RandomTranslation(0.2, 0.2))\n",
    "model_multi.add(layers.RandomRotation(0.1))\n",
    "\n",
    "\n",
    "# Convolutional Layers\n",
    "\n",
    "model_multi.add(layers.Conv2D(filters = 32, kernel_size = (3,3), activation=\"relu\", padding = \"same\"))\n",
    "model_multi.add(layers.MaxPooling2D(pool_size=(2, 2), padding = \"same\") )\n",
    "\n",
    "\n",
    "model_multi.add(layers.Conv2D(filters = 32, kernel_size = (3,3), input_shape = (225, 225, 3), activation=\"relu\", padding = \"same\"))\n",
    "model_multi.add(layers.MaxPooling2D(pool_size=(2, 2), padding = \"same\") )\n",
    "\n",
    "\n",
    "model_multi.add(layers.Conv2D(filters = 64, kernel_size = (3,3), input_shape = (225, 225, 3), activation=\"relu\", padding = \"same\"))\n",
    "model_multi.add(layers.MaxPooling2D(pool_size=(2, 2), padding = \"same\") )\n",
    "\n",
    "model_multi.add(layers.Conv2D(filters = 128, kernel_size = (3,3), input_shape = (225, 225, 3), activation=\"relu\", padding = \"same\"))\n",
    "model_multi.add(layers.MaxPooling2D(pool_size=(2, 2), padding = \"same\") )\n",
    "\n",
    "model_multi.add(layers.Flatten())\n",
    "\n",
    "model_multi.add(layers.Dense(64, activation=\"relu\"))\n",
    "\n",
    "model_multi.add(layers.Dropout(0.5))\n",
    "\n",
    "model_multi.add(layers.Dense(3, activation=\"softmax\"))"
   ]
  },
  {
   "cell_type": "code",
   "execution_count": 6,
   "id": "56f3faa4",
   "metadata": {},
   "outputs": [
    {
     "name": "stdout",
     "output_type": "stream",
     "text": [
      "Model: \"sequential\"\n",
      "_________________________________________________________________\n",
      " Layer (type)                Output Shape              Param #   \n",
      "=================================================================\n",
      " rescaling (Rescaling)       (None, 225, 225, 3)       0         \n",
      "                                                                 \n",
      " random_flip (RandomFlip)    (None, 225, 225, 3)       0         \n",
      "                                                                 \n",
      " random_zoom (RandomZoom)    (None, 225, 225, 3)       0         \n",
      "                                                                 \n",
      " random_translation (RandomT  (None, 225, 225, 3)      0         \n",
      " ranslation)                                                     \n",
      "                                                                 \n",
      " random_rotation (RandomRota  (None, 225, 225, 3)      0         \n",
      " tion)                                                           \n",
      "                                                                 \n",
      " conv2d (Conv2D)             (None, 225, 225, 32)      896       \n",
      "                                                                 \n",
      " max_pooling2d (MaxPooling2D  (None, 113, 113, 32)     0         \n",
      " )                                                               \n",
      "                                                                 \n",
      " conv2d_1 (Conv2D)           (None, 113, 113, 32)      9248      \n",
      "                                                                 \n",
      " max_pooling2d_1 (MaxPooling  (None, 57, 57, 32)       0         \n",
      " 2D)                                                             \n",
      "                                                                 \n",
      " conv2d_2 (Conv2D)           (None, 57, 57, 64)        18496     \n",
      "                                                                 \n",
      " max_pooling2d_2 (MaxPooling  (None, 29, 29, 64)       0         \n",
      " 2D)                                                             \n",
      "                                                                 \n",
      " conv2d_3 (Conv2D)           (None, 29, 29, 128)       73856     \n",
      "                                                                 \n",
      " max_pooling2d_3 (MaxPooling  (None, 15, 15, 128)      0         \n",
      " 2D)                                                             \n",
      "                                                                 \n",
      " flatten (Flatten)           (None, 28800)             0         \n",
      "                                                                 \n",
      " dense (Dense)               (None, 64)                1843264   \n",
      "                                                                 \n",
      " dropout (Dropout)           (None, 64)                0         \n",
      "                                                                 \n",
      " dense_1 (Dense)             (None, 3)                 195       \n",
      "                                                                 \n",
      "=================================================================\n",
      "Total params: 1,945,955\n",
      "Trainable params: 1,945,955\n",
      "Non-trainable params: 0\n",
      "_________________________________________________________________\n"
     ]
    }
   ],
   "source": [
    "model_multi.summary()"
   ]
  },
  {
   "cell_type": "code",
   "execution_count": 7,
   "id": "d5bfe794",
   "metadata": {},
   "outputs": [],
   "source": [
    "adam = optimizers.Adam(learning_rate = 0.001)\n",
    "\n",
    "model_multi.compile(loss= SparseCategoricalCrossentropy(),\n",
    "              optimizer= adam,\n",
    "              metrics=['accuracy'])"
   ]
  },
  {
   "cell_type": "code",
   "execution_count": 8,
   "id": "1dd6dc7e",
   "metadata": {},
   "outputs": [],
   "source": [
    "#exp: manually data augmentation \n",
    "MODEL = \"model_multiclass_clean_damage_dirt_230904_exp3\"\n",
    "\n",
    "modelCheckpoint = callbacks.ModelCheckpoint(\"{}.h5\".format(MODEL), monitor=\"val_loss\", verbose=0, save_best_only=True)\n",
    "\n",
    "LRreducer = callbacks.ReduceLROnPlateau(monitor=\"val_loss\", factor = 0.1, patience=3, verbose=1, min_lr=0)\n",
    "\n",
    "EarlyStopper = callbacks.EarlyStopping(monitor='val_loss', patience=10, verbose=0, restore_best_weights=True)"
   ]
  },
  {
   "cell_type": "code",
   "execution_count": 9,
   "id": "933cf1f6",
   "metadata": {},
   "outputs": [
    {
     "name": "stdout",
     "output_type": "stream",
     "text": [
      "total: 639\n",
      "clean weight: 3.99375\n",
      "damage weight: 4.733333333333333\n",
      "dirt weight: 1.8575581395348837\n"
     ]
    }
   ],
   "source": [
    "#new weights - remove snow images, and macro pic of bird\n",
    "clean = 160 \n",
    "damage = 135\n",
    "dirt = 344\n",
    "total = clean + damage + dirt\n",
    "print(f'total: {total}')\n",
    "clean_weight =  (clean/total)**-1\n",
    "damage_weight = (damage/total)**-1\n",
    "dirt_weight = (dirt/total)**-1\n",
    "print(f\"clean weight: {clean_weight}\")\n",
    "print(f\"damage weight: {damage_weight}\")\n",
    "print(f\"dirt weight: {dirt_weight}\")"
   ]
  },
  {
   "cell_type": "code",
   "execution_count": 10,
   "id": "274fda52",
   "metadata": {},
   "outputs": [
    {
     "name": "stdout",
     "output_type": "stream",
     "text": [
      "Epoch 1/30\n",
      "WARNING:tensorflow:Using a while_loop for converting RngReadAndSkip cause there is no registered converter for this op.\n",
      "WARNING:tensorflow:Using a while_loop for converting Bitcast cause there is no registered converter for this op.\n",
      "WARNING:tensorflow:Using a while_loop for converting Bitcast cause there is no registered converter for this op.\n",
      "WARNING:tensorflow:Using a while_loop for converting StatelessRandomUniformV2 cause there is no registered converter for this op.\n",
      "WARNING:tensorflow:Using a while_loop for converting ImageProjectiveTransformV3 cause there is no registered converter for this op.\n",
      "WARNING:tensorflow:Using a while_loop for converting RngReadAndSkip cause there is no registered converter for this op.\n",
      "WARNING:tensorflow:Using a while_loop for converting Bitcast cause there is no registered converter for this op.\n",
      "WARNING:tensorflow:Using a while_loop for converting Bitcast cause there is no registered converter for this op.\n",
      "WARNING:tensorflow:Using a while_loop for converting StatelessRandomUniformV2 cause there is no registered converter for this op.\n",
      "WARNING:tensorflow:Using a while_loop for converting RngReadAndSkip cause there is no registered converter for this op.\n",
      "WARNING:tensorflow:Using a while_loop for converting Bitcast cause there is no registered converter for this op.\n",
      "WARNING:tensorflow:Using a while_loop for converting Bitcast cause there is no registered converter for this op.\n",
      "WARNING:tensorflow:Using a while_loop for converting StatelessRandomUniformV2 cause there is no registered converter for this op.\n",
      "WARNING:tensorflow:Using a while_loop for converting RngReadAndSkip cause there is no registered converter for this op.\n",
      "WARNING:tensorflow:Using a while_loop for converting Bitcast cause there is no registered converter for this op.\n",
      "WARNING:tensorflow:Using a while_loop for converting Bitcast cause there is no registered converter for this op.\n",
      "WARNING:tensorflow:Using a while_loop for converting StatelessRandomUniformV2 cause there is no registered converter for this op.\n",
      "WARNING:tensorflow:Using a while_loop for converting ImageProjectiveTransformV3 cause there is no registered converter for this op.\n",
      "WARNING:tensorflow:Using a while_loop for converting RngReadAndSkip cause there is no registered converter for this op.\n",
      "WARNING:tensorflow:Using a while_loop for converting Bitcast cause there is no registered converter for this op.\n",
      "WARNING:tensorflow:Using a while_loop for converting Bitcast cause there is no registered converter for this op.\n",
      "WARNING:tensorflow:Using a while_loop for converting StatelessRandomUniformV2 cause there is no registered converter for this op.\n",
      "WARNING:tensorflow:Using a while_loop for converting ImageProjectiveTransformV3 cause there is no registered converter for this op.\n",
      "WARNING:tensorflow:Using a while_loop for converting RngReadAndSkip cause there is no registered converter for this op.\n",
      "WARNING:tensorflow:Using a while_loop for converting Bitcast cause there is no registered converter for this op.\n",
      "WARNING:tensorflow:Using a while_loop for converting Bitcast cause there is no registered converter for this op.\n",
      "WARNING:tensorflow:Using a while_loop for converting StatelessRandomUniformV2 cause there is no registered converter for this op.\n",
      "WARNING:tensorflow:Using a while_loop for converting RngReadAndSkip cause there is no registered converter for this op.\n",
      "WARNING:tensorflow:Using a while_loop for converting Bitcast cause there is no registered converter for this op.\n",
      "WARNING:tensorflow:Using a while_loop for converting Bitcast cause there is no registered converter for this op.\n",
      "WARNING:tensorflow:Using a while_loop for converting StatelessRandomUniformV2 cause there is no registered converter for this op.\n",
      "WARNING:tensorflow:Using a while_loop for converting RngReadAndSkip cause there is no registered converter for this op.\n",
      "WARNING:tensorflow:Using a while_loop for converting Bitcast cause there is no registered converter for this op.\n",
      "WARNING:tensorflow:Using a while_loop for converting Bitcast cause there is no registered converter for this op.\n",
      "WARNING:tensorflow:Using a while_loop for converting StatelessRandomUniformV2 cause there is no registered converter for this op.\n",
      "WARNING:tensorflow:Using a while_loop for converting ImageProjectiveTransformV3 cause there is no registered converter for this op.\n",
      "20/20 [==============================] - 30s 1s/step - loss: 3.2188 - accuracy: 0.4085 - val_loss: 1.0206 - val_accuracy: 0.4889 - lr: 0.0010\n",
      "Epoch 2/30\n",
      "20/20 [==============================] - 29s 1s/step - loss: 2.9232 - accuracy: 0.6072 - val_loss: 0.9339 - val_accuracy: 0.5444 - lr: 0.0010\n",
      "Epoch 3/30\n",
      "20/20 [==============================] - 31s 1s/step - loss: 2.8212 - accuracy: 0.5900 - val_loss: 0.9820 - val_accuracy: 0.5556 - lr: 0.0010\n",
      "Epoch 4/30\n",
      "20/20 [==============================] - 32s 1s/step - loss: 2.7937 - accuracy: 0.6479 - val_loss: 0.9543 - val_accuracy: 0.5556 - lr: 0.0010\n",
      "Epoch 5/30\n",
      "20/20 [==============================] - ETA: 0s - loss: 2.7733 - accuracy: 0.6338\n",
      "Epoch 5: ReduceLROnPlateau reducing learning rate to 0.00010000000474974513.\n",
      "20/20 [==============================] - 32s 2s/step - loss: 2.7733 - accuracy: 0.6338 - val_loss: 0.9422 - val_accuracy: 0.5778 - lr: 0.0010\n",
      "Epoch 6/30\n",
      "20/20 [==============================] - 31s 1s/step - loss: 2.5906 - accuracy: 0.6401 - val_loss: 0.9160 - val_accuracy: 0.5778 - lr: 1.0000e-04\n",
      "Epoch 7/30\n",
      "20/20 [==============================] - 32s 2s/step - loss: 2.5952 - accuracy: 0.6432 - val_loss: 0.9184 - val_accuracy: 0.5889 - lr: 1.0000e-04\n",
      "Epoch 8/30\n",
      "20/20 [==============================] - 33s 2s/step - loss: 2.5764 - accuracy: 0.6557 - val_loss: 0.9056 - val_accuracy: 0.5889 - lr: 1.0000e-04\n",
      "Epoch 9/30\n",
      "20/20 [==============================] - 33s 2s/step - loss: 2.6201 - accuracy: 0.6635 - val_loss: 0.9115 - val_accuracy: 0.6111 - lr: 1.0000e-04\n",
      "Epoch 10/30\n",
      "20/20 [==============================] - 32s 2s/step - loss: 2.6305 - accuracy: 0.6463 - val_loss: 0.8769 - val_accuracy: 0.5889 - lr: 1.0000e-04\n",
      "Epoch 11/30\n",
      "20/20 [==============================] - 33s 2s/step - loss: 2.5188 - accuracy: 0.6448 - val_loss: 0.8618 - val_accuracy: 0.6000 - lr: 1.0000e-04\n",
      "Epoch 12/30\n",
      "20/20 [==============================] - 33s 2s/step - loss: 2.5498 - accuracy: 0.6651 - val_loss: 0.8842 - val_accuracy: 0.6444 - lr: 1.0000e-04\n",
      "Epoch 13/30\n",
      "20/20 [==============================] - 37s 2s/step - loss: 2.5785 - accuracy: 0.6557 - val_loss: 0.8603 - val_accuracy: 0.6222 - lr: 1.0000e-04\n",
      "Epoch 14/30\n",
      "20/20 [==============================] - 38s 2s/step - loss: 2.5691 - accuracy: 0.6588 - val_loss: 0.8447 - val_accuracy: 0.6444 - lr: 1.0000e-04\n",
      "Epoch 15/30\n",
      "20/20 [==============================] - 39s 2s/step - loss: 2.5558 - accuracy: 0.6573 - val_loss: 0.8385 - val_accuracy: 0.6556 - lr: 1.0000e-04\n",
      "Epoch 16/30\n",
      "20/20 [==============================] - 40s 2s/step - loss: 2.5041 - accuracy: 0.6244 - val_loss: 0.8389 - val_accuracy: 0.6333 - lr: 1.0000e-04\n",
      "Epoch 17/30\n",
      "20/20 [==============================] - 44s 2s/step - loss: 2.5737 - accuracy: 0.6354 - val_loss: 0.8292 - val_accuracy: 0.6333 - lr: 1.0000e-04\n",
      "Epoch 18/30\n",
      "20/20 [==============================] - 47s 2s/step - loss: 2.4796 - accuracy: 0.6526 - val_loss: 0.8343 - val_accuracy: 0.6556 - lr: 1.0000e-04\n",
      "Epoch 19/30\n",
      "20/20 [==============================] - 50s 2s/step - loss: 2.4883 - accuracy: 0.6714 - val_loss: 0.8236 - val_accuracy: 0.6889 - lr: 1.0000e-04\n",
      "Epoch 20/30\n",
      "20/20 [==============================] - 72s 4s/step - loss: 2.4100 - accuracy: 0.6620 - val_loss: 0.8318 - val_accuracy: 0.6556 - lr: 1.0000e-04\n",
      "Epoch 21/30\n",
      "20/20 [==============================] - 70s 3s/step - loss: 2.5139 - accuracy: 0.6526 - val_loss: 0.8077 - val_accuracy: 0.6889 - lr: 1.0000e-04\n",
      "Epoch 22/30\n",
      "20/20 [==============================] - 60s 3s/step - loss: 2.4995 - accuracy: 0.6839 - val_loss: 0.8096 - val_accuracy: 0.6889 - lr: 1.0000e-04\n",
      "Epoch 23/30\n",
      "20/20 [==============================] - 47s 2s/step - loss: 2.4210 - accuracy: 0.6870 - val_loss: 0.8002 - val_accuracy: 0.6889 - lr: 1.0000e-04\n",
      "Epoch 24/30\n",
      "20/20 [==============================] - 46s 2s/step - loss: 2.5143 - accuracy: 0.6776 - val_loss: 0.8211 - val_accuracy: 0.6778 - lr: 1.0000e-04\n",
      "Epoch 25/30\n",
      "20/20 [==============================] - 46s 2s/step - loss: 2.4820 - accuracy: 0.6761 - val_loss: 0.8068 - val_accuracy: 0.7000 - lr: 1.0000e-04\n",
      "Epoch 26/30\n",
      "20/20 [==============================] - ETA: 0s - loss: 2.4046 - accuracy: 0.6698\n",
      "Epoch 26: ReduceLROnPlateau reducing learning rate to 1.0000000474974514e-05.\n",
      "20/20 [==============================] - 52s 3s/step - loss: 2.4046 - accuracy: 0.6698 - val_loss: 0.8275 - val_accuracy: 0.6667 - lr: 1.0000e-04\n",
      "Epoch 27/30\n",
      "20/20 [==============================] - 51s 2s/step - loss: 2.4003 - accuracy: 0.6635 - val_loss: 0.8191 - val_accuracy: 0.6778 - lr: 1.0000e-05\n",
      "Epoch 28/30\n",
      "20/20 [==============================] - 53s 3s/step - loss: 2.3657 - accuracy: 0.6604 - val_loss: 0.8133 - val_accuracy: 0.7000 - lr: 1.0000e-05\n",
      "Epoch 29/30\n",
      "20/20 [==============================] - ETA: 0s - loss: 2.3482 - accuracy: 0.6839\n",
      "Epoch 29: ReduceLROnPlateau reducing learning rate to 1.0000000656873453e-06.\n",
      "20/20 [==============================] - 51s 2s/step - loss: 2.3482 - accuracy: 0.6839 - val_loss: 0.8079 - val_accuracy: 0.7000 - lr: 1.0000e-05\n",
      "Epoch 30/30\n",
      "20/20 [==============================] - 55s 3s/step - loss: 2.4597 - accuracy: 0.6667 - val_loss: 0.8069 - val_accuracy: 0.7000 - lr: 1.0000e-06\n",
      "CPU times: user 1h 59min 28s, sys: 9min 21s, total: 2h 8min 50s\n",
      "Wall time: 21min 22s\n"
     ]
    }
   ],
   "source": [
    "%%time\n",
    "#'clean', 'damage', 'dirt'\n",
    "history_multi = model_multi.fit(\n",
    "        train_data,\n",
    "        epochs=30,\n",
    "        validation_data=val_data,\n",
    "        callbacks = [modelCheckpoint, LRreducer, EarlyStopper],\n",
    "        class_weight = {\n",
    "            0: 4.0,\n",
    "            1: 4.7,\n",
    "            2: 1.9\n",
    "        }\n",
    "        )\n"
   ]
  },
  {
   "cell_type": "code",
   "execution_count": null,
   "id": "d8800b62",
   "metadata": {},
   "outputs": [],
   "source": [
    "#improvement = (0.51 - (1/3))/(1/3)\n",
    "#improvement"
   ]
  },
  {
   "cell_type": "code",
   "execution_count": 13,
   "id": "8b5d2757",
   "metadata": {},
   "outputs": [],
   "source": [
    "def plot_history(history):\n",
    "    fig, ax = plt.subplots(1, 2, figsize=(15,5))\n",
    "    ax[0].set_title('loss')\n",
    "    ax[0].plot(history.epoch, history.history[\"loss\"], label=\"Train loss\")\n",
    "    ax[0].plot(history.epoch, history.history[\"val_loss\"], label=\"Validation loss\")\n",
    "    ax[1].set_title('accuracy')\n",
    "    ax[1].plot(history.epoch, history.history[\"accuracy\"], label=\"Train acc\")\n",
    "    ax[1].plot(history.epoch, history.history[\"val_accuracy\"], label=\"Validation acc\")\n",
    "    ax[0].legend()\n",
    "    ax[1].legend()"
   ]
  },
  {
   "cell_type": "code",
   "execution_count": 14,
   "id": "df683832",
   "metadata": {},
   "outputs": [
    {
     "data": {
      "image/png": "[encoded data removed]",
      "text/plain": [
       "<Figure size 1500x500 with 2 Axes>"
      ]
     },
     "metadata": {},
     "output_type": "display_data"
    }
   ],
   "source": [
    "plot_history(history_multi)"
   ]
  },
  {
   "cell_type": "markdown",
   "id": "24ec1d88",
   "metadata": {},
   "source": [
    "### Helper functions"
   ]
  },
  {
   "cell_type": "code",
   "execution_count": 15,
   "id": "f6da0cb1",
   "metadata": {},
   "outputs": [],
   "source": [
    "def find_index_of_max_element(input_list):\n",
    "    max_value = max(input_list)\n",
    "    max_index = input_list.index(max_value)\n",
    "    return max_index"
   ]
  },
  {
   "cell_type": "code",
   "execution_count": 16,
   "id": "bc5a8b84",
   "metadata": {},
   "outputs": [],
   "source": [
    "def predictImage_multiclass(url, model):\n",
    "\n",
    "  # Takes an image and a model\n",
    "\n",
    "  img = url\n",
    "  img = img_to_array(img)\n",
    "  img = img.reshape((-1, 225, 225, 3))\n",
    "  res = model.predict(img)\n",
    "  print(f\"Probabilities: \")\n",
    "  names_of_classes = class_names\n",
    "  print(f\"{names_of_classes}\")\n",
    "  print(f\"{res[0]}\")\n",
    "  print(f\"Result: {names_of_classes[find_index_of_max_element(res[0].tolist())]}\")  \n",
    "  return res "
   ]
  },
  {
   "cell_type": "code",
   "execution_count": null,
   "id": "d59e4e00",
   "metadata": {},
   "outputs": [],
   "source": []
  },
  {
   "cell_type": "code",
   "execution_count": null,
   "id": "20d7dc8c",
   "metadata": {},
   "outputs": [],
   "source": [
    "# img_clean_1 = load_img(f\"raw_data/training-data/clean/Cleaan (4).jpeg\", target_size=(225, 225))\n",
    "# predictImage_multiclass(img_clean_1,model_multi)\n",
    "# plt.imshow(img_clean_1);"
   ]
  },
  {
   "cell_type": "code",
   "execution_count": null,
   "id": "fec8e8f5",
   "metadata": {},
   "outputs": [],
   "source": [
    "# img_clean_1 = load_img(f\"raw_data/training-data/clean/Cleaan (12).jpeg\", target_size=(225, 225))\n",
    "# predictImage_multiclass(img_clean_1,model_multi)\n",
    "# plt.imshow(img_clean_1);"
   ]
  },
  {
   "cell_type": "code",
   "execution_count": null,
   "id": "4a3d357a",
   "metadata": {},
   "outputs": [],
   "source": [
    "# img_clean_1 = load_img(f\"raw_data/training-data/clean/Cleaan (21).jpeg\", target_size=(225, 225))\n",
    "# predictImage_multiclass(img_clean_1,model_multi)\n",
    "# plt.imshow(img_clean_1);"
   ]
  },
  {
   "cell_type": "markdown",
   "id": "2039e84b",
   "metadata": {},
   "source": [
    "### Snow"
   ]
  },
  {
   "cell_type": "code",
   "execution_count": null,
   "id": "c33b8635",
   "metadata": {},
   "outputs": [],
   "source": [
    "# img_snow = load_img(f\"raw_data/training-data/solar/Solar (3).jpeg\", target_size=(225, 225))\n",
    "# predictImage_multiclass(img_snow,model_multi)\n",
    "# plt.imshow(img_snow);"
   ]
  },
  {
   "cell_type": "code",
   "execution_count": null,
   "id": "b9a27615",
   "metadata": {},
   "outputs": [],
   "source": [
    "# img_snow = load_img(f\"raw_data/training-data/solar/Solar (12).jpeg\", target_size=(225, 225))\n",
    "# predictImage_multiclass(img_snow,model_multi)\n",
    "# plt.imshow(img_snow);"
   ]
  },
  {
   "cell_type": "code",
   "execution_count": null,
   "id": "d1ef96fb",
   "metadata": {},
   "outputs": [],
   "source": [
    "# img_snow = load_img(f\"raw_data/training-data/solar/Solar (33).jpeg\", target_size=(225, 225))\n",
    "# predictImage_multiclass(img_snow,model_multi)\n",
    "# plt.imshow(img_snow);"
   ]
  },
  {
   "cell_type": "markdown",
   "id": "0b6e2603",
   "metadata": {},
   "source": [
    "### Bird or dust\n"
   ]
  },
  {
   "cell_type": "code",
   "execution_count": null,
   "id": "22b286d2",
   "metadata": {},
   "outputs": [],
   "source": [
    "##pics bird 37,55,59,  --> macro pic on brid drop --> predicting wrong class\n",
    "# pic 65\n",
    "# img_physical = load_img(f\"raw_data/training-data/bird/Bird (65).jpeg\", target_size=(225, 225))\n",
    "# predictImage_multiclass(img_physical,model_multi)\n",
    "# plt.imshow(img_physical);"
   ]
  },
  {
   "cell_type": "code",
   "execution_count": null,
   "id": "d2ebd73b",
   "metadata": {},
   "outputs": [],
   "source": [
    "# img_physical = load_img(f\"raw_data/training-data/bird/Bird (5).jpeg\", target_size=(225, 225))\n",
    "# predictImage_multiclass(img_physical,model_multi)\n",
    "# plt.imshow(img_physical);"
   ]
  },
  {
   "cell_type": "code",
   "execution_count": null,
   "id": "30800da0",
   "metadata": {},
   "outputs": [],
   "source": [
    "#img_physical = load_img(f\"raw_data/training-data-exp/dirt/Bird (47).jpeg\", target_size=(225, 225))\n",
    "#predictImage_multiclass(img_physical,model_multi)\n",
    "#plt.imshow(img_physical);"
   ]
  },
  {
   "cell_type": "code",
   "execution_count": 17,
   "id": "46053e10",
   "metadata": {},
   "outputs": [],
   "source": [
    "def predictImage_multiclass(url, model):\n",
    "\n",
    "  # Takes an image and a model\n",
    "\n",
    "  img = url\n",
    "  img = img_to_array(img)\n",
    "  img = img.reshape((-1, 225, 225, 3))\n",
    "  res = model.predict(img)\n",
    "  names_of_classes = classes1\n",
    "  #print(f\"{names_of_classes}\")\n",
    "  print(f\"Probabilities: {res[0]}\")\n",
    "  print(f\"Predicted label: {names_of_classes[find_index_of_max_element(res[0].tolist())]}\")  \n",
    "  return res "
   ]
  },
  {
   "cell_type": "code",
   "execution_count": 11,
   "id": "81984441",
   "metadata": {},
   "outputs": [
    {
     "name": "stdout",
     "output_type": "stream",
     "text": [
      "(0,)\n",
      "1/1 [==============================] - 1s 524ms/step\n",
      "pred (32,)\n",
      "label shape ()\n",
      "1/1 [==============================] - 0s 412ms/step\n",
      "pred (32,)\n",
      "label shape ()\n",
      "1/1 [==============================] - 0s 478ms/step\n",
      "pred (26,)\n",
      "label shape ()\n",
      "              precision    recall  f1-score   support\n",
      "\n",
      "       clean       0.62      1.00      0.77        30\n",
      "      damage       0.84      0.53      0.65        30\n",
      "        dirt       0.74      0.57      0.64        30\n",
      "\n",
      "    accuracy                           0.70        90\n",
      "   macro avg       0.74      0.70      0.69        90\n",
      "weighted avg       0.74      0.70      0.69        90\n",
      "\n"
     ]
    }
   ],
   "source": [
    "import numpy as np\n",
    "from tensorflow.math import confusion_matrix\n",
    "from sklearn.metrics import classification_report\n",
    "\n",
    "\n",
    "predictions = np.array([])\n",
    "print(predictions.shape)\n",
    "labels =  np.array([])\n",
    "for x, y in val_data:\n",
    "    \n",
    "  pred = model_multi.predict(x)\n",
    "  pred = np.argmax(pred, axis=-1)\n",
    "  print(f\"pred {pred.shape}\")\n",
    "  predictions = np.concatenate([predictions, pred ])\n",
    "  label =  np.argmax(y.numpy(), axis=-1)\n",
    "  print(f\"label shape {label.shape}\")\n",
    "  labels = np.concatenate([labels, y])  #np.argmax(y.numpy()\n",
    "\n",
    "report = classification_report(labels, predictions, target_names=classes1)\n",
    "\n",
    "print(report)"
   ]
  },
  {
   "cell_type": "code",
   "execution_count": 12,
   "id": "bece1e0c",
   "metadata": {},
   "outputs": [
    {
     "data": {
      "text/plain": [
       "array([[30,  0,  0],\n",
       "       [ 8, 16,  6],\n",
       "       [10,  3, 17]], dtype=int32)"
      ]
     },
     "execution_count": 12,
     "metadata": {},
     "output_type": "execute_result"
    }
   ],
   "source": [
    "confusion_matrix(labels=labels, predictions=predictions).numpy()\n"
   ]
  },
  {
   "cell_type": "code",
   "execution_count": null,
   "id": "68390771-fc68-4952-9ad9-03292e23786a",
   "metadata": {},
   "outputs": [],
   "source": [
    "for x, y in val_data:\n",
    "    for img, label in zip(x,y):\n",
    "        plt.imshow(img)\n",
    "        predictImage_multiclass(img,model_multi)\n",
    "        print(f'True label: {classes1[label]}')\n",
    "        print('-------------------------------------------------')\n",
    "    "
   ]
  },
  {
   "cell_type": "code",
   "execution_count": null,
   "id": "0ecfe199-148d-41d7-802d-d646f0bd2ddb",
   "metadata": {},
   "outputs": [],
   "source": [
    "paths = os.listdir(os.path.join(test_data_dir,'damage'))\n",
    "paths\n",
    "for count, path in enumerate(paths):\n",
    "    print(path)\n",
    "    img = load_img(os.path.join(test_data_dir,'damage',path), target_size=(225, 225))\n",
    "    predictImage_multiclass(img,model_multi)\n",
    "    #plt.imshow(img);\n",
    "    print(\"---------------------\")"
   ]
  },
  {
   "cell_type": "code",
   "execution_count": null,
   "id": "79ba22d8-0d03-41b3-b053-65c42e4d4449",
   "metadata": {},
   "outputs": [],
   "source": [
    "img = load_img(os.path.join(test_data_dir,'damage','Physical-damaged (9).jpeg'), target_size=(225, 225))\n",
    "plt.imshow(img);"
   ]
  },
  {
   "cell_type": "markdown",
   "id": "27ae9b69",
   "metadata": {},
   "source": [
    "## Test data"
   ]
  },
  {
   "cell_type": "code",
   "execution_count": null,
   "id": "8933bde5",
   "metadata": {},
   "outputs": [],
   "source": [
    "# batch_size = 8\n",
    "# test_data_dir = \"raw_data/exp-test-data/\"\n",
    "\n",
    "# test_data = image_dataset_from_directory(\n",
    "#   test_data_dir,\n",
    "#   #labels = \"inferred\",\n",
    "#   label_mode = \"int\",  \n",
    "#   seed=123,\n",
    "#   image_size=(225, 225),\n",
    "#   batch_size=batch_size,\n",
    "# ) \n"
   ]
  },
  {
   "cell_type": "code",
   "execution_count": null,
   "id": "8eba35b8",
   "metadata": {},
   "outputs": [],
   "source": [
    "# predictions = np.array([])\n",
    "# print(predictions.shape)\n",
    "# labels =  np.array([])\n",
    "# for x, y in test_data:\n",
    "    \n",
    "#   pred = model_multi.predict(x)\n",
    "#   pred = np.argmax(pred, axis=-1)\n",
    "#   print(f\"pred {pred.shape}\")\n",
    "#   predictions = np.concatenate([predictions, pred ])\n",
    "#   label =  np.argmax(y.numpy(), axis=-1)\n",
    "#   print(f\"label shape {label.shape}\")\n",
    "#   labels = np.concatenate([labels, y])  #np.argmax(y.numpy()\n",
    "\n",
    "# report = classification_report(labels, predictions, target_names=classes1)\n",
    "\n",
    "# print(report)"
   ]
  },
  {
   "cell_type": "code",
   "execution_count": null,
   "id": "34175573",
   "metadata": {},
   "outputs": [],
   "source": [
    "confusion_matrix(labels=labels, predictions=predictions).numpy()"
   ]
  },
  {
   "cell_type": "code",
   "execution_count": null,
   "id": "5ac0348f",
   "metadata": {},
   "outputs": [],
   "source": []
  }
 ],
 "metadata": {
  "kernelspec": {
   "display_name": "Python 3 (ipykernel)",
   "language": "python",
   "name": "python3"
  },
  "language_info": {
   "codemirror_mode": {
    "name": "ipython",
    "version": 3
   },
   "file_extension": ".py",
   "mimetype": "text/x-python",
   "name": "python",
   "nbconvert_exporter": "python",
   "pygments_lexer": "ipython3",
   "version": "3.10.6"
  },
  "toc": {
   "base_numbering": 1,
   "nav_menu": {},
   "number_sections": true,
   "sideBar": true,
   "skip_h1_title": false,
   "title_cell": "Table of Contents",
   "title_sidebar": "Contents",
   "toc_cell": false,
   "toc_position": {},
   "toc_section_display": true,
   "toc_window_display": false
  }
 },
 "nbformat": 4,
 "nbformat_minor": 5
}
